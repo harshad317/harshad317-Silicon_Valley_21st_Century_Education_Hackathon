{
  "nbformat": 4,
  "nbformat_minor": 0,
  "metadata": {
    "colab": {
      "name": "Silicon Valley 21st Century Education Hackathon.ipynb",
      "provenance": [],
      "authorship_tag": "ABX9TyOxz2mCNMl9KPEJbZ5QgOzY",
      "include_colab_link": true
    },
    "kernelspec": {
      "name": "python3",
      "display_name": "Python 3"
    },
    "language_info": {
      "name": "python"
    },
    "accelerator": "GPU"
  },
  "cells": [
    {
      "cell_type": "markdown",
      "metadata": {
        "id": "view-in-github",
        "colab_type": "text"
      },
      "source": [
        "<a href=\"https://colab.research.google.com/github/harshad317/harshad317-Silicon_Valley_21st_Century_Education_Hackathon/blob/main/Silicon_Valley_21st_Century_Education_Hackathon.ipynb\" target=\"_parent\"><img src=\"https://colab.research.google.com/assets/colab-badge.svg\" alt=\"Open In Colab\"/></a>"
      ]
    },
    {
      "cell_type": "code",
      "metadata": {
        "id": "7CKtfyyz8XKd"
      },
      "source": [
        "#!pip install optuna\n",
        "#!pip install catboost\n",
        "#!pip install feature_engine\n",
        "#!pip install category_encoders\n",
        "#!pip install rfpimp\n",
        "#!pip install interpret"
      ],
      "execution_count": null,
      "outputs": []
    },
    {
      "cell_type": "code",
      "metadata": {
        "colab": {
          "base_uri": "https://localhost:8080/"
        },
        "id": "jyryE2mH8k91",
        "outputId": "19c316f3-a1ac-4975-e54d-aa94ca2b9583"
      },
      "source": [
        "import pandas as pd\n",
        "import numpy as np\n",
        "import matplotlib.pyplot as plt\n",
        "import seaborn as sns\n",
        "\n",
        "from sklearn.preprocessing import MinMaxScaler, PowerTransformer, QuantileTransformer, StandardScaler, RobustScaler, KBinsDiscretizer, LabelEncoder, PolynomialFeatures\n",
        "from sklearn.model_selection import train_test_split, StratifiedKFold, TimeSeriesSplit, KFold, GridSearchCV, RepeatedKFold\n",
        "from itertools import combinations\n",
        "from tqdm.notebook import tqdm\n",
        "from rfpimp import permutation_importances\n",
        "from lightgbm import LGBMRegressor\n",
        "from xgboost import XGBRegressor\n",
        "from sklearn.metrics import mean_absolute_error\n",
        "from catboost import CatBoostRegressor\n",
        "import scipy.stats as stats\n",
        "from sklearn.ensemble import RandomForestRegressor, BaggingRegressor, ExtraTreesRegressor\n",
        "from sklearn.linear_model import LinearRegression, Ridge, Lasso, LassoCV, RidgeCV\n",
        "import optuna\n",
        "from category_encoders import CatBoostEncoder, LeaveOneOutEncoder, BinaryEncoder, JamesSteinEncoder, WOEEncoder, TargetEncoder\n",
        "from scipy.stats import chi2_contingency\n",
        "from feature_engine.encoding import PRatioEncoder, MeanEncoder\n",
        "from sklearn.decomposition import NMF\n",
        "from rfpimp import permutation_importances\n",
        "from feature_engine.outliers import Winsorizer\n",
        "from scipy.stats import spearmanr"
      ],
      "execution_count": null,
      "outputs": [
        {
          "output_type": "stream",
          "text": [
            "/usr/local/lib/python3.7/dist-packages/sklearn/utils/deprecation.py:144: FutureWarning: The sklearn.ensemble.forest module is  deprecated in version 0.22 and will be removed in version 0.24. The corresponding classes / functions should instead be imported from sklearn.ensemble. Anything that cannot be imported from sklearn.ensemble is now part of the private API.\n",
            "  warnings.warn(message, FutureWarning)\n"
          ],
          "name": "stderr"
        }
      ]
    },
    {
      "cell_type": "code",
      "metadata": {
        "id": "6LhF2a_P9DUP"
      },
      "source": [
        "train = pd.read_csv('Train.csv')\n",
        "test = pd.read_csv('Test.csv')\n",
        "sample = pd.read_csv('SampleSubmission.csv')"
      ],
      "execution_count": null,
      "outputs": []
    },
    {
      "cell_type": "markdown",
      "metadata": {
        "id": "5A7nTZED9geD"
      },
      "source": [
        "ID : Unique ID\n",
        "\n",
        "CountryCode : Country Code\n",
        "\n",
        "region_code :  Region Code\n",
        "\n",
        "year : Year\n",
        "\n",
        "sex : Sex\n",
        "\n",
        "agefrom : Starting Age\n",
        "\n",
        "ageto : Finishing Age\n",
        "\n",
        "percentage_no_schooling : Percentage of No Schooling Attained in Pop.\n",
        "\n",
        "percentage_primary_schooling : Percentage of Primary Schooling Attained in Pop.\n",
        "\n",
        "percentage_primary_schooling_completed : Percentage of Complete Primary \n",
        "Schooling Attained in Pop.\n",
        "\n",
        "percentage_secondary_schooling : Percentage of Secondary Schooling Attained in Pop.\n",
        "\n",
        "percentage_secondary_schooling_completed : Percentage of Complete Secondary Schooling Attained in Pop.\n",
        "\n",
        "percentage_tertiary_schooling : Percentage of Tertiary Schooling Attained in Pop.\n",
        "\n",
        "percentage_tertiary_schooling_completed : Percentage of Complete Tertiary Schooling Attained in Pop.\n",
        "\n",
        "yr_sch : Average Years of Schooling Attained\n",
        "\n",
        "literate_pop : Literate population\n",
        "\n",
        "target = LR : Literacy rate (in percentage)"
      ]
    },
    {
      "cell_type": "code",
      "metadata": {
        "id": "bnJmrMvEJK3v"
      },
      "source": [
        "train = train.drop(['ageto'], axis= 1)\n",
        "test = test.drop(['ageto'], axis= 1)"
      ],
      "execution_count": null,
      "outputs": []
    },
    {
      "cell_type": "code",
      "metadata": {
        "colab": {
          "base_uri": "https://localhost:8080/"
        },
        "id": "_7YMcn9vJyh7",
        "outputId": "f2392bdf-b415-4fb7-b861-0b820324ab25"
      },
      "source": [
        "train.shape, test.shape"
      ],
      "execution_count": null,
      "outputs": [
        {
          "output_type": "execute_result",
          "data": {
            "text/plain": [
              "((14016, 16), (1168, 15))"
            ]
          },
          "metadata": {
            "tags": []
          },
          "execution_count": 5
        }
      ]
    },
    {
      "cell_type": "code",
      "metadata": {
        "colab": {
          "base_uri": "https://localhost:8080/",
          "height": 356
        },
        "id": "E0qh0_EY9P0M",
        "outputId": "8b81e16f-afd9-4739-9220-794526bef38e"
      },
      "source": [
        "train.head()"
      ],
      "execution_count": null,
      "outputs": [
        {
          "output_type": "execute_result",
          "data": {
            "text/html": [
              "<div>\n",
              "<style scoped>\n",
              "    .dataframe tbody tr th:only-of-type {\n",
              "        vertical-align: middle;\n",
              "    }\n",
              "\n",
              "    .dataframe tbody tr th {\n",
              "        vertical-align: top;\n",
              "    }\n",
              "\n",
              "    .dataframe thead th {\n",
              "        text-align: right;\n",
              "    }\n",
              "</style>\n",
              "<table border=\"1\" class=\"dataframe\">\n",
              "  <thead>\n",
              "    <tr style=\"text-align: right;\">\n",
              "      <th></th>\n",
              "      <th>ID</th>\n",
              "      <th>countryCode</th>\n",
              "      <th>year</th>\n",
              "      <th>sex</th>\n",
              "      <th>agefrom</th>\n",
              "      <th>percentage_no_schooling</th>\n",
              "      <th>percentage_primary_schooling</th>\n",
              "      <th>percentage_primary_schooling_completed</th>\n",
              "      <th>percentage_secondary_schooling</th>\n",
              "      <th>percentage_secondary_schooling_completed</th>\n",
              "      <th>percentage_tertiary_schooling</th>\n",
              "      <th>percentage_tertiary_schooling_completed</th>\n",
              "      <th>yr_sch</th>\n",
              "      <th>region_code</th>\n",
              "      <th>literate_pop</th>\n",
              "      <th>target</th>\n",
              "    </tr>\n",
              "  </thead>\n",
              "  <tbody>\n",
              "    <tr>\n",
              "      <th>0</th>\n",
              "      <td>ID_00AMK8K</td>\n",
              "      <td>155</td>\n",
              "      <td>1990</td>\n",
              "      <td>MF</td>\n",
              "      <td>15</td>\n",
              "      <td>8.3900</td>\n",
              "      <td>26.270000</td>\n",
              "      <td>15.830000</td>\n",
              "      <td>58.570000</td>\n",
              "      <td>26.420000</td>\n",
              "      <td>6.770000</td>\n",
              "      <td>4.400000</td>\n",
              "      <td>8.540000</td>\n",
              "      <td>Latin America and the Caribbean</td>\n",
              "      <td>7435.0</td>\n",
              "      <td>91.609167</td>\n",
              "    </tr>\n",
              "    <tr>\n",
              "      <th>1</th>\n",
              "      <td>ID_00ANS9C</td>\n",
              "      <td>115</td>\n",
              "      <td>2005</td>\n",
              "      <td>MF</td>\n",
              "      <td>25</td>\n",
              "      <td>0.6325</td>\n",
              "      <td>6.980833</td>\n",
              "      <td>6.363333</td>\n",
              "      <td>77.683333</td>\n",
              "      <td>49.995833</td>\n",
              "      <td>14.700833</td>\n",
              "      <td>13.546667</td>\n",
              "      <td>11.631667</td>\n",
              "      <td>Europe and Central Asia</td>\n",
              "      <td>14350.0</td>\n",
              "      <td>99.362969</td>\n",
              "    </tr>\n",
              "    <tr>\n",
              "      <th>2</th>\n",
              "      <td>ID_00AQU1S</td>\n",
              "      <td>30</td>\n",
              "      <td>2000</td>\n",
              "      <td>M</td>\n",
              "      <td>15</td>\n",
              "      <td>68.5300</td>\n",
              "      <td>26.320000</td>\n",
              "      <td>16.020000</td>\n",
              "      <td>4.620000</td>\n",
              "      <td>2.320000</td>\n",
              "      <td>0.540000</td>\n",
              "      <td>0.310000</td>\n",
              "      <td>1.550000</td>\n",
              "      <td>Sub-Saharan Africa</td>\n",
              "      <td>1458.0</td>\n",
              "      <td>31.469890</td>\n",
              "    </tr>\n",
              "    <tr>\n",
              "      <th>3</th>\n",
              "      <td>ID_00AVQ7Q</td>\n",
              "      <td>143</td>\n",
              "      <td>1960</td>\n",
              "      <td>MF</td>\n",
              "      <td>15</td>\n",
              "      <td>12.5300</td>\n",
              "      <td>69.370000</td>\n",
              "      <td>49.260000</td>\n",
              "      <td>8.130000</td>\n",
              "      <td>1.100000</td>\n",
              "      <td>9.970000</td>\n",
              "      <td>5.510000</td>\n",
              "      <td>7.490000</td>\n",
              "      <td>Latin America and the Caribbean</td>\n",
              "      <td>45.0</td>\n",
              "      <td>86.538462</td>\n",
              "    </tr>\n",
              "    <tr>\n",
              "      <th>4</th>\n",
              "      <td>ID_00BAH2C</td>\n",
              "      <td>70</td>\n",
              "      <td>1955</td>\n",
              "      <td>MF</td>\n",
              "      <td>25</td>\n",
              "      <td>20.9800</td>\n",
              "      <td>55.900000</td>\n",
              "      <td>22.380000</td>\n",
              "      <td>20.850000</td>\n",
              "      <td>10.240000</td>\n",
              "      <td>2.270000</td>\n",
              "      <td>1.950000</td>\n",
              "      <td>4.890000</td>\n",
              "      <td>Latin America and the Caribbean</td>\n",
              "      <td>2380.0</td>\n",
              "      <td>79.017264</td>\n",
              "    </tr>\n",
              "  </tbody>\n",
              "</table>\n",
              "</div>"
            ],
            "text/plain": [
              "           ID  countryCode  ...  literate_pop     target\n",
              "0  ID_00AMK8K          155  ...        7435.0  91.609167\n",
              "1  ID_00ANS9C          115  ...       14350.0  99.362969\n",
              "2  ID_00AQU1S           30  ...        1458.0  31.469890\n",
              "3  ID_00AVQ7Q          143  ...          45.0  86.538462\n",
              "4  ID_00BAH2C           70  ...        2380.0  79.017264\n",
              "\n",
              "[5 rows x 16 columns]"
            ]
          },
          "metadata": {
            "tags": []
          },
          "execution_count": 6
        }
      ]
    },
    {
      "cell_type": "code",
      "metadata": {
        "id": "o7E4WGjNHrZj"
      },
      "source": [
        "ids = test.ID"
      ],
      "execution_count": null,
      "outputs": []
    },
    {
      "cell_type": "code",
      "metadata": {
        "id": "eNDy3i9AK4Pv"
      },
      "source": [
        "df = pd.concat([train, test], axis= 0)"
      ],
      "execution_count": null,
      "outputs": []
    },
    {
      "cell_type": "code",
      "metadata": {
        "colab": {
          "base_uri": "https://localhost:8080/",
          "height": 705
        },
        "id": "RyKo5CLVIntC",
        "outputId": "d498acc9-a420-4341-8bd0-df2c6621dff0"
      },
      "source": [
        "plt.figure(figsize=(25,10))\n",
        "sns.heatmap(df.corr(), annot= True)"
      ],
      "execution_count": null,
      "outputs": [
        {
          "output_type": "execute_result",
          "data": {
            "text/plain": [
              "<matplotlib.axes._subplots.AxesSubplot at 0x7f34ad7ff510>"
            ]
          },
          "metadata": {
            "tags": []
          },
          "execution_count": 9
        },
        {
          "output_type": "display_data",
          "data": {
            "image/png": "[encoded data removed]",
            "text/plain": [
              "<Figure size 1800x720 with 2 Axes>"
            ]
          },
          "metadata": {
            "tags": [],
            "needs_background": "light"
          }
        }
      ]
    },
    {
      "cell_type": "code",
      "metadata": {
        "id": "N5q6oRDkdN1o"
      },
      "source": [
        "#df['country+year']= df.countryCode + df.year\n",
        "#df['country-year']= df.countryCode - df.year\n",
        "#df['country*year']= df.countryCode * df.year\n",
        "#df['country/year']= df.countryCode / df.year"
      ],
      "execution_count": null,
      "outputs": []
    },
    {
      "cell_type": "code",
      "metadata": {
        "colab": {
          "base_uri": "https://localhost:8080/",
          "height": 356
        },
        "id": "4gt88QMw5TXZ",
        "outputId": "63de0e0a-322b-4aeb-96ef-d54828788389"
      },
      "source": [
        "df.head()"
      ],
      "execution_count": null,
      "outputs": [
        {
          "output_type": "execute_result",
          "data": {
            "text/html": [
              "<div>\n",
              "<style scoped>\n",
              "    .dataframe tbody tr th:only-of-type {\n",
              "        vertical-align: middle;\n",
              "    }\n",
              "\n",
              "    .dataframe tbody tr th {\n",
              "        vertical-align: top;\n",
              "    }\n",
              "\n",
              "    .dataframe thead th {\n",
              "        text-align: right;\n",
              "    }\n",
              "</style>\n",
              "<table border=\"1\" class=\"dataframe\">\n",
              "  <thead>\n",
              "    <tr style=\"text-align: right;\">\n",
              "      <th></th>\n",
              "      <th>ID</th>\n",
              "      <th>countryCode</th>\n",
              "      <th>year</th>\n",
              "      <th>sex</th>\n",
              "      <th>agefrom</th>\n",
              "      <th>percentage_no_schooling</th>\n",
              "      <th>percentage_primary_schooling</th>\n",
              "      <th>percentage_primary_schooling_completed</th>\n",
              "      <th>percentage_secondary_schooling</th>\n",
              "      <th>percentage_secondary_schooling_completed</th>\n",
              "      <th>percentage_tertiary_schooling</th>\n",
              "      <th>percentage_tertiary_schooling_completed</th>\n",
              "      <th>yr_sch</th>\n",
              "      <th>region_code</th>\n",
              "      <th>literate_pop</th>\n",
              "      <th>target</th>\n",
              "    </tr>\n",
              "  </thead>\n",
              "  <tbody>\n",
              "    <tr>\n",
              "      <th>0</th>\n",
              "      <td>ID_00AMK8K</td>\n",
              "      <td>155</td>\n",
              "      <td>1990</td>\n",
              "      <td>MF</td>\n",
              "      <td>15</td>\n",
              "      <td>8.3900</td>\n",
              "      <td>26.270000</td>\n",
              "      <td>15.830000</td>\n",
              "      <td>58.570000</td>\n",
              "      <td>26.420000</td>\n",
              "      <td>6.770000</td>\n",
              "      <td>4.400000</td>\n",
              "      <td>8.540000</td>\n",
              "      <td>Latin America and the Caribbean</td>\n",
              "      <td>7435.0</td>\n",
              "      <td>91.609167</td>\n",
              "    </tr>\n",
              "    <tr>\n",
              "      <th>1</th>\n",
              "      <td>ID_00ANS9C</td>\n",
              "      <td>115</td>\n",
              "      <td>2005</td>\n",
              "      <td>MF</td>\n",
              "      <td>25</td>\n",
              "      <td>0.6325</td>\n",
              "      <td>6.980833</td>\n",
              "      <td>6.363333</td>\n",
              "      <td>77.683333</td>\n",
              "      <td>49.995833</td>\n",
              "      <td>14.700833</td>\n",
              "      <td>13.546667</td>\n",
              "      <td>11.631667</td>\n",
              "      <td>Europe and Central Asia</td>\n",
              "      <td>14350.0</td>\n",
              "      <td>99.362969</td>\n",
              "    </tr>\n",
              "    <tr>\n",
              "      <th>2</th>\n",
              "      <td>ID_00AQU1S</td>\n",
              "      <td>30</td>\n",
              "      <td>2000</td>\n",
              "      <td>M</td>\n",
              "      <td>15</td>\n",
              "      <td>68.5300</td>\n",
              "      <td>26.320000</td>\n",
              "      <td>16.020000</td>\n",
              "      <td>4.620000</td>\n",
              "      <td>2.320000</td>\n",
              "      <td>0.540000</td>\n",
              "      <td>0.310000</td>\n",
              "      <td>1.550000</td>\n",
              "      <td>Sub-Saharan Africa</td>\n",
              "      <td>1458.0</td>\n",
              "      <td>31.469890</td>\n",
              "    </tr>\n",
              "    <tr>\n",
              "      <th>3</th>\n",
              "      <td>ID_00AVQ7Q</td>\n",
              "      <td>143</td>\n",
              "      <td>1960</td>\n",
              "      <td>MF</td>\n",
              "      <td>15</td>\n",
              "      <td>12.5300</td>\n",
              "      <td>69.370000</td>\n",
              "      <td>49.260000</td>\n",
              "      <td>8.130000</td>\n",
              "      <td>1.100000</td>\n",
              "      <td>9.970000</td>\n",
              "      <td>5.510000</td>\n",
              "      <td>7.490000</td>\n",
              "      <td>Latin America and the Caribbean</td>\n",
              "      <td>45.0</td>\n",
              "      <td>86.538462</td>\n",
              "    </tr>\n",
              "    <tr>\n",
              "      <th>4</th>\n",
              "      <td>ID_00BAH2C</td>\n",
              "      <td>70</td>\n",
              "      <td>1955</td>\n",
              "      <td>MF</td>\n",
              "      <td>25</td>\n",
              "      <td>20.9800</td>\n",
              "      <td>55.900000</td>\n",
              "      <td>22.380000</td>\n",
              "      <td>20.850000</td>\n",
              "      <td>10.240000</td>\n",
              "      <td>2.270000</td>\n",
              "      <td>1.950000</td>\n",
              "      <td>4.890000</td>\n",
              "      <td>Latin America and the Caribbean</td>\n",
              "      <td>2380.0</td>\n",
              "      <td>79.017264</td>\n",
              "    </tr>\n",
              "  </tbody>\n",
              "</table>\n",
              "</div>"
            ],
            "text/plain": [
              "           ID  countryCode  ...  literate_pop     target\n",
              "0  ID_00AMK8K          155  ...        7435.0  91.609167\n",
              "1  ID_00ANS9C          115  ...       14350.0  99.362969\n",
              "2  ID_00AQU1S           30  ...        1458.0  31.469890\n",
              "3  ID_00AVQ7Q          143  ...          45.0  86.538462\n",
              "4  ID_00BAH2C           70  ...        2380.0  79.017264\n",
              "\n",
              "[5 rows x 16 columns]"
            ]
          },
          "metadata": {
            "tags": []
          },
          "execution_count": 11
        }
      ]
    },
    {
      "cell_type": "code",
      "metadata": {
        "id": "EaKtqaS05U0Z",
        "colab": {
          "base_uri": "https://localhost:8080/",
          "height": 171
        },
        "outputId": "a224a84c-2a38-441c-9010-59891fbbfdf7"
      },
      "source": [
        "df.countryCode.min()"
      ],
      "execution_count": null,
      "outputs": [
        {
          "output_type": "error",
          "ename": "NameError",
          "evalue": "ignored",
          "traceback": [
            "\u001b[0;31m---------------------------------------------------------------------------\u001b[0m",
            "\u001b[0;31mNameError\u001b[0m                                 Traceback (most recent call last)",
            "\u001b[0;32m<ipython-input-1-44724fb0a6bf>\u001b[0m in \u001b[0;36m<module>\u001b[0;34m()\u001b[0m\n\u001b[0;32m----> 1\u001b[0;31m \u001b[0mdf\u001b[0m\u001b[0;34m.\u001b[0m\u001b[0mcountryCode\u001b[0m\u001b[0;34m.\u001b[0m\u001b[0mmin\u001b[0m\u001b[0;34m(\u001b[0m\u001b[0;34m)\u001b[0m\u001b[0;34m\u001b[0m\u001b[0;34m\u001b[0m\u001b[0m\n\u001b[0m",
            "\u001b[0;31mNameError\u001b[0m: name 'df' is not defined"
          ]
        }
      ]
    },
    {
      "cell_type": "code",
      "metadata": {
        "id": "iiEDr-UndNyw"
      },
      "source": [
        "df['actual_primary'] = df.percentage_primary_schooling - df.percentage_primary_schooling_completed\n",
        "df['actual_secondary'] = df.percentage_secondary_schooling - df.percentage_secondary_schooling_completed\n",
        "df['actual_tertiary'] = df.percentage_tertiary_schooling - df.percentage_tertiary_schooling_completed"
      ],
      "execution_count": null,
      "outputs": []
    },
    {
      "cell_type": "code",
      "metadata": {
        "id": "zNVs71GKdNv3"
      },
      "source": [
        "df['total'] = df.actual_primary + df.actual_secondary + df.actual_tertiary\n",
        "df['real_deal'] = df.total - df.percentage_no_schooling"
      ],
      "execution_count": null,
      "outputs": []
    },
    {
      "cell_type": "code",
      "metadata": {
        "id": "ChqfAYCi5e7V"
      },
      "source": [
        "df['lets_see']= df.literate_pop - (df.literate_pop * df.total)/100"
      ],
      "execution_count": null,
      "outputs": []
    },
    {
      "cell_type": "code",
      "metadata": {
        "id": "sJF3VS6hUbqy"
      },
      "source": [
        "'''df['country_by_year'] = df.countryCode.astype(str) + '_' + df.year.astype(str)\n",
        "df['country_by_sex'] = df.countryCode.astype(str) + '_' + df.sex.astype(str)\n",
        "df['country_by_agefrom'] = df.countryCode.astype(str) + '_' + df.agefrom.astype(str)\n",
        "df['country_by_region'] = df.countryCode.astype(str) + '_' + df.region_code.astype(str)\n",
        "df['year_by_sex'] = df.year.astype(str) + '_' + df.sex.astype(str)\n",
        "df['year_by_agefrom'] = df.year.astype(str) + '_' + df.agefrom.astype(str)\n",
        "df['year_by_region'] = df.year.astype(str) + '_' + df.region_code.astype(str)\n",
        "df['sex_by_agefrom'] = df.sex.astype(str) + '_' + df.agefrom.astype(str)\n",
        "df['sex_by_region'] = df.sex.astype(str) + '_' + df.region_code.astype(str)'''"
      ],
      "execution_count": null,
      "outputs": []
    },
    {
      "cell_type": "code",
      "metadata": {
        "id": "HofnFTBgUbng"
      },
      "source": [
        ""
      ],
      "execution_count": null,
      "outputs": []
    },
    {
      "cell_type": "code",
      "metadata": {
        "id": "YA34lOekUbkW"
      },
      "source": [
        ""
      ],
      "execution_count": null,
      "outputs": []
    },
    {
      "cell_type": "code",
      "metadata": {
        "id": "cmV8CPBUMZCx"
      },
      "source": [
        "df['literate_by_country_mean']= df.groupby(['countryCode'])['literate_pop'].transform('mean')\n",
        "df['literate_by_country_median']= df.groupby(['countryCode'])['literate_pop'].transform('median')"
      ],
      "execution_count": null,
      "outputs": []
    },
    {
      "cell_type": "code",
      "metadata": {
        "colab": {
          "base_uri": "https://localhost:8080/"
        },
        "id": "RtkVqcSdRLIZ",
        "outputId": "75a08c91-92c8-4c25-e5a8-bdb5a1efc343"
      },
      "source": [
        "df.region_code.unique()"
      ],
      "execution_count": null,
      "outputs": [
        {
          "output_type": "execute_result",
          "data": {
            "text/plain": [
              "array(['Latin America and the Caribbean', 'Europe and Central Asia',\n",
              "       'Sub-Saharan Africa', 'East Asia and the Pacific', 'South Asia',\n",
              "       'Advanced Economies', 'Middle East and North Africa'], dtype=object)"
            ]
          },
          "metadata": {
            "tags": []
          },
          "execution_count": 18
        }
      ]
    },
    {
      "cell_type": "code",
      "metadata": {
        "id": "t_pByWVQRRNE"
      },
      "source": [
        "reg = pd.get_dummies(df.region_code, drop_first=True, prefix = 'reg_')\n",
        "df = df.drop('region_code', axis= 1)\n",
        "df = pd.concat([df,reg], axis= 1)"
      ],
      "execution_count": null,
      "outputs": []
    },
    {
      "cell_type": "code",
      "metadata": {
        "id": "gW0TwmdUQehF"
      },
      "source": [
        "sex = pd.get_dummies(df.sex, drop_first=True, prefix= 'sex_')\n",
        "df = df.drop('sex', axis= 1)\n",
        "df = pd.concat([df,sex], axis= 1)"
      ],
      "execution_count": null,
      "outputs": []
    },
    {
      "cell_type": "code",
      "metadata": {
        "id": "3ZNtGtMqfTPa"
      },
      "source": [
        "age = pd.get_dummies(df.agefrom, drop_first=True, prefix= 'age_')\n",
        "df = df.drop('agefrom', axis= 1)\n",
        "df = pd.concat([df,age], axis= 1)"
      ],
      "execution_count": null,
      "outputs": []
    },
    {
      "cell_type": "code",
      "metadata": {
        "colab": {
          "base_uri": "https://localhost:8080/"
        },
        "id": "b6kHV6fgZOzA",
        "outputId": "c5742b34-d4a9-4c62-b857-97797bdbe2b4"
      },
      "source": [
        "[var for var in df.columns if df[var].dtypes == 'O']"
      ],
      "execution_count": null,
      "outputs": [
        {
          "output_type": "execute_result",
          "data": {
            "text/plain": [
              "['ID']"
            ]
          },
          "metadata": {
            "tags": []
          },
          "execution_count": 22
        }
      ]
    },
    {
      "cell_type": "code",
      "metadata": {
        "id": "T-P_MWs0ZYUk"
      },
      "source": [
        "cat_cols = ['countryCode',\n",
        " 'year',\n",
        " 'agefrom',\n",
        " 'country_by_year',\n",
        " 'country_by_sex',\n",
        " 'country_by_agefrom',\n",
        " 'country_by_region',\n",
        " 'year_by_sex',\n",
        " 'year_by_agefrom',\n",
        " 'year_by_region',\n",
        " 'sex_by_agefrom',\n",
        " 'sex_by_region']"
      ],
      "execution_count": null,
      "outputs": []
    },
    {
      "cell_type": "code",
      "metadata": {
        "id": "EVcDFzyzZeFC"
      },
      "source": [
        ""
      ],
      "execution_count": null,
      "outputs": []
    },
    {
      "cell_type": "code",
      "metadata": {
        "colab": {
          "base_uri": "https://localhost:8080/"
        },
        "id": "Rirh2LJCHrUj",
        "outputId": "01fa01ef-da5e-4bad-8e42-2c48f74379ba"
      },
      "source": [
        "[var for var in df.columns if df[var].dtypes != 'O']"
      ],
      "execution_count": null,
      "outputs": [
        {
          "output_type": "execute_result",
          "data": {
            "text/plain": [
              "['countryCode',\n",
              " 'year',\n",
              " 'agefrom',\n",
              " 'percentage_no_schooling',\n",
              " 'percentage_primary_schooling',\n",
              " 'percentage_primary_schooling_completed',\n",
              " 'percentage_secondary_schooling',\n",
              " 'percentage_secondary_schooling_completed',\n",
              " 'percentage_tertiary_schooling',\n",
              " 'percentage_tertiary_schooling_completed',\n",
              " 'yr_sch',\n",
              " 'literate_pop',\n",
              " 'target']"
            ]
          },
          "metadata": {
            "tags": []
          },
          "execution_count": 7
        }
      ]
    },
    {
      "cell_type": "code",
      "metadata": {
        "id": "0STFGOhtHrRh"
      },
      "source": [
        "cont_cols = ['countryCode',\n",
        " 'year',\n",
        " 'agefrom',\n",
        " 'percentage_no_schooling',\n",
        " 'percentage_primary_schooling',\n",
        " 'percentage_primary_schooling_completed',\n",
        " 'percentage_secondary_schooling',\n",
        " 'percentage_secondary_schooling_completed',\n",
        " 'percentage_tertiary_schooling',\n",
        " 'percentage_tertiary_schooling_completed',\n",
        " 'yr_sch',\n",
        " 'literate_pop']"
      ],
      "execution_count": null,
      "outputs": []
    },
    {
      "cell_type": "code",
      "metadata": {
        "id": "bm6ty7cjM3gD"
      },
      "source": [
        "train = df[:14016]\n",
        "test = df[14016:]"
      ],
      "execution_count": null,
      "outputs": []
    },
    {
      "cell_type": "code",
      "metadata": {
        "colab": {
          "base_uri": "https://localhost:8080/"
        },
        "id": "gn4aXR3QZig0",
        "outputId": "6384cac0-bf66-40c1-c41c-fe989d756254"
      },
      "source": [
        "from category_encoders import BinaryEncoder, JamesSteinEncoder\n",
        "\n",
        "be = JamesSteinEncoder(sigma=0.1)\n",
        "train[cat_cols] = be.fit_transform(train[cat_cols], train['target'])\n",
        "test[cat_cols] = be.transform(test[cat_cols])"
      ],
      "execution_count": null,
      "outputs": [
        {
          "output_type": "stream",
          "text": [
            "/usr/local/lib/python3.7/dist-packages/category_encoders/utils.py:21: FutureWarning:\n",
            "\n",
            "is_categorical is deprecated and will be removed in a future version.  Use is_categorical_dtype instead\n",
            "\n",
            "/usr/local/lib/python3.7/dist-packages/pandas/core/frame.py:3069: SettingWithCopyWarning:\n",
            "\n",
            "\n",
            "A value is trying to be set on a copy of a slice from a DataFrame.\n",
            "Try using .loc[row_indexer,col_indexer] = value instead\n",
            "\n",
            "See the caveats in the documentation: https://pandas.pydata.org/pandas-docs/stable/user_guide/indexing.html#returning-a-view-versus-a-copy\n",
            "\n"
          ],
          "name": "stderr"
        }
      ]
    },
    {
      "cell_type": "code",
      "metadata": {
        "id": "UlSHD6RNHrPC"
      },
      "source": [
        "X_train = train[cont_cols]\n",
        "y_train = train['target']\n",
        "X_test = test[cont_cols]"
      ],
      "execution_count": null,
      "outputs": []
    },
    {
      "cell_type": "code",
      "metadata": {
        "id": "ViIXyxtXaMSV"
      },
      "source": [
        "lgbm_param = {'reg_lambda': 1.0879346904638683,\n",
        " 'reg_alpha': 2.317557821178951,\n",
        " 'colsample_bytree': 1.0,\n",
        " 'subsample': 0.7,\n",
        " 'learning_rate': 0.09985870233548036,\n",
        " 'max_depth': 15,\n",
        " 'min_child_weight': 8}"
      ],
      "execution_count": null,
      "outputs": []
    },
    {
      "cell_type": "code",
      "metadata": {
        "colab": {
          "base_uri": "https://localhost:8080/"
        },
        "id": "1i0duDNVlWgL",
        "outputId": "ecbca013-a6d1-4c1e-fc67-98ea57695eb0"
      },
      "source": [
        "RandomForestRegressor()"
      ],
      "execution_count": null,
      "outputs": [
        {
          "output_type": "execute_result",
          "data": {
            "text/plain": [
              "RandomForestRegressor(bootstrap=True, ccp_alpha=0.0, criterion='mse',\n",
              "                      max_depth=None, max_features='auto', max_leaf_nodes=None,\n",
              "                      max_samples=None, min_impurity_decrease=0.0,\n",
              "                      min_impurity_split=None, min_samples_leaf=1,\n",
              "                      min_samples_split=2, min_weight_fraction_leaf=0.0,\n",
              "                      n_estimators=100, n_jobs=None, oob_score=False,\n",
              "                      random_state=None, verbose=0, warm_start=False)"
            ]
          },
          "metadata": {
            "tags": []
          },
          "execution_count": 34
        }
      ]
    },
    {
      "cell_type": "code",
      "metadata": {
        "colab": {
          "base_uri": "https://localhost:8080/"
        },
        "id": "dknG_ojUHrMT",
        "outputId": "89649acf-6a2a-42b8-880d-e0ebb35310e1"
      },
      "source": [
        "n_folds = 10\n",
        "subbed = []\n",
        "kf = KFold(n_splits=n_folds, shuffle=True, random_state=10)\n",
        "\n",
        "\n",
        "for fold, (train_idx, test_idx) in enumerate(kf.split(X_train, y_train)):\n",
        "    print('=============== Fold No:',fold+1,'===============')\n",
        "    X_tr, X_tst = X_train.iloc[train_idx], X_train.iloc[test_idx]\n",
        "    y_tr, y_tst = y_train.iloc[train_idx], y_train.iloc[test_idx]\n",
        "    \n",
        "    model = XGBRegressor(n_estimators=4841,eval_metric= 'mae', objective='reg:squarederror')\n",
        "    model.fit(X_tr, y_tr,eval_set=[(X_tst, y_tst)],verbose=1000)\n",
        "    print(mean_absolute_error(y_tst, model.predict(X_tst)))\n",
        "    subbed.append(mean_absolute_error(y_tst, model.predict(X_tst)))\n",
        "    pred = model.predict(X_test)\n",
        "print(np.mean(subbed))"
      ],
      "execution_count": null,
      "outputs": [
        {
          "output_type": "stream",
          "text": [
            "=============== Fold No: 1 ===============\n",
            "[0]\tvalidation_0-mae:57.597\n",
            "[1000]\tvalidation_0-mae:0.134035\n",
            "[2000]\tvalidation_0-mae:0.113918\n",
            "[3000]\tvalidation_0-mae:0.107668\n",
            "[4000]\tvalidation_0-mae:0.105244\n",
            "[4840]\tvalidation_0-mae:0.103024\n",
            "0.10302370584320943\n",
            "=============== Fold No: 2 ===============\n",
            "[0]\tvalidation_0-mae:59.6604\n",
            "[1000]\tvalidation_0-mae:0.136628\n",
            "[2000]\tvalidation_0-mae:0.118445\n",
            "[3000]\tvalidation_0-mae:0.11202\n",
            "[4000]\tvalidation_0-mae:0.109505\n",
            "[4840]\tvalidation_0-mae:0.108205\n",
            "0.10820465460895122\n",
            "=============== Fold No: 3 ===============\n",
            "[0]\tvalidation_0-mae:58.2994\n",
            "[1000]\tvalidation_0-mae:0.123902\n",
            "[2000]\tvalidation_0-mae:0.107\n",
            "[3000]\tvalidation_0-mae:0.101438\n",
            "[4000]\tvalidation_0-mae:0.098399\n",
            "[4840]\tvalidation_0-mae:0.096598\n",
            "0.09659799247246714\n",
            "=============== Fold No: 4 ===============\n",
            "[0]\tvalidation_0-mae:57.4813\n",
            "[1000]\tvalidation_0-mae:0.135097\n",
            "[2000]\tvalidation_0-mae:0.116126\n",
            "[3000]\tvalidation_0-mae:0.110303\n",
            "[4000]\tvalidation_0-mae:0.108106\n",
            "[4840]\tvalidation_0-mae:0.107044\n",
            "0.10704402607644525\n",
            "=============== Fold No: 5 ===============\n",
            "[0]\tvalidation_0-mae:56.8385\n",
            "[1000]\tvalidation_0-mae:0.1394\n",
            "[2000]\tvalidation_0-mae:0.119459\n",
            "[3000]\tvalidation_0-mae:0.112926\n",
            "[4000]\tvalidation_0-mae:0.109178\n",
            "[4840]\tvalidation_0-mae:0.1081\n",
            "0.10810018832418544\n",
            "=============== Fold No: 6 ===============\n",
            "[0]\tvalidation_0-mae:58.2334\n",
            "[1000]\tvalidation_0-mae:0.140781\n",
            "[2000]\tvalidation_0-mae:0.124502\n",
            "[3000]\tvalidation_0-mae:0.116747\n",
            "[4000]\tvalidation_0-mae:0.113362\n",
            "[4840]\tvalidation_0-mae:0.111709\n",
            "0.1117091542055657\n",
            "=============== Fold No: 7 ===============\n",
            "[0]\tvalidation_0-mae:58.1379\n",
            "[1000]\tvalidation_0-mae:0.143433\n",
            "[2000]\tvalidation_0-mae:0.121201\n",
            "[3000]\tvalidation_0-mae:0.114203\n",
            "[4000]\tvalidation_0-mae:0.110512\n",
            "[4840]\tvalidation_0-mae:0.10888\n",
            "0.10887948003133835\n",
            "=============== Fold No: 8 ===============\n",
            "[0]\tvalidation_0-mae:56.9333\n",
            "[1000]\tvalidation_0-mae:0.135283\n",
            "[2000]\tvalidation_0-mae:0.119291\n",
            "[3000]\tvalidation_0-mae:0.111572\n",
            "[4000]\tvalidation_0-mae:0.108518\n",
            "[4840]\tvalidation_0-mae:0.106486\n",
            "0.10648641313342327\n",
            "=============== Fold No: 9 ===============\n",
            "[0]\tvalidation_0-mae:58.1503\n",
            "[1000]\tvalidation_0-mae:0.13015\n",
            "[2000]\tvalidation_0-mae:0.114143\n",
            "[3000]\tvalidation_0-mae:0.1073\n",
            "[4000]\tvalidation_0-mae:0.10423\n",
            "[4840]\tvalidation_0-mae:0.102566\n",
            "0.1025651631513458\n",
            "=============== Fold No: 10 ===============\n",
            "[0]\tvalidation_0-mae:57.6823\n",
            "[1000]\tvalidation_0-mae:0.140755\n",
            "[2000]\tvalidation_0-mae:0.121775\n",
            "[3000]\tvalidation_0-mae:0.114128\n",
            "[4000]\tvalidation_0-mae:0.110907\n",
            "[4840]\tvalidation_0-mae:0.109498\n",
            "0.1094988164488433\n",
            "0.10621095942957748\n"
          ],
          "name": "stdout"
        }
      ]
    },
    {
      "cell_type": "code",
      "metadata": {
        "id": "57BpmIyZ1cok"
      },
      "source": [
        "# function for creating a feature importance dataframe\n",
        "def imp_df(column_names, importances):\n",
        "    df = pd.DataFrame({'feature': column_names,\n",
        "                       'feature_importance': importances}) \\\n",
        "           .sort_values('feature_importance', ascending = False) \\\n",
        "           .reset_index(drop = True)\n",
        "    return df\n",
        "\n",
        "# plotting a feature importance dataframe (horizontal barchart)\n",
        "def var_imp_plot(imp_df):\n",
        "    plt.figure(figsize=(15,10))\n",
        "    imp_df.columns = ['feature', 'feature_importance']\n",
        "    sns.barplot(x = 'feature_importance', y = 'feature', data = imp_df, orient = 'h', color = 'royalblue')"
      ],
      "execution_count": null,
      "outputs": []
    },
    {
      "cell_type": "code",
      "metadata": {
        "id": "tmNYE-W31cl-"
      },
      "source": [
        "def r2(rf, X_train, y_train):\n",
        "    return mean_absolute_error(y_train, model.predict(X_train))\n",
        "\n",
        "perm_imp_rfpimp = permutation_importances(model, X_train, y_train, r2)\n",
        "perm_imp_rfpimp.reset_index(drop = False, inplace = True)"
      ],
      "execution_count": null,
      "outputs": []
    },
    {
      "cell_type": "code",
      "metadata": {
        "colab": {
          "base_uri": "https://localhost:8080/",
          "height": 606
        },
        "id": "s27edylc1cf7",
        "outputId": "ad58f2dd-9b7b-433d-8642-a82d874f6139"
      },
      "source": [
        "var_imp_plot(perm_imp_rfpimp)"
      ],
      "execution_count": null,
      "outputs": [
        {
          "output_type": "display_data",
          "data": {
            "image/png": "[encoded data removed]",
            "text/plain": [
              "<Figure size 1080x720 with 1 Axes>"
            ]
          },
          "metadata": {
            "tags": [],
            "needs_background": "light"
          }
        }
      ]
    },
    {
      "cell_type": "code",
      "metadata": {
        "id": "d2rtqdw61cdH"
      },
      "source": [
        "#model = XGBRegressor(eval_metric= 'mae', objective='reg:squarederror', **param)\n",
        "#model.fit(X_tr, y_tr,eval_set=[(X_tst, y_tst)], early_stopping_rounds=50,verbose=100)"
      ],
      "execution_count": null,
      "outputs": []
    },
    {
      "cell_type": "code",
      "metadata": {
        "id": "_vDmco4TObWZ"
      },
      "source": [
        "X = train[cont_cols]\n",
        "y = train['target']"
      ],
      "execution_count": null,
      "outputs": []
    },
    {
      "cell_type": "code",
      "metadata": {
        "id": "t1tJUdsIHrJU"
      },
      "source": [
        "def objective(trial,data=X,target=y):\n",
        "    \n",
        "    train_x, test_x, train_y, test_y = train_test_split(data, target, test_size=0.15,random_state=42)\n",
        "    \n",
        "    # To select which parameters to optimize, please look at the XGBoost documentation:\n",
        "    # https://xgboost.readthedocs.io/en/latest/parameter.html\n",
        "    param = {\n",
        "        #'objective': 'regression',\n",
        "        #'tree_method':'gpu_hist',  # Use GPU acceleration\n",
        "        'reg_lambda': trial.suggest_loguniform(\n",
        "            'reg_lambda', 1e-3, 10.0\n",
        "        ),\n",
        "        'reg_alpha': trial.suggest_loguniform(\n",
        "            'reg_alpha', 1e-3, 10.0\n",
        "        ),\n",
        "        'colsample_bytree': trial.suggest_categorical(\n",
        "            'colsample_bytree', [0.5,0.6,0.7,0.8,0.9,1.0]\n",
        "        ),\n",
        "        'subsample': trial.suggest_categorical(\n",
        "            'subsample', [0.5,0.6,0.7,0.8,0.9,1.0]\n",
        "        ),\n",
        "        'learning_rate': trial.suggest_loguniform(\n",
        "            'learning_rate', 1e-5, 1e-1\n",
        "        ),\n",
        "        'max_depth': trial.suggest_int(\n",
        "            'max_depth', 2,50\n",
        "        ),\n",
        "        'random_state': 2021,\n",
        "        'min_child_weight': trial.suggest_int(\n",
        "            'min_child_weight', 1, 300\n",
        "        ),\n",
        "    }\n",
        "    n_folds = 10\n",
        "    subbed = []\n",
        "    kf = KFold(n_splits=n_folds, shuffle=True, random_state=10)\n",
        "\n",
        "\n",
        "    for fold, (train_idx, test_idx) in enumerate(kf.split(train_x, train_y)):\n",
        "        #print('=============== Fold No:',fold+1,'===============')\n",
        "        X_tr, X_tst = train_x.iloc[train_idx], train_x.iloc[test_idx]\n",
        "        y_tr, y_tst = train_y.iloc[train_idx], train_y.iloc[test_idx]\n",
        "    \n",
        "        model = LGBMRegressor(metric= 'l1', **param)\n",
        "        model.fit(X_tr, y_tr,eval_set=[(X_tst, y_tst)], early_stopping_rounds=50,verbose=100)\n",
        "        #print(r2_score(y_tst, model.predict(X_tst)))\n",
        "        subbed.append(mean_absolute_error(y_tst, model.predict(X_tst)))\n",
        "    return (np.mean(subbed))"
      ],
      "execution_count": null,
      "outputs": []
    },
    {
      "cell_type": "code",
      "metadata": {
        "colab": {
          "base_uri": "https://localhost:8080/",
          "height": 1000
        },
        "id": "Fk10SsNSHrGa",
        "outputId": "3403cc89-595e-49c1-c238-8929dabc950b"
      },
      "source": [
        "study = optuna.create_study(direction='minimize')\n",
        "study.optimize(objective, n_trials=300)\n",
        "print('Number of finished trials:', len(study.trials))\n",
        "print('Best trial:', study.best_trial.params)"
      ],
      "execution_count": null,
      "outputs": [
        {
          "output_type": "stream",
          "text": [
            "\u001b[32m[I 2021-06-30 17:50:04,007]\u001b[0m A new study created in memory with name: no-name-9f28fee1-d398-42df-a9b8-672899d4e90a\u001b[0m\n"
          ],
          "name": "stderr"
        },
        {
          "output_type": "stream",
          "text": [
            "Training until validation scores don't improve for 50 rounds.\n",
            "[100]\tvalid_0's l1: 27.008\n",
            "Did not meet early stopping. Best iteration is:\n",
            "[100]\tvalid_0's l1: 27.008\n",
            "Training until validation scores don't improve for 50 rounds.\n",
            "[100]\tvalid_0's l1: 26.0962\n",
            "Did not meet early stopping. Best iteration is:\n",
            "[100]\tvalid_0's l1: 26.0962\n",
            "Training until validation scores don't improve for 50 rounds.\n",
            "[100]\tvalid_0's l1: 26.9378\n",
            "Did not meet early stopping. Best iteration is:\n",
            "[100]\tvalid_0's l1: 26.9378\n",
            "Training until validation scores don't improve for 50 rounds.\n",
            "[100]\tvalid_0's l1: 26.7101\n",
            "Did not meet early stopping. Best iteration is:\n",
            "[100]\tvalid_0's l1: 26.7101\n",
            "Training until validation scores don't improve for 50 rounds.\n",
            "[100]\tvalid_0's l1: 26.1686\n",
            "Did not meet early stopping. Best iteration is:\n",
            "[100]\tvalid_0's l1: 26.1686\n",
            "Training until validation scores don't improve for 50 rounds.\n",
            "[100]\tvalid_0's l1: 26.0137\n",
            "Did not meet early stopping. Best iteration is:\n",
            "[100]\tvalid_0's l1: 26.0137\n",
            "Training until validation scores don't improve for 50 rounds.\n",
            "[100]\tvalid_0's l1: 26.3559\n",
            "Did not meet early stopping. Best iteration is:\n",
            "[100]\tvalid_0's l1: 26.3559\n",
            "Training until validation scores don't improve for 50 rounds.\n",
            "[100]\tvalid_0's l1: 25.9347\n",
            "Did not meet early stopping. Best iteration is:\n",
            "[100]\tvalid_0's l1: 25.9347\n",
            "Training until validation scores don't improve for 50 rounds.\n",
            "[100]\tvalid_0's l1: 26.5346\n",
            "Did not meet early stopping. Best iteration is:\n",
            "[100]\tvalid_0's l1: 26.5346\n"
          ],
          "name": "stdout"
        },
        {
          "output_type": "stream",
          "text": [
            "\u001b[32m[I 2021-06-30 17:50:05,864]\u001b[0m Trial 0 finished with value: 26.424690044904953 and parameters: {'reg_lambda': 0.5190118393155492, 'reg_alpha': 0.02041470640914184, 'colsample_bytree': 0.7, 'subsample': 1.0, 'learning_rate': 0.00015536658106972366, 'max_depth': 45, 'min_child_weight': 231}. Best is trial 0 with value: 26.424690044904953.\u001b[0m\n"
          ],
          "name": "stderr"
        },
        {
          "output_type": "stream",
          "text": [
            "Training until validation scores don't improve for 50 rounds.\n",
            "[100]\tvalid_0's l1: 26.4872\n",
            "Did not meet early stopping. Best iteration is:\n",
            "[100]\tvalid_0's l1: 26.4872\n",
            "[LightGBM] [Warning] Accuracy may be bad since you didn't set num_leaves and 2^max_depth > num_leaves\n",
            "Training until validation scores don't improve for 50 rounds.\n",
            "[100]\tvalid_0's l1: 27.2671\n",
            "Did not meet early stopping. Best iteration is:\n",
            "[100]\tvalid_0's l1: 27.2671\n",
            "[LightGBM] [Warning] Accuracy may be bad since you didn't set num_leaves and 2^max_depth > num_leaves\n",
            "Training until validation scores don't improve for 50 rounds.\n",
            "[100]\tvalid_0's l1: 26.3469\n",
            "Did not meet early stopping. Best iteration is:\n",
            "[100]\tvalid_0's l1: 26.3469\n",
            "[LightGBM] [Warning] Accuracy may be bad since you didn't set num_leaves and 2^max_depth > num_leaves\n",
            "Training until validation scores don't improve for 50 rounds.\n",
            "[100]\tvalid_0's l1: 27.1969\n",
            "Did not meet early stopping. Best iteration is:\n",
            "[100]\tvalid_0's l1: 27.1969\n",
            "[LightGBM] [Warning] Accuracy may be bad since you didn't set num_leaves and 2^max_depth > num_leaves\n",
            "Training until validation scores don't improve for 50 rounds.\n",
            "[100]\tvalid_0's l1: 26.9672\n",
            "Did not meet early stopping. Best iteration is:\n",
            "[100]\tvalid_0's l1: 26.9672\n",
            "[LightGBM] [Warning] Accuracy may be bad since you didn't set num_leaves and 2^max_depth > num_leaves\n",
            "Training until validation scores don't improve for 50 rounds.\n",
            "[100]\tvalid_0's l1: 26.4192\n",
            "Did not meet early stopping. Best iteration is:\n",
            "[100]\tvalid_0's l1: 26.4192\n",
            "[LightGBM] [Warning] Accuracy may be bad since you didn't set num_leaves and 2^max_depth > num_leaves\n",
            "Training until validation scores don't improve for 50 rounds.\n",
            "[100]\tvalid_0's l1: 26.2607\n",
            "Did not meet early stopping. Best iteration is:\n",
            "[100]\tvalid_0's l1: 26.2607\n",
            "[LightGBM] [Warning] Accuracy may be bad since you didn't set num_leaves and 2^max_depth > num_leaves\n",
            "Training until validation scores don't improve for 50 rounds.\n",
            "[100]\tvalid_0's l1: 26.6094\n",
            "Did not meet early stopping. Best iteration is:\n",
            "[100]\tvalid_0's l1: 26.6094\n",
            "[LightGBM] [Warning] Accuracy may be bad since you didn't set num_leaves and 2^max_depth > num_leaves\n",
            "Training until validation scores don't improve for 50 rounds.\n",
            "[100]\tvalid_0's l1: 26.1828\n",
            "Did not meet early stopping. Best iteration is:\n",
            "[100]\tvalid_0's l1: 26.1828\n",
            "[LightGBM] [Warning] Accuracy may be bad since you didn't set num_leaves and 2^max_depth > num_leaves\n",
            "Training until validation scores don't improve for 50 rounds.\n",
            "[100]\tvalid_0's l1: 26.7878\n",
            "Did not meet early stopping. Best iteration is:\n",
            "[100]\tvalid_0's l1: 26.7878\n",
            "[LightGBM] [Warning] Accuracy may be bad since you didn't set num_leaves and 2^max_depth > num_leaves\n",
            "Training until validation scores don't improve for 50 rounds.\n"
          ],
          "name": "stdout"
        },
        {
          "output_type": "stream",
          "text": [
            "\u001b[32m[I 2021-06-30 17:50:07,925]\u001b[0m Trial 1 finished with value: 26.67789860319109 and parameters: {'reg_lambda': 3.0640139807806888, 'reg_alpha': 0.5811820186651494, 'colsample_bytree': 0.9, 'subsample': 0.7, 'learning_rate': 5.687876686183363e-05, 'max_depth': 28, 'min_child_weight': 31}. Best is trial 0 with value: 26.424690044904953.\u001b[0m\n"
          ],
          "name": "stderr"
        },
        {
          "output_type": "stream",
          "text": [
            "[100]\tvalid_0's l1: 26.741\n",
            "Did not meet early stopping. Best iteration is:\n",
            "[100]\tvalid_0's l1: 26.741\n",
            "[LightGBM] [Warning] Accuracy may be bad since you didn't set num_leaves and 2^max_depth > num_leaves\n",
            "Training until validation scores don't improve for 50 rounds.\n",
            "[100]\tvalid_0's l1: 26.7982\n",
            "Did not meet early stopping. Best iteration is:\n",
            "[100]\tvalid_0's l1: 26.7982\n",
            "[LightGBM] [Warning] Accuracy may be bad since you didn't set num_leaves and 2^max_depth > num_leaves\n",
            "Training until validation scores don't improve for 50 rounds.\n",
            "[100]\tvalid_0's l1: 25.8934\n",
            "Did not meet early stopping. Best iteration is:\n",
            "[100]\tvalid_0's l1: 25.8934\n",
            "[LightGBM] [Warning] Accuracy may be bad since you didn't set num_leaves and 2^max_depth > num_leaves\n",
            "Training until validation scores don't improve for 50 rounds.\n",
            "[100]\tvalid_0's l1: 26.7301\n",
            "Did not meet early stopping. Best iteration is:\n",
            "[100]\tvalid_0's l1: 26.7301\n",
            "[LightGBM] [Warning] Accuracy may be bad since you didn't set num_leaves and 2^max_depth > num_leaves\n",
            "Training until validation scores don't improve for 50 rounds.\n",
            "[100]\tvalid_0's l1: 26.5049\n",
            "Did not meet early stopping. Best iteration is:\n",
            "[100]\tvalid_0's l1: 26.5049\n",
            "[LightGBM] [Warning] Accuracy may be bad since you didn't set num_leaves and 2^max_depth > num_leaves\n",
            "Training until validation scores don't improve for 50 rounds.\n",
            "[100]\tvalid_0's l1: 25.965\n",
            "Did not meet early stopping. Best iteration is:\n",
            "[100]\tvalid_0's l1: 25.965\n",
            "[LightGBM] [Warning] Accuracy may be bad since you didn't set num_leaves and 2^max_depth > num_leaves\n",
            "Training until validation scores don't improve for 50 rounds.\n",
            "[100]\tvalid_0's l1: 25.81\n",
            "Did not meet early stopping. Best iteration is:\n",
            "[100]\tvalid_0's l1: 25.81\n",
            "[LightGBM] [Warning] Accuracy may be bad since you didn't set num_leaves and 2^max_depth > num_leaves\n",
            "Training until validation scores don't improve for 50 rounds.\n",
            "[100]\tvalid_0's l1: 26.1523\n",
            "Did not meet early stopping. Best iteration is:\n",
            "[100]\tvalid_0's l1: 26.1523\n",
            "[LightGBM] [Warning] Accuracy may be bad since you didn't set num_leaves and 2^max_depth > num_leaves\n",
            "Training until validation scores don't improve for 50 rounds.\n",
            "[100]\tvalid_0's l1: 25.732\n",
            "Did not meet early stopping. Best iteration is:\n",
            "[100]\tvalid_0's l1: 25.732\n",
            "[LightGBM] [Warning] Accuracy may be bad since you didn't set num_leaves and 2^max_depth > num_leaves\n",
            "Training until validation scores don't improve for 50 rounds.\n",
            "[100]\tvalid_0's l1: 26.327\n",
            "Did not meet early stopping. Best iteration is:\n",
            "[100]\tvalid_0's l1: 26.327\n",
            "[LightGBM] [Warning] Accuracy may be bad since you didn't set num_leaves and 2^max_depth > num_leaves\n",
            "Training until validation scores don't improve for 50 rounds.\n"
          ],
          "name": "stdout"
        },
        {
          "output_type": "stream",
          "text": [
            "\u001b[32m[I 2021-06-30 17:50:10,623]\u001b[0m Trial 2 finished with value: 26.21932166673951 and parameters: {'reg_lambda': 0.10939400536082493, 'reg_alpha': 0.004205534470543025, 'colsample_bytree': 1.0, 'subsample': 0.5, 'learning_rate': 0.00022985025922795025, 'max_depth': 23, 'min_child_weight': 69}. Best is trial 2 with value: 26.21932166673951.\u001b[0m\n"
          ],
          "name": "stderr"
        },
        {
          "output_type": "stream",
          "text": [
            "[100]\tvalid_0's l1: 26.2803\n",
            "Did not meet early stopping. Best iteration is:\n",
            "[100]\tvalid_0's l1: 26.2803\n",
            "[LightGBM] [Warning] Accuracy may be bad since you didn't set num_leaves and 2^max_depth > num_leaves\n",
            "Training until validation scores don't improve for 50 rounds.\n",
            "[100]\tvalid_0's l1: 27.3328\n",
            "Did not meet early stopping. Best iteration is:\n",
            "[100]\tvalid_0's l1: 27.3328\n",
            "[LightGBM] [Warning] Accuracy may be bad since you didn't set num_leaves and 2^max_depth > num_leaves\n",
            "Training until validation scores don't improve for 50 rounds.\n",
            "[100]\tvalid_0's l1: 26.4105\n",
            "Did not meet early stopping. Best iteration is:\n",
            "[100]\tvalid_0's l1: 26.4105\n",
            "[LightGBM] [Warning] Accuracy may be bad since you didn't set num_leaves and 2^max_depth > num_leaves\n",
            "Training until validation scores don't improve for 50 rounds.\n",
            "[100]\tvalid_0's l1: 27.2628\n",
            "Did not meet early stopping. Best iteration is:\n",
            "[100]\tvalid_0's l1: 27.2628\n",
            "[LightGBM] [Warning] Accuracy may be bad since you didn't set num_leaves and 2^max_depth > num_leaves\n",
            "Training until validation scores don't improve for 50 rounds.\n",
            "[100]\tvalid_0's l1: 27.0325\n",
            "Did not meet early stopping. Best iteration is:\n",
            "[100]\tvalid_0's l1: 27.0325\n",
            "[LightGBM] [Warning] Accuracy may be bad since you didn't set num_leaves and 2^max_depth > num_leaves\n",
            "Training until validation scores don't improve for 50 rounds.\n",
            "[100]\tvalid_0's l1: 26.483\n",
            "Did not meet early stopping. Best iteration is:\n",
            "[100]\tvalid_0's l1: 26.483\n",
            "[LightGBM] [Warning] Accuracy may be bad since you didn't set num_leaves and 2^max_depth > num_leaves\n",
            "Training until validation scores don't improve for 50 rounds.\n",
            "[100]\tvalid_0's l1: 26.3242\n",
            "Did not meet early stopping. Best iteration is:\n",
            "[100]\tvalid_0's l1: 26.3242\n",
            "[LightGBM] [Warning] Accuracy may be bad since you didn't set num_leaves and 2^max_depth > num_leaves\n",
            "Training until validation scores don't improve for 50 rounds.\n",
            "[100]\tvalid_0's l1: 26.6739\n",
            "Did not meet early stopping. Best iteration is:\n",
            "[100]\tvalid_0's l1: 26.6739\n",
            "[LightGBM] [Warning] Accuracy may be bad since you didn't set num_leaves and 2^max_depth > num_leaves\n",
            "Training until validation scores don't improve for 50 rounds.\n",
            "[100]\tvalid_0's l1: 26.2461\n",
            "Did not meet early stopping. Best iteration is:\n",
            "[100]\tvalid_0's l1: 26.2461\n",
            "[LightGBM] [Warning] Accuracy may be bad since you didn't set num_leaves and 2^max_depth > num_leaves\n",
            "Training until validation scores don't improve for 50 rounds.\n",
            "[100]\tvalid_0's l1: 26.8526\n",
            "Did not meet early stopping. Best iteration is:\n",
            "[100]\tvalid_0's l1: 26.8526\n",
            "[LightGBM] [Warning] Accuracy may be bad since you didn't set num_leaves and 2^max_depth > num_leaves\n",
            "Training until validation scores don't improve for 50 rounds.\n"
          ],
          "name": "stdout"
        },
        {
          "output_type": "stream",
          "text": [
            "\u001b[32m[I 2021-06-30 17:50:12,421]\u001b[0m Trial 3 finished with value: 26.742383001963965 and parameters: {'reg_lambda': 2.155296080335089, 'reg_alpha': 0.24575510543676912, 'colsample_bytree': 0.9, 'subsample': 1.0, 'learning_rate': 3.2538018755077955e-05, 'max_depth': 9, 'min_child_weight': 230}. Best is trial 2 with value: 26.21932166673951.\u001b[0m\n"
          ],
          "name": "stderr"
        },
        {
          "output_type": "stream",
          "text": [
            "[100]\tvalid_0's l1: 26.8053\n",
            "Did not meet early stopping. Best iteration is:\n",
            "[100]\tvalid_0's l1: 26.8053\n",
            "Training until validation scores don't improve for 50 rounds.\n",
            "[100]\tvalid_0's l1: 27.1478\n",
            "Did not meet early stopping. Best iteration is:\n",
            "[100]\tvalid_0's l1: 27.1478\n",
            "Training until validation scores don't improve for 50 rounds.\n",
            "[100]\tvalid_0's l1: 26.2318\n",
            "Did not meet early stopping. Best iteration is:\n",
            "[100]\tvalid_0's l1: 26.2318\n",
            "Training until validation scores don't improve for 50 rounds.\n",
            "[100]\tvalid_0's l1: 27.0779\n",
            "Did not meet early stopping. Best iteration is:\n",
            "[100]\tvalid_0's l1: 27.0779\n",
            "Training until validation scores don't improve for 50 rounds.\n",
            "[100]\tvalid_0's l1: 26.8494\n",
            "Did not meet early stopping. Best iteration is:\n",
            "[100]\tvalid_0's l1: 26.8494\n",
            "Training until validation scores don't improve for 50 rounds.\n",
            "[100]\tvalid_0's l1: 26.3036\n",
            "Did not meet early stopping. Best iteration is:\n",
            "[100]\tvalid_0's l1: 26.3036\n",
            "Training until validation scores don't improve for 50 rounds.\n",
            "[100]\tvalid_0's l1: 26.1466\n",
            "Did not meet early stopping. Best iteration is:\n",
            "[100]\tvalid_0's l1: 26.1466\n",
            "Training until validation scores don't improve for 50 rounds.\n",
            "[100]\tvalid_0's l1: 26.4929\n",
            "Did not meet early stopping. Best iteration is:\n",
            "[100]\tvalid_0's l1: 26.4929\n",
            "Training until validation scores don't improve for 50 rounds.\n",
            "[100]\tvalid_0's l1: 26.0682\n",
            "Did not meet early stopping. Best iteration is:\n",
            "[100]\tvalid_0's l1: 26.0682\n",
            "Training until validation scores don't improve for 50 rounds.\n",
            "[100]\tvalid_0's l1: 26.6707\n",
            "Did not meet early stopping. Best iteration is:\n",
            "[100]\tvalid_0's l1: 26.6707\n",
            "Training until validation scores don't improve for 50 rounds.\n"
          ],
          "name": "stdout"
        },
        {
          "output_type": "stream",
          "text": [
            "\u001b[32m[I 2021-06-30 17:50:14,650]\u001b[0m Trial 4 finished with value: 26.561278694234698 and parameters: {'reg_lambda': 0.24592518012201012, 'reg_alpha': 0.008790967124229039, 'colsample_bytree': 0.8, 'subsample': 0.5, 'learning_rate': 0.00010136550758014449, 'max_depth': 49, 'min_child_weight': 81}. Best is trial 2 with value: 26.21932166673951.\u001b[0m\n"
          ],
          "name": "stderr"
        },
        {
          "output_type": "stream",
          "text": [
            "[100]\tvalid_0's l1: 26.6238\n",
            "Did not meet early stopping. Best iteration is:\n",
            "[100]\tvalid_0's l1: 26.6238\n",
            "Training until validation scores don't improve for 50 rounds.\n",
            "[100]\tvalid_0's l1: 11.4517\n",
            "Did not meet early stopping. Best iteration is:\n",
            "[100]\tvalid_0's l1: 11.4517\n",
            "Training until validation scores don't improve for 50 rounds.\n",
            "[100]\tvalid_0's l1: 11.1342\n",
            "Did not meet early stopping. Best iteration is:\n",
            "[100]\tvalid_0's l1: 11.1342\n",
            "Training until validation scores don't improve for 50 rounds.\n",
            "[100]\tvalid_0's l1: 11.4711\n",
            "Did not meet early stopping. Best iteration is:\n",
            "[100]\tvalid_0's l1: 11.4711\n",
            "Training until validation scores don't improve for 50 rounds.\n",
            "[100]\tvalid_0's l1: 11.3597\n",
            "Did not meet early stopping. Best iteration is:\n",
            "[100]\tvalid_0's l1: 11.3597\n",
            "Training until validation scores don't improve for 50 rounds.\n",
            "[100]\tvalid_0's l1: 11.1495\n",
            "Did not meet early stopping. Best iteration is:\n",
            "[100]\tvalid_0's l1: 11.1495\n",
            "Training until validation scores don't improve for 50 rounds.\n",
            "[100]\tvalid_0's l1: 11.1318\n",
            "Did not meet early stopping. Best iteration is:\n",
            "[100]\tvalid_0's l1: 11.1318\n",
            "Training until validation scores don't improve for 50 rounds.\n",
            "[100]\tvalid_0's l1: 11.2322\n",
            "Did not meet early stopping. Best iteration is:\n",
            "[100]\tvalid_0's l1: 11.2322\n",
            "Training until validation scores don't improve for 50 rounds.\n",
            "[100]\tvalid_0's l1: 11.0513\n",
            "Did not meet early stopping. Best iteration is:\n",
            "[100]\tvalid_0's l1: 11.0513\n",
            "Training until validation scores don't improve for 50 rounds.\n",
            "[100]\tvalid_0's l1: 11.3358\n",
            "Did not meet early stopping. Best iteration is:\n",
            "[100]\tvalid_0's l1: 11.3358\n",
            "Training until validation scores don't improve for 50 rounds.\n"
          ],
          "name": "stdout"
        },
        {
          "output_type": "stream",
          "text": [
            "\u001b[32m[I 2021-06-30 17:50:15,560]\u001b[0m Trial 5 finished with value: 11.25642414410977 and parameters: {'reg_lambda': 0.0037315956018515, 'reg_alpha': 0.02811871001774426, 'colsample_bytree': 0.9, 'subsample': 0.9, 'learning_rate': 0.009267917195016814, 'max_depth': 2, 'min_child_weight': 86}. Best is trial 5 with value: 11.25642414410977.\u001b[0m\n"
          ],
          "name": "stderr"
        },
        {
          "output_type": "stream",
          "text": [
            "[100]\tvalid_0's l1: 11.2469\n",
            "Did not meet early stopping. Best iteration is:\n",
            "[100]\tvalid_0's l1: 11.2469\n",
            "[LightGBM] [Warning] Accuracy may be bad since you didn't set num_leaves and 2^max_depth > num_leaves\n",
            "Training until validation scores don't improve for 50 rounds.\n",
            "[100]\tvalid_0's l1: 23.5761\n",
            "Did not meet early stopping. Best iteration is:\n",
            "[100]\tvalid_0's l1: 23.5761\n",
            "[LightGBM] [Warning] Accuracy may be bad since you didn't set num_leaves and 2^max_depth > num_leaves\n",
            "Training until validation scores don't improve for 50 rounds.\n",
            "[100]\tvalid_0's l1: 22.7756\n",
            "Did not meet early stopping. Best iteration is:\n",
            "[100]\tvalid_0's l1: 22.7756\n",
            "[LightGBM] [Warning] Accuracy may be bad since you didn't set num_leaves and 2^max_depth > num_leaves\n",
            "Training until validation scores don't improve for 50 rounds.\n",
            "[100]\tvalid_0's l1: 23.5058\n",
            "Did not meet early stopping. Best iteration is:\n",
            "[100]\tvalid_0's l1: 23.5058\n",
            "[LightGBM] [Warning] Accuracy may be bad since you didn't set num_leaves and 2^max_depth > num_leaves\n",
            "Training until validation scores don't improve for 50 rounds.\n",
            "[100]\tvalid_0's l1: 23.3127\n",
            "Did not meet early stopping. Best iteration is:\n",
            "[100]\tvalid_0's l1: 23.3127\n",
            "[LightGBM] [Warning] Accuracy may be bad since you didn't set num_leaves and 2^max_depth > num_leaves\n",
            "Training until validation scores don't improve for 50 rounds.\n",
            "[100]\tvalid_0's l1: 22.8401\n",
            "Did not meet early stopping. Best iteration is:\n",
            "[100]\tvalid_0's l1: 22.8401\n",
            "[LightGBM] [Warning] Accuracy may be bad since you didn't set num_leaves and 2^max_depth > num_leaves\n",
            "Training until validation scores don't improve for 50 rounds.\n",
            "[100]\tvalid_0's l1: 22.7201\n",
            "Did not meet early stopping. Best iteration is:\n",
            "[100]\tvalid_0's l1: 22.7201\n",
            "[LightGBM] [Warning] Accuracy may be bad since you didn't set num_leaves and 2^max_depth > num_leaves\n",
            "Training until validation scores don't improve for 50 rounds.\n",
            "[100]\tvalid_0's l1: 22.9964\n",
            "Did not meet early stopping. Best iteration is:\n",
            "[100]\tvalid_0's l1: 22.9964\n",
            "[LightGBM] [Warning] Accuracy may be bad since you didn't set num_leaves and 2^max_depth > num_leaves\n",
            "Training until validation scores don't improve for 50 rounds.\n",
            "[100]\tvalid_0's l1: 22.638\n",
            "Did not meet early stopping. Best iteration is:\n",
            "[100]\tvalid_0's l1: 22.638\n",
            "[LightGBM] [Warning] Accuracy may be bad since you didn't set num_leaves and 2^max_depth > num_leaves\n",
            "Training until validation scores don't improve for 50 rounds.\n"
          ],
          "name": "stdout"
        },
        {
          "output_type": "stream",
          "text": [
            "\u001b[32m[I 2021-06-30 17:50:17,259]\u001b[0m Trial 6 finished with value: 23.067230748577824 and parameters: {'reg_lambda': 6.5883114602673984, 'reg_alpha': 0.013533268871879228, 'colsample_bytree': 0.7, 'subsample': 1.0, 'learning_rate': 0.0015551597419046696, 'max_depth': 6, 'min_child_weight': 84}. Best is trial 5 with value: 11.25642414410977.\u001b[0m\n"
          ],
          "name": "stderr"
        },
        {
          "output_type": "stream",
          "text": [
            "[100]\tvalid_0's l1: 23.1743\n",
            "Did not meet early stopping. Best iteration is:\n",
            "[100]\tvalid_0's l1: 23.1743\n",
            "[LightGBM] [Warning] Accuracy may be bad since you didn't set num_leaves and 2^max_depth > num_leaves\n",
            "Training until validation scores don't improve for 50 rounds.\n",
            "[100]\tvalid_0's l1: 23.1333\n",
            "Did not meet early stopping. Best iteration is:\n",
            "[100]\tvalid_0's l1: 23.1333\n",
            "[LightGBM] [Warning] Accuracy may be bad since you didn't set num_leaves and 2^max_depth > num_leaves\n",
            "Training until validation scores don't improve for 50 rounds.\n",
            "[100]\tvalid_0's l1: 27.3557\n",
            "Did not meet early stopping. Best iteration is:\n",
            "[100]\tvalid_0's l1: 27.3557\n",
            "[LightGBM] [Warning] Accuracy may be bad since you didn't set num_leaves and 2^max_depth > num_leaves\n",
            "Training until validation scores don't improve for 50 rounds.\n",
            "[100]\tvalid_0's l1: 26.433\n",
            "Did not meet early stopping. Best iteration is:\n",
            "[100]\tvalid_0's l1: 26.433\n",
            "[LightGBM] [Warning] Accuracy may be bad since you didn't set num_leaves and 2^max_depth > num_leaves\n",
            "Training until validation scores don't improve for 50 rounds.\n",
            "[100]\tvalid_0's l1: 27.2857\n",
            "Did not meet early stopping. Best iteration is:\n",
            "[100]\tvalid_0's l1: 27.2857\n",
            "[LightGBM] [Warning] Accuracy may be bad since you didn't set num_leaves and 2^max_depth > num_leaves\n",
            "Training until validation scores don't improve for 50 rounds.\n",
            "[100]\tvalid_0's l1: 27.0554\n",
            "Did not meet early stopping. Best iteration is:\n",
            "[100]\tvalid_0's l1: 27.0554\n",
            "[LightGBM] [Warning] Accuracy may be bad since you didn't set num_leaves and 2^max_depth > num_leaves\n",
            "Training until validation scores don't improve for 50 rounds.\n",
            "[100]\tvalid_0's l1: 26.5053\n",
            "Did not meet early stopping. Best iteration is:\n",
            "[100]\tvalid_0's l1: 26.5053\n",
            "[LightGBM] [Warning] Accuracy may be bad since you didn't set num_leaves and 2^max_depth > num_leaves\n",
            "Training until validation scores don't improve for 50 rounds.\n",
            "[100]\tvalid_0's l1: 26.3464\n",
            "Did not meet early stopping. Best iteration is:\n",
            "[100]\tvalid_0's l1: 26.3464\n",
            "[LightGBM] [Warning] Accuracy may be bad since you didn't set num_leaves and 2^max_depth > num_leaves\n",
            "Training until validation scores don't improve for 50 rounds.\n",
            "[100]\tvalid_0's l1: 26.6963\n",
            "Did not meet early stopping. Best iteration is:\n",
            "[100]\tvalid_0's l1: 26.6963\n",
            "[LightGBM] [Warning] Accuracy may be bad since you didn't set num_leaves and 2^max_depth > num_leaves\n",
            "Training until validation scores don't improve for 50 rounds.\n",
            "[100]\tvalid_0's l1: 26.268\n",
            "Did not meet early stopping. Best iteration is:\n",
            "[100]\tvalid_0's l1: 26.268\n",
            "[LightGBM] [Warning] Accuracy may be bad since you didn't set num_leaves and 2^max_depth > num_leaves\n",
            "Training until validation scores don't improve for 50 rounds.\n",
            "[100]\tvalid_0's l1: 26.8751\n",
            "Did not meet early stopping. Best iteration is:\n",
            "[100]\tvalid_0's l1: 26.8751\n",
            "[LightGBM] [Warning] Accuracy may be bad since you didn't set num_leaves and 2^max_depth > num_leaves\n",
            "Training until validation scores don't improve for 50 rounds.\n"
          ],
          "name": "stdout"
        },
        {
          "output_type": "stream",
          "text": [
            "\u001b[32m[I 2021-06-30 17:50:19,782]\u001b[0m Trial 7 finished with value: 26.764848978075683 and parameters: {'reg_lambda': 0.001435987592486815, 'reg_alpha': 0.003498922501318475, 'colsample_bytree': 0.8, 'subsample': 1.0, 'learning_rate': 2.4084535710689678e-05, 'max_depth': 22, 'min_child_weight': 81}. Best is trial 5 with value: 11.25642414410977.\u001b[0m\n"
          ],
          "name": "stderr"
        },
        {
          "output_type": "stream",
          "text": [
            "[100]\tvalid_0's l1: 26.8276\n",
            "Did not meet early stopping. Best iteration is:\n",
            "[100]\tvalid_0's l1: 26.8276\n",
            "Training until validation scores don't improve for 50 rounds.\n",
            "[100]\tvalid_0's l1: 3.64186\n",
            "Did not meet early stopping. Best iteration is:\n",
            "[100]\tvalid_0's l1: 3.64186\n",
            "Training until validation scores don't improve for 50 rounds.\n",
            "[100]\tvalid_0's l1: 3.52485\n",
            "Did not meet early stopping. Best iteration is:\n",
            "[100]\tvalid_0's l1: 3.52485\n",
            "Training until validation scores don't improve for 50 rounds.\n",
            "[100]\tvalid_0's l1: 3.64665\n",
            "Did not meet early stopping. Best iteration is:\n",
            "[100]\tvalid_0's l1: 3.64665\n",
            "Training until validation scores don't improve for 50 rounds.\n",
            "[100]\tvalid_0's l1: 3.61029\n",
            "Did not meet early stopping. Best iteration is:\n",
            "[100]\tvalid_0's l1: 3.61029\n",
            "Training until validation scores don't improve for 50 rounds.\n",
            "[100]\tvalid_0's l1: 3.53464\n",
            "Did not meet early stopping. Best iteration is:\n",
            "[100]\tvalid_0's l1: 3.53464\n",
            "Training until validation scores don't improve for 50 rounds.\n",
            "[100]\tvalid_0's l1: 3.54358\n",
            "Did not meet early stopping. Best iteration is:\n",
            "[100]\tvalid_0's l1: 3.54358\n",
            "Training until validation scores don't improve for 50 rounds.\n",
            "[100]\tvalid_0's l1: 3.56317\n",
            "Did not meet early stopping. Best iteration is:\n",
            "[100]\tvalid_0's l1: 3.56317\n",
            "Training until validation scores don't improve for 50 rounds.\n",
            "[100]\tvalid_0's l1: 3.48958\n",
            "Did not meet early stopping. Best iteration is:\n",
            "[100]\tvalid_0's l1: 3.48958\n",
            "Training until validation scores don't improve for 50 rounds.\n",
            "[100]\tvalid_0's l1: 3.58355\n",
            "Did not meet early stopping. Best iteration is:\n",
            "[100]\tvalid_0's l1: 3.58355\n",
            "Training until validation scores don't improve for 50 rounds.\n"
          ],
          "name": "stdout"
        },
        {
          "output_type": "stream",
          "text": [
            "\u001b[32m[I 2021-06-30 17:50:21,703]\u001b[0m Trial 8 finished with value: 3.5720544684326696 and parameters: {'reg_lambda': 6.667064664851027, 'reg_alpha': 0.0771268484927327, 'colsample_bytree': 1.0, 'subsample': 0.8, 'learning_rate': 0.02020273830569781, 'max_depth': 40, 'min_child_weight': 108}. Best is trial 8 with value: 3.5720544684326696.\u001b[0m\n"
          ],
          "name": "stderr"
        },
        {
          "output_type": "stream",
          "text": [
            "[100]\tvalid_0's l1: 3.58238\n",
            "Did not meet early stopping. Best iteration is:\n",
            "[100]\tvalid_0's l1: 3.58238\n",
            "Training until validation scores don't improve for 50 rounds.\n",
            "[100]\tvalid_0's l1: 26.6055\n",
            "Did not meet early stopping. Best iteration is:\n",
            "[100]\tvalid_0's l1: 26.6055\n",
            "Training until validation scores don't improve for 50 rounds.\n",
            "[100]\tvalid_0's l1: 25.7199\n",
            "Did not meet early stopping. Best iteration is:\n",
            "[100]\tvalid_0's l1: 25.7199\n",
            "Training until validation scores don't improve for 50 rounds.\n",
            "[100]\tvalid_0's l1: 26.5413\n",
            "Did not meet early stopping. Best iteration is:\n",
            "[100]\tvalid_0's l1: 26.5413\n",
            "Training until validation scores don't improve for 50 rounds.\n",
            "[100]\tvalid_0's l1: 26.3163\n",
            "Did not meet early stopping. Best iteration is:\n",
            "[100]\tvalid_0's l1: 26.3163\n",
            "Training until validation scores don't improve for 50 rounds.\n",
            "[100]\tvalid_0's l1: 25.7808\n",
            "Did not meet early stopping. Best iteration is:\n",
            "[100]\tvalid_0's l1: 25.7808\n",
            "Training until validation scores don't improve for 50 rounds.\n",
            "[100]\tvalid_0's l1: 25.6346\n",
            "Did not meet early stopping. Best iteration is:\n",
            "[100]\tvalid_0's l1: 25.6346\n",
            "Training until validation scores don't improve for 50 rounds.\n",
            "[100]\tvalid_0's l1: 25.9722\n",
            "Did not meet early stopping. Best iteration is:\n",
            "[100]\tvalid_0's l1: 25.9722\n",
            "Training until validation scores don't improve for 50 rounds.\n",
            "[100]\tvalid_0's l1: 25.5497\n",
            "Did not meet early stopping. Best iteration is:\n",
            "[100]\tvalid_0's l1: 25.5497\n"
          ],
          "name": "stdout"
        },
        {
          "output_type": "stream",
          "text": [
            "\u001b[32m[I 2021-06-30 17:50:22,504]\u001b[0m Trial 9 finished with value: 26.036441654931167 and parameters: {'reg_lambda': 0.0049979860724186495, 'reg_alpha': 0.6821081368878383, 'colsample_bytree': 0.5, 'subsample': 0.5, 'learning_rate': 0.00034688825071374474, 'max_depth': 2, 'min_child_weight': 90}. Best is trial 8 with value: 3.5720544684326696.\u001b[0m\n"
          ],
          "name": "stderr"
        },
        {
          "output_type": "stream",
          "text": [
            "Training until validation scores don't improve for 50 rounds.\n",
            "[100]\tvalid_0's l1: 26.1481\n",
            "Did not meet early stopping. Best iteration is:\n",
            "[100]\tvalid_0's l1: 26.1481\n",
            "Training until validation scores don't improve for 50 rounds.\n",
            "[100]\tvalid_0's l1: 26.0961\n",
            "Did not meet early stopping. Best iteration is:\n",
            "[100]\tvalid_0's l1: 26.0961\n",
            "Training until validation scores don't improve for 50 rounds.\n",
            "[100]\tvalid_0's l1: 0.155534\n",
            "Did not meet early stopping. Best iteration is:\n",
            "[100]\tvalid_0's l1: 0.155534\n",
            "Training until validation scores don't improve for 50 rounds.\n",
            "[100]\tvalid_0's l1: 0.159937\n",
            "Did not meet early stopping. Best iteration is:\n",
            "[100]\tvalid_0's l1: 0.159937\n",
            "Training until validation scores don't improve for 50 rounds.\n",
            "[100]\tvalid_0's l1: 0.167563\n",
            "Did not meet early stopping. Best iteration is:\n",
            "[94]\tvalid_0's l1: 0.167478\n",
            "Training until validation scores don't improve for 50 rounds.\n",
            "[100]\tvalid_0's l1: 0.175066\n",
            "Did not meet early stopping. Best iteration is:\n",
            "[100]\tvalid_0's l1: 0.175066\n",
            "Training until validation scores don't improve for 50 rounds.\n",
            "[100]\tvalid_0's l1: 0.158697\n",
            "Did not meet early stopping. Best iteration is:\n",
            "[100]\tvalid_0's l1: 0.158697\n",
            "Training until validation scores don't improve for 50 rounds.\n",
            "[100]\tvalid_0's l1: 0.170765\n",
            "Did not meet early stopping. Best iteration is:\n",
            "[100]\tvalid_0's l1: 0.170765\n",
            "Training until validation scores don't improve for 50 rounds.\n",
            "[100]\tvalid_0's l1: 0.159481\n",
            "Did not meet early stopping. Best iteration is:\n",
            "[97]\tvalid_0's l1: 0.159397\n",
            "Training until validation scores don't improve for 50 rounds.\n",
            "[100]\tvalid_0's l1: 0.160318\n",
            "Did not meet early stopping. Best iteration is:\n",
            "[100]\tvalid_0's l1: 0.160318\n",
            "Training until validation scores don't improve for 50 rounds.\n",
            "[100]\tvalid_0's l1: 0.161425\n",
            "Did not meet early stopping. Best iteration is:\n",
            "[99]\tvalid_0's l1: 0.161333\n",
            "Training until validation scores don't improve for 50 rounds.\n"
          ],
          "name": "stdout"
        },
        {
          "output_type": "stream",
          "text": [
            "\u001b[32m[I 2021-06-30 17:50:24,357]\u001b[0m Trial 10 finished with value: 0.16177712479589715 and parameters: {'reg_lambda': 0.017885928544213663, 'reg_alpha': 8.050833098630621, 'colsample_bytree': 1.0, 'subsample': 0.8, 'learning_rate': 0.08912110408600439, 'max_depth': 38, 'min_child_weight': 150}. Best is trial 10 with value: 0.16177712479589715.\u001b[0m\n"
          ],
          "name": "stderr"
        },
        {
          "output_type": "stream",
          "text": [
            "[100]\tvalid_0's l1: 0.149247\n",
            "Did not meet early stopping. Best iteration is:\n",
            "[100]\tvalid_0's l1: 0.149247\n",
            "Training until validation scores don't improve for 50 rounds.\n",
            "[100]\tvalid_0's l1: 0.156729\n",
            "Did not meet early stopping. Best iteration is:\n",
            "[99]\tvalid_0's l1: 0.156661\n",
            "Training until validation scores don't improve for 50 rounds.\n",
            "[100]\tvalid_0's l1: 0.165371\n",
            "Did not meet early stopping. Best iteration is:\n",
            "[100]\tvalid_0's l1: 0.165371\n",
            "Training until validation scores don't improve for 50 rounds.\n",
            "[100]\tvalid_0's l1: 0.170738\n",
            "Did not meet early stopping. Best iteration is:\n",
            "[100]\tvalid_0's l1: 0.170738\n",
            "Training until validation scores don't improve for 50 rounds.\n",
            "[100]\tvalid_0's l1: 0.17776\n",
            "Did not meet early stopping. Best iteration is:\n",
            "[100]\tvalid_0's l1: 0.17776\n",
            "Training until validation scores don't improve for 50 rounds.\n",
            "[100]\tvalid_0's l1: 0.158313\n",
            "Did not meet early stopping. Best iteration is:\n",
            "[100]\tvalid_0's l1: 0.158313\n",
            "Training until validation scores don't improve for 50 rounds.\n",
            "[100]\tvalid_0's l1: 0.17394\n",
            "Did not meet early stopping. Best iteration is:\n",
            "[100]\tvalid_0's l1: 0.17394\n",
            "Training until validation scores don't improve for 50 rounds.\n",
            "[100]\tvalid_0's l1: 0.160742\n",
            "Did not meet early stopping. Best iteration is:\n",
            "[100]\tvalid_0's l1: 0.160742\n",
            "Training until validation scores don't improve for 50 rounds.\n",
            "[100]\tvalid_0's l1: 0.161413\n",
            "Did not meet early stopping. Best iteration is:\n",
            "[100]\tvalid_0's l1: 0.161413\n",
            "Training until validation scores don't improve for 50 rounds.\n"
          ],
          "name": "stdout"
        },
        {
          "output_type": "stream",
          "text": [
            "\u001b[32m[I 2021-06-30 17:50:26,198]\u001b[0m Trial 11 finished with value: 0.1641425591157723 and parameters: {'reg_lambda': 0.017932420358783757, 'reg_alpha': 8.060846180551106, 'colsample_bytree': 1.0, 'subsample': 0.8, 'learning_rate': 0.09070253276390423, 'max_depth': 38, 'min_child_weight': 162}. Best is trial 10 with value: 0.16177712479589715.\u001b[0m\n"
          ],
          "name": "stderr"
        },
        {
          "output_type": "stream",
          "text": [
            "[100]\tvalid_0's l1: 0.164613\n",
            "Did not meet early stopping. Best iteration is:\n",
            "[99]\tvalid_0's l1: 0.164596\n",
            "Training until validation scores don't improve for 50 rounds.\n",
            "[100]\tvalid_0's l1: 0.151928\n",
            "Did not meet early stopping. Best iteration is:\n",
            "[98]\tvalid_0's l1: 0.151892\n",
            "Training until validation scores don't improve for 50 rounds.\n",
            "[100]\tvalid_0's l1: 0.161324\n",
            "Did not meet early stopping. Best iteration is:\n",
            "[100]\tvalid_0's l1: 0.161324\n",
            "Training until validation scores don't improve for 50 rounds.\n",
            "[100]\tvalid_0's l1: 0.168212\n",
            "Did not meet early stopping. Best iteration is:\n",
            "[100]\tvalid_0's l1: 0.168212\n",
            "Training until validation scores don't improve for 50 rounds.\n",
            "[100]\tvalid_0's l1: 0.17305\n",
            "Did not meet early stopping. Best iteration is:\n",
            "[100]\tvalid_0's l1: 0.17305\n",
            "Training until validation scores don't improve for 50 rounds.\n",
            "[100]\tvalid_0's l1: 0.186581\n",
            "Did not meet early stopping. Best iteration is:\n",
            "[100]\tvalid_0's l1: 0.186581\n",
            "Training until validation scores don't improve for 50 rounds.\n",
            "[100]\tvalid_0's l1: 0.16064\n",
            "Did not meet early stopping. Best iteration is:\n",
            "[100]\tvalid_0's l1: 0.16064\n",
            "Training until validation scores don't improve for 50 rounds.\n",
            "[100]\tvalid_0's l1: 0.180143\n",
            "Did not meet early stopping. Best iteration is:\n",
            "[100]\tvalid_0's l1: 0.180143\n",
            "Training until validation scores don't improve for 50 rounds.\n",
            "[100]\tvalid_0's l1: 0.165599\n",
            "Did not meet early stopping. Best iteration is:\n",
            "[100]\tvalid_0's l1: 0.165599\n",
            "Training until validation scores don't improve for 50 rounds.\n",
            "[100]\tvalid_0's l1: 0.168222\n",
            "Did not meet early stopping. Best iteration is:\n",
            "[100]\tvalid_0's l1: 0.168222\n",
            "Training until validation scores don't improve for 50 rounds.\n",
            "[100]\tvalid_0's l1: 0.169155\n",
            "Did not meet early stopping. Best iteration is:\n",
            "[100]\tvalid_0's l1: 0.169155\n"
          ],
          "name": "stdout"
        },
        {
          "output_type": "stream",
          "text": [
            "\u001b[32m[I 2021-06-30 17:50:27,970]\u001b[0m Trial 12 finished with value: 0.16897841837464428 and parameters: {'reg_lambda': 0.013279088236096977, 'reg_alpha': 8.271264850082014, 'colsample_bytree': 1.0, 'subsample': 0.8, 'learning_rate': 0.06985066299905325, 'max_depth': 36, 'min_child_weight': 171}. Best is trial 10 with value: 0.16177712479589715.\u001b[0m\n"
          ],
          "name": "stderr"
        },
        {
          "output_type": "stream",
          "text": [
            "Training until validation scores don't improve for 50 rounds.\n",
            "[100]\tvalid_0's l1: 0.156858\n",
            "Did not meet early stopping. Best iteration is:\n",
            "[100]\tvalid_0's l1: 0.156858\n",
            "Training until validation scores don't improve for 50 rounds.\n",
            "[100]\tvalid_0's l1: 0.601059\n",
            "Did not meet early stopping. Best iteration is:\n",
            "[100]\tvalid_0's l1: 0.601059\n",
            "Training until validation scores don't improve for 50 rounds.\n",
            "[100]\tvalid_0's l1: 0.579942\n",
            "Did not meet early stopping. Best iteration is:\n",
            "[100]\tvalid_0's l1: 0.579942\n",
            "Training until validation scores don't improve for 50 rounds.\n",
            "[100]\tvalid_0's l1: 0.613991\n",
            "Did not meet early stopping. Best iteration is:\n",
            "[100]\tvalid_0's l1: 0.613991\n",
            "Training until validation scores don't improve for 50 rounds.\n",
            "[100]\tvalid_0's l1: 0.648068\n",
            "Did not meet early stopping. Best iteration is:\n",
            "[100]\tvalid_0's l1: 0.648068\n",
            "Training until validation scores don't improve for 50 rounds.\n",
            "[100]\tvalid_0's l1: 0.638801\n",
            "Did not meet early stopping. Best iteration is:\n",
            "[100]\tvalid_0's l1: 0.638801\n",
            "Training until validation scores don't improve for 50 rounds.\n",
            "[100]\tvalid_0's l1: 0.676131\n",
            "Did not meet early stopping. Best iteration is:\n",
            "[100]\tvalid_0's l1: 0.676131\n",
            "Training until validation scores don't improve for 50 rounds.\n",
            "[100]\tvalid_0's l1: 0.614744\n",
            "Did not meet early stopping. Best iteration is:\n",
            "[100]\tvalid_0's l1: 0.614744\n",
            "Training until validation scores don't improve for 50 rounds.\n",
            "[100]\tvalid_0's l1: 0.612065\n",
            "Did not meet early stopping. Best iteration is:\n",
            "[100]\tvalid_0's l1: 0.612065\n",
            "Training until validation scores don't improve for 50 rounds.\n",
            "[100]\tvalid_0's l1: 0.603413\n",
            "Did not meet early stopping. Best iteration is:\n",
            "[100]\tvalid_0's l1: 0.603413\n"
          ],
          "name": "stdout"
        },
        {
          "output_type": "stream",
          "text": [
            "\u001b[32m[I 2021-06-30 17:50:29,915]\u001b[0m Trial 13 finished with value: 0.6206102559588915 and parameters: {'reg_lambda': 0.027612936049131252, 'reg_alpha': 9.907089229128202, 'colsample_bytree': 0.6, 'subsample': 0.6, 'learning_rate': 0.08873419936646543, 'max_depth': 32, 'min_child_weight': 172}. Best is trial 10 with value: 0.16177712479589715.\u001b[0m\n"
          ],
          "name": "stderr"
        },
        {
          "output_type": "stream",
          "text": [
            "Training until validation scores don't improve for 50 rounds.\n",
            "[100]\tvalid_0's l1: 0.61789\n",
            "Did not meet early stopping. Best iteration is:\n",
            "[100]\tvalid_0's l1: 0.61789\n",
            "Training until validation scores don't improve for 50 rounds.\n",
            "[100]\tvalid_0's l1: 9.46084\n",
            "Did not meet early stopping. Best iteration is:\n",
            "[100]\tvalid_0's l1: 9.46084\n",
            "Training until validation scores don't improve for 50 rounds.\n",
            "[100]\tvalid_0's l1: 9.13046\n",
            "Did not meet early stopping. Best iteration is:\n",
            "[100]\tvalid_0's l1: 9.13046\n",
            "Training until validation scores don't improve for 50 rounds.\n",
            "[100]\tvalid_0's l1: 9.43844\n",
            "Did not meet early stopping. Best iteration is:\n",
            "[100]\tvalid_0's l1: 9.43844\n",
            "Training until validation scores don't improve for 50 rounds.\n",
            "[100]\tvalid_0's l1: 9.34436\n",
            "Did not meet early stopping. Best iteration is:\n",
            "[100]\tvalid_0's l1: 9.34436\n",
            "Training until validation scores don't improve for 50 rounds.\n",
            "[100]\tvalid_0's l1: 9.16116\n",
            "Did not meet early stopping. Best iteration is:\n",
            "[100]\tvalid_0's l1: 9.16116\n",
            "Training until validation scores don't improve for 50 rounds.\n",
            "[100]\tvalid_0's l1: 9.12903\n",
            "Did not meet early stopping. Best iteration is:\n",
            "[100]\tvalid_0's l1: 9.12903\n",
            "Training until validation scores don't improve for 50 rounds.\n",
            "[100]\tvalid_0's l1: 9.22205\n",
            "Did not meet early stopping. Best iteration is:\n",
            "[100]\tvalid_0's l1: 9.22205\n",
            "Training until validation scores don't improve for 50 rounds.\n",
            "[100]\tvalid_0's l1: 9.06157\n",
            "Did not meet early stopping. Best iteration is:\n",
            "[100]\tvalid_0's l1: 9.06157\n",
            "Training until validation scores don't improve for 50 rounds.\n",
            "[100]\tvalid_0's l1: 9.28471\n",
            "Did not meet early stopping. Best iteration is:\n",
            "[100]\tvalid_0's l1: 9.28471\n",
            "Training until validation scores don't improve for 50 rounds.\n"
          ],
          "name": "stdout"
        },
        {
          "output_type": "stream",
          "text": [
            "\u001b[32m[I 2021-06-30 17:50:31,951]\u001b[0m Trial 14 finished with value: 9.25098891536466 and parameters: {'reg_lambda': 0.028709259603812907, 'reg_alpha': 2.841214702036926, 'colsample_bytree': 1.0, 'subsample': 0.8, 'learning_rate': 0.010615436626880864, 'max_depth': 41, 'min_child_weight': 290}. Best is trial 10 with value: 0.16177712479589715.\u001b[0m\n"
          ],
          "name": "stderr"
        },
        {
          "output_type": "stream",
          "text": [
            "[100]\tvalid_0's l1: 9.27728\n",
            "Did not meet early stopping. Best iteration is:\n",
            "[100]\tvalid_0's l1: 9.27728\n",
            "[LightGBM] [Warning] Accuracy may be bad since you didn't set num_leaves and 2^max_depth > num_leaves\n",
            "Training until validation scores don't improve for 50 rounds.\n",
            "[100]\tvalid_0's l1: 0.719873\n",
            "Did not meet early stopping. Best iteration is:\n",
            "[100]\tvalid_0's l1: 0.719873\n",
            "[LightGBM] [Warning] Accuracy may be bad since you didn't set num_leaves and 2^max_depth > num_leaves\n",
            "Training until validation scores don't improve for 50 rounds.\n",
            "[100]\tvalid_0's l1: 0.722569\n",
            "Did not meet early stopping. Best iteration is:\n",
            "[100]\tvalid_0's l1: 0.722569\n",
            "[LightGBM] [Warning] Accuracy may be bad since you didn't set num_leaves and 2^max_depth > num_leaves\n",
            "Training until validation scores don't improve for 50 rounds.\n",
            "[100]\tvalid_0's l1: 0.73348\n",
            "Did not meet early stopping. Best iteration is:\n",
            "[100]\tvalid_0's l1: 0.73348\n",
            "[LightGBM] [Warning] Accuracy may be bad since you didn't set num_leaves and 2^max_depth > num_leaves\n",
            "Training until validation scores don't improve for 50 rounds.\n",
            "[100]\tvalid_0's l1: 0.751663\n",
            "Did not meet early stopping. Best iteration is:\n",
            "[100]\tvalid_0's l1: 0.751663\n",
            "[LightGBM] [Warning] Accuracy may be bad since you didn't set num_leaves and 2^max_depth > num_leaves\n",
            "Training until validation scores don't improve for 50 rounds.\n",
            "[100]\tvalid_0's l1: 0.708986\n",
            "Did not meet early stopping. Best iteration is:\n",
            "[100]\tvalid_0's l1: 0.708986\n",
            "[LightGBM] [Warning] Accuracy may be bad since you didn't set num_leaves and 2^max_depth > num_leaves\n",
            "Training until validation scores don't improve for 50 rounds.\n",
            "[100]\tvalid_0's l1: 0.744652\n",
            "Did not meet early stopping. Best iteration is:\n",
            "[100]\tvalid_0's l1: 0.744652\n",
            "[LightGBM] [Warning] Accuracy may be bad since you didn't set num_leaves and 2^max_depth > num_leaves\n",
            "Training until validation scores don't improve for 50 rounds.\n",
            "[100]\tvalid_0's l1: 0.716655\n",
            "Did not meet early stopping. Best iteration is:\n",
            "[100]\tvalid_0's l1: 0.716655\n",
            "[LightGBM] [Warning] Accuracy may be bad since you didn't set num_leaves and 2^max_depth > num_leaves\n",
            "Training until validation scores don't improve for 50 rounds.\n",
            "[100]\tvalid_0's l1: 0.707706\n",
            "Did not meet early stopping. Best iteration is:\n",
            "[100]\tvalid_0's l1: 0.707706\n",
            "[LightGBM] [Warning] Accuracy may be bad since you didn't set num_leaves and 2^max_depth > num_leaves\n",
            "Training until validation scores don't improve for 50 rounds.\n",
            "[100]\tvalid_0's l1: 0.716064\n",
            "Did not meet early stopping. Best iteration is:\n",
            "[100]\tvalid_0's l1: 0.716064\n",
            "[LightGBM] [Warning] Accuracy may be bad since you didn't set num_leaves and 2^max_depth > num_leaves\n",
            "Training until validation scores don't improve for 50 rounds.\n"
          ],
          "name": "stdout"
        },
        {
          "output_type": "stream",
          "text": [
            "\u001b[32m[I 2021-06-30 17:50:34,221]\u001b[0m Trial 15 finished with value: 0.7241421067281595 and parameters: {'reg_lambda': 0.00120853489511701, 'reg_alpha': 2.7204979294662257, 'colsample_bytree': 1.0, 'subsample': 0.8, 'learning_rate': 0.03601927578900236, 'max_depth': 16, 'min_child_weight': 140}. Best is trial 10 with value: 0.16177712479589715.\u001b[0m\n"
          ],
          "name": "stderr"
        },
        {
          "output_type": "stream",
          "text": [
            "[100]\tvalid_0's l1: 0.719772\n",
            "Did not meet early stopping. Best iteration is:\n",
            "[100]\tvalid_0's l1: 0.719772\n",
            "Training until validation scores don't improve for 50 rounds.\n",
            "[100]\tvalid_0's l1: 21.5052\n",
            "Did not meet early stopping. Best iteration is:\n",
            "[100]\tvalid_0's l1: 21.5052\n",
            "Training until validation scores don't improve for 50 rounds.\n",
            "[100]\tvalid_0's l1: 20.7765\n",
            "Did not meet early stopping. Best iteration is:\n",
            "[100]\tvalid_0's l1: 20.7765\n",
            "Training until validation scores don't improve for 50 rounds.\n",
            "[100]\tvalid_0's l1: 21.4524\n",
            "Did not meet early stopping. Best iteration is:\n",
            "[100]\tvalid_0's l1: 21.4524\n",
            "Training until validation scores don't improve for 50 rounds.\n",
            "[100]\tvalid_0's l1: 21.2742\n",
            "Did not meet early stopping. Best iteration is:\n",
            "[100]\tvalid_0's l1: 21.2742\n",
            "Training until validation scores don't improve for 50 rounds.\n",
            "[100]\tvalid_0's l1: 20.836\n",
            "Did not meet early stopping. Best iteration is:\n",
            "[100]\tvalid_0's l1: 20.836\n",
            "Training until validation scores don't improve for 50 rounds.\n",
            "[100]\tvalid_0's l1: 20.7187\n",
            "Did not meet early stopping. Best iteration is:\n",
            "[100]\tvalid_0's l1: 20.7187\n",
            "Training until validation scores don't improve for 50 rounds.\n",
            "[100]\tvalid_0's l1: 20.9875\n",
            "Did not meet early stopping. Best iteration is:\n",
            "[100]\tvalid_0's l1: 20.9875\n",
            "Training until validation scores don't improve for 50 rounds.\n",
            "[100]\tvalid_0's l1: 20.6454\n",
            "Did not meet early stopping. Best iteration is:\n",
            "[100]\tvalid_0's l1: 20.6454\n",
            "Training until validation scores don't improve for 50 rounds.\n",
            "[100]\tvalid_0's l1: 21.1212\n",
            "Did not meet early stopping. Best iteration is:\n",
            "[100]\tvalid_0's l1: 21.1212\n",
            "Training until validation scores don't improve for 50 rounds.\n"
          ],
          "name": "stdout"
        },
        {
          "output_type": "stream",
          "text": [
            "\u001b[32m[I 2021-06-30 17:50:36,424]\u001b[0m Trial 16 finished with value: 21.040481391258957 and parameters: {'reg_lambda': 0.05560703938668636, 'reg_alpha': 3.201222310986892, 'colsample_bytree': 1.0, 'subsample': 0.8, 'learning_rate': 0.0024294910832532526, 'max_depth': 48, 'min_child_weight': 201}. Best is trial 10 with value: 0.16177712479589715.\u001b[0m\n"
          ],
          "name": "stderr"
        },
        {
          "output_type": "stream",
          "text": [
            "[100]\tvalid_0's l1: 21.0877\n",
            "Did not meet early stopping. Best iteration is:\n",
            "[100]\tvalid_0's l1: 21.0877\n",
            "Training until validation scores don't improve for 50 rounds.\n",
            "[100]\tvalid_0's l1: 18.4462\n",
            "Did not meet early stopping. Best iteration is:\n",
            "[100]\tvalid_0's l1: 18.4462\n",
            "Training until validation scores don't improve for 50 rounds.\n",
            "[100]\tvalid_0's l1: 17.8541\n",
            "Did not meet early stopping. Best iteration is:\n",
            "[100]\tvalid_0's l1: 17.8541\n",
            "Training until validation scores don't improve for 50 rounds.\n",
            "[100]\tvalid_0's l1: 18.3727\n",
            "Did not meet early stopping. Best iteration is:\n",
            "[100]\tvalid_0's l1: 18.3727\n",
            "Training until validation scores don't improve for 50 rounds.\n",
            "[100]\tvalid_0's l1: 18.2312\n",
            "Did not meet early stopping. Best iteration is:\n",
            "[100]\tvalid_0's l1: 18.2312\n",
            "Training until validation scores don't improve for 50 rounds.\n",
            "[100]\tvalid_0's l1: 17.8701\n",
            "Did not meet early stopping. Best iteration is:\n",
            "[100]\tvalid_0's l1: 17.8701\n",
            "Training until validation scores don't improve for 50 rounds.\n",
            "[100]\tvalid_0's l1: 17.8448\n",
            "Did not meet early stopping. Best iteration is:\n",
            "[100]\tvalid_0's l1: 17.8448\n",
            "Training until validation scores don't improve for 50 rounds.\n",
            "[100]\tvalid_0's l1: 17.9754\n",
            "Did not meet early stopping. Best iteration is:\n",
            "[100]\tvalid_0's l1: 17.9754\n",
            "Training until validation scores don't improve for 50 rounds.\n",
            "[100]\tvalid_0's l1: 17.719\n",
            "Did not meet early stopping. Best iteration is:\n",
            "[100]\tvalid_0's l1: 17.719\n",
            "Training until validation scores don't improve for 50 rounds.\n",
            "[100]\tvalid_0's l1: 18.1502\n",
            "Did not meet early stopping. Best iteration is:\n",
            "[100]\tvalid_0's l1: 18.1502\n",
            "Training until validation scores don't improve for 50 rounds.\n"
          ],
          "name": "stdout"
        },
        {
          "output_type": "stream",
          "text": [
            "\u001b[32m[I 2021-06-30 17:50:38,341]\u001b[0m Trial 17 finished with value: 18.05642032850462 and parameters: {'reg_lambda': 0.009342098644421148, 'reg_alpha': 0.0010692611511971468, 'colsample_bytree': 0.5, 'subsample': 0.8, 'learning_rate': 0.004160752398751222, 'max_depth': 34, 'min_child_weight': 136}. Best is trial 10 with value: 0.16177712479589715.\u001b[0m\n"
          ],
          "name": "stderr"
        },
        {
          "output_type": "stream",
          "text": [
            "[100]\tvalid_0's l1: 18.1007\n",
            "Did not meet early stopping. Best iteration is:\n",
            "[100]\tvalid_0's l1: 18.1007\n",
            "Training until validation scores don't improve for 50 rounds.\n",
            "[100]\tvalid_0's l1: 0.651136\n",
            "Did not meet early stopping. Best iteration is:\n",
            "[100]\tvalid_0's l1: 0.651136\n",
            "Training until validation scores don't improve for 50 rounds.\n",
            "[100]\tvalid_0's l1: 0.645135\n",
            "Did not meet early stopping. Best iteration is:\n",
            "[100]\tvalid_0's l1: 0.645135\n",
            "Training until validation scores don't improve for 50 rounds.\n",
            "[100]\tvalid_0's l1: 0.664391\n",
            "Did not meet early stopping. Best iteration is:\n",
            "[100]\tvalid_0's l1: 0.664391\n",
            "Training until validation scores don't improve for 50 rounds.\n",
            "[100]\tvalid_0's l1: 0.705102\n",
            "Did not meet early stopping. Best iteration is:\n",
            "[100]\tvalid_0's l1: 0.705102\n",
            "Training until validation scores don't improve for 50 rounds.\n",
            "[100]\tvalid_0's l1: 0.69069\n",
            "Did not meet early stopping. Best iteration is:\n",
            "[100]\tvalid_0's l1: 0.69069\n",
            "Training until validation scores don't improve for 50 rounds.\n",
            "[100]\tvalid_0's l1: 0.726751\n",
            "Did not meet early stopping. Best iteration is:\n",
            "[100]\tvalid_0's l1: 0.726751\n",
            "Training until validation scores don't improve for 50 rounds.\n",
            "[100]\tvalid_0's l1: 0.676581\n",
            "Did not meet early stopping. Best iteration is:\n",
            "[100]\tvalid_0's l1: 0.676581\n",
            "Training until validation scores don't improve for 50 rounds.\n",
            "[100]\tvalid_0's l1: 0.686704\n",
            "Did not meet early stopping. Best iteration is:\n",
            "[100]\tvalid_0's l1: 0.686704\n",
            "Training until validation scores don't improve for 50 rounds.\n",
            "[100]\tvalid_0's l1: 0.694508\n",
            "Did not meet early stopping. Best iteration is:\n",
            "[100]\tvalid_0's l1: 0.694508\n",
            "Training until validation scores don't improve for 50 rounds.\n"
          ],
          "name": "stdout"
        },
        {
          "output_type": "stream",
          "text": [
            "\u001b[32m[I 2021-06-30 17:50:40,251]\u001b[0m Trial 18 finished with value: 0.6843428329851907 and parameters: {'reg_lambda': 0.1796525857116626, 'reg_alpha': 1.1213259307077013, 'colsample_bytree': 0.6, 'subsample': 0.7, 'learning_rate': 0.07870790367252235, 'max_depth': 40, 'min_child_weight': 286}. Best is trial 10 with value: 0.16177712479589715.\u001b[0m\n"
          ],
          "name": "stderr"
        },
        {
          "output_type": "stream",
          "text": [
            "[100]\tvalid_0's l1: 0.702431\n",
            "Did not meet early stopping. Best iteration is:\n",
            "[100]\tvalid_0's l1: 0.702431\n",
            "[LightGBM] [Warning] Accuracy may be bad since you didn't set num_leaves and 2^max_depth > num_leaves\n",
            "Training until validation scores don't improve for 50 rounds.\n",
            "[100]\tvalid_0's l1: 1.66064\n",
            "Did not meet early stopping. Best iteration is:\n",
            "[100]\tvalid_0's l1: 1.66064\n",
            "[LightGBM] [Warning] Accuracy may be bad since you didn't set num_leaves and 2^max_depth > num_leaves\n",
            "Training until validation scores don't improve for 50 rounds.\n",
            "[100]\tvalid_0's l1: 1.62509\n",
            "Did not meet early stopping. Best iteration is:\n",
            "[100]\tvalid_0's l1: 1.62509\n",
            "[LightGBM] [Warning] Accuracy may be bad since you didn't set num_leaves and 2^max_depth > num_leaves\n",
            "Training until validation scores don't improve for 50 rounds.\n",
            "[100]\tvalid_0's l1: 1.67421\n",
            "Did not meet early stopping. Best iteration is:\n",
            "[100]\tvalid_0's l1: 1.67421\n",
            "[LightGBM] [Warning] Accuracy may be bad since you didn't set num_leaves and 2^max_depth > num_leaves\n",
            "Training until validation scores don't improve for 50 rounds.\n",
            "[100]\tvalid_0's l1: 1.67347\n",
            "Did not meet early stopping. Best iteration is:\n",
            "[100]\tvalid_0's l1: 1.67347\n",
            "[LightGBM] [Warning] Accuracy may be bad since you didn't set num_leaves and 2^max_depth > num_leaves\n",
            "Training until validation scores don't improve for 50 rounds.\n",
            "[100]\tvalid_0's l1: 1.62992\n",
            "Did not meet early stopping. Best iteration is:\n",
            "[100]\tvalid_0's l1: 1.62992\n",
            "[LightGBM] [Warning] Accuracy may be bad since you didn't set num_leaves and 2^max_depth > num_leaves\n",
            "Training until validation scores don't improve for 50 rounds.\n",
            "[100]\tvalid_0's l1: 1.65396\n",
            "Did not meet early stopping. Best iteration is:\n",
            "[100]\tvalid_0's l1: 1.65396\n",
            "[LightGBM] [Warning] Accuracy may be bad since you didn't set num_leaves and 2^max_depth > num_leaves\n",
            "Training until validation scores don't improve for 50 rounds.\n",
            "[100]\tvalid_0's l1: 1.65153\n",
            "Did not meet early stopping. Best iteration is:\n",
            "[100]\tvalid_0's l1: 1.65153\n",
            "[LightGBM] [Warning] Accuracy may be bad since you didn't set num_leaves and 2^max_depth > num_leaves\n",
            "Training until validation scores don't improve for 50 rounds.\n",
            "[100]\tvalid_0's l1: 1.60678\n",
            "Did not meet early stopping. Best iteration is:\n",
            "[100]\tvalid_0's l1: 1.60678\n",
            "[LightGBM] [Warning] Accuracy may be bad since you didn't set num_leaves and 2^max_depth > num_leaves\n",
            "Training until validation scores don't improve for 50 rounds.\n",
            "[100]\tvalid_0's l1: 1.64777\n",
            "Did not meet early stopping. Best iteration is:\n",
            "[100]\tvalid_0's l1: 1.64777\n",
            "[LightGBM] [Warning] Accuracy may be bad since you didn't set num_leaves and 2^max_depth > num_leaves\n",
            "Training until validation scores don't improve for 50 rounds.\n"
          ],
          "name": "stdout"
        },
        {
          "output_type": "stream",
          "text": [
            "\u001b[32m[I 2021-06-30 17:50:42,527]\u001b[0m Trial 19 finished with value: 1.6471211396229617 and parameters: {'reg_lambda': 0.004476993542382923, 'reg_alpha': 7.2305694903959035, 'colsample_bytree': 1.0, 'subsample': 0.6, 'learning_rate': 0.02770234886967726, 'max_depth': 29, 'min_child_weight': 1}. Best is trial 10 with value: 0.16177712479589715.\u001b[0m\n"
          ],
          "name": "stderr"
        },
        {
          "output_type": "stream",
          "text": [
            "[100]\tvalid_0's l1: 1.64782\n",
            "Did not meet early stopping. Best iteration is:\n",
            "[100]\tvalid_0's l1: 1.64782\n",
            "Training until validation scores don't improve for 50 rounds.\n",
            "[100]\tvalid_0's l1: 25.7164\n",
            "Did not meet early stopping. Best iteration is:\n",
            "[100]\tvalid_0's l1: 25.7164\n",
            "Training until validation scores don't improve for 50 rounds.\n",
            "[100]\tvalid_0's l1: 24.8474\n",
            "Did not meet early stopping. Best iteration is:\n",
            "[100]\tvalid_0's l1: 24.8474\n",
            "Training until validation scores don't improve for 50 rounds.\n",
            "[100]\tvalid_0's l1: 25.6534\n",
            "Did not meet early stopping. Best iteration is:\n",
            "[100]\tvalid_0's l1: 25.6534\n",
            "Training until validation scores don't improve for 50 rounds.\n",
            "[100]\tvalid_0's l1: 25.4362\n",
            "Did not meet early stopping. Best iteration is:\n",
            "[100]\tvalid_0's l1: 25.4362\n",
            "Training until validation scores don't improve for 50 rounds.\n",
            "[100]\tvalid_0's l1: 24.9189\n",
            "Did not meet early stopping. Best iteration is:\n",
            "[100]\tvalid_0's l1: 24.9189\n",
            "Training until validation scores don't improve for 50 rounds.\n",
            "[100]\tvalid_0's l1: 24.7713\n",
            "Did not meet early stopping. Best iteration is:\n",
            "[100]\tvalid_0's l1: 24.7713\n",
            "Training until validation scores don't improve for 50 rounds.\n",
            "[100]\tvalid_0's l1: 25.0969\n",
            "Did not meet early stopping. Best iteration is:\n",
            "[100]\tvalid_0's l1: 25.0969\n",
            "Training until validation scores don't improve for 50 rounds.\n",
            "[100]\tvalid_0's l1: 24.6934\n",
            "Did not meet early stopping. Best iteration is:\n",
            "[100]\tvalid_0's l1: 24.6934\n",
            "Training until validation scores don't improve for 50 rounds.\n",
            "[100]\tvalid_0's l1: 25.2642\n",
            "Did not meet early stopping. Best iteration is:\n",
            "[100]\tvalid_0's l1: 25.2642\n",
            "Training until validation scores don't improve for 50 rounds.\n"
          ],
          "name": "stdout"
        },
        {
          "output_type": "stream",
          "text": [
            "\u001b[32m[I 2021-06-30 17:50:45,017]\u001b[0m Trial 20 finished with value: 25.161908313481412 and parameters: {'reg_lambda': 0.025530563195025495, 'reg_alpha': 0.11875185718453186, 'colsample_bytree': 1.0, 'subsample': 0.9, 'learning_rate': 0.0006414941592469576, 'max_depth': 44, 'min_child_weight': 213}. Best is trial 10 with value: 0.16177712479589715.\u001b[0m\n"
          ],
          "name": "stderr"
        },
        {
          "output_type": "stream",
          "text": [
            "[100]\tvalid_0's l1: 25.221\n",
            "Did not meet early stopping. Best iteration is:\n",
            "[100]\tvalid_0's l1: 25.221\n",
            "Training until validation scores don't improve for 50 rounds.\n",
            "[100]\tvalid_0's l1: 0.235107\n",
            "Did not meet early stopping. Best iteration is:\n",
            "[100]\tvalid_0's l1: 0.235107\n",
            "Training until validation scores don't improve for 50 rounds.\n",
            "[100]\tvalid_0's l1: 0.243672\n",
            "Did not meet early stopping. Best iteration is:\n",
            "[100]\tvalid_0's l1: 0.243672\n",
            "Training until validation scores don't improve for 50 rounds.\n",
            "[100]\tvalid_0's l1: 0.244045\n",
            "Did not meet early stopping. Best iteration is:\n",
            "[100]\tvalid_0's l1: 0.244045\n",
            "Training until validation scores don't improve for 50 rounds.\n",
            "[100]\tvalid_0's l1: 0.271626\n",
            "Did not meet early stopping. Best iteration is:\n",
            "[100]\tvalid_0's l1: 0.271626\n",
            "Training until validation scores don't improve for 50 rounds.\n",
            "[100]\tvalid_0's l1: 0.236959\n",
            "Did not meet early stopping. Best iteration is:\n",
            "[100]\tvalid_0's l1: 0.236959\n",
            "Training until validation scores don't improve for 50 rounds.\n",
            "[100]\tvalid_0's l1: 0.26696\n",
            "Did not meet early stopping. Best iteration is:\n",
            "[100]\tvalid_0's l1: 0.26696\n",
            "Training until validation scores don't improve for 50 rounds.\n",
            "[100]\tvalid_0's l1: 0.242019\n",
            "Did not meet early stopping. Best iteration is:\n",
            "[100]\tvalid_0's l1: 0.242019\n",
            "Training until validation scores don't improve for 50 rounds.\n",
            "[100]\tvalid_0's l1: 0.240699\n",
            "Did not meet early stopping. Best iteration is:\n",
            "[100]\tvalid_0's l1: 0.240699\n",
            "Training until validation scores don't improve for 50 rounds.\n"
          ],
          "name": "stdout"
        },
        {
          "output_type": "stream",
          "text": [
            "\u001b[32m[I 2021-06-30 17:50:46,822]\u001b[0m Trial 21 finished with value: 0.24628516665289557 and parameters: {'reg_lambda': 0.010182226162543745, 'reg_alpha': 9.515486199240634, 'colsample_bytree': 1.0, 'subsample': 0.8, 'learning_rate': 0.05011952830152796, 'max_depth': 35, 'min_child_weight': 173}. Best is trial 10 with value: 0.16177712479589715.\u001b[0m\n"
          ],
          "name": "stderr"
        },
        {
          "output_type": "stream",
          "text": [
            "[100]\tvalid_0's l1: 0.244002\n",
            "Did not meet early stopping. Best iteration is:\n",
            "[100]\tvalid_0's l1: 0.244002\n",
            "Training until validation scores don't improve for 50 rounds.\n",
            "[100]\tvalid_0's l1: 0.237763\n",
            "Did not meet early stopping. Best iteration is:\n",
            "[100]\tvalid_0's l1: 0.237763\n",
            "Training until validation scores don't improve for 50 rounds.\n",
            "[100]\tvalid_0's l1: 0.157702\n",
            "Did not meet early stopping. Best iteration is:\n",
            "[98]\tvalid_0's l1: 0.157629\n",
            "Training until validation scores don't improve for 50 rounds.\n",
            "[100]\tvalid_0's l1: 0.161472\n",
            "Did not meet early stopping. Best iteration is:\n",
            "[100]\tvalid_0's l1: 0.161472\n",
            "Training until validation scores don't improve for 50 rounds.\n",
            "[100]\tvalid_0's l1: 0.168004\n",
            "Did not meet early stopping. Best iteration is:\n",
            "[100]\tvalid_0's l1: 0.168004\n",
            "Training until validation scores don't improve for 50 rounds.\n",
            "[100]\tvalid_0's l1: 0.176315\n",
            "Did not meet early stopping. Best iteration is:\n",
            "[100]\tvalid_0's l1: 0.176315\n",
            "Training until validation scores don't improve for 50 rounds.\n",
            "[100]\tvalid_0's l1: 0.156879\n",
            "Did not meet early stopping. Best iteration is:\n",
            "[100]\tvalid_0's l1: 0.156879\n",
            "Training until validation scores don't improve for 50 rounds.\n",
            "[100]\tvalid_0's l1: 0.17184\n",
            "Did not meet early stopping. Best iteration is:\n",
            "[100]\tvalid_0's l1: 0.17184\n",
            "Training until validation scores don't improve for 50 rounds.\n",
            "[100]\tvalid_0's l1: 0.160082\n",
            "Did not meet early stopping. Best iteration is:\n",
            "[97]\tvalid_0's l1: 0.159994\n",
            "Training until validation scores don't improve for 50 rounds.\n",
            "[100]\tvalid_0's l1: 0.16016\n",
            "Did not meet early stopping. Best iteration is:\n",
            "[100]\tvalid_0's l1: 0.16016\n",
            "Training until validation scores don't improve for 50 rounds.\n",
            "[100]\tvalid_0's l1: 0.163945\n",
            "Did not meet early stopping. Best iteration is:\n",
            "[100]\tvalid_0's l1: 0.163945\n",
            "Training until validation scores don't improve for 50 rounds.\n"
          ],
          "name": "stdout"
        },
        {
          "output_type": "stream",
          "text": [
            "\u001b[32m[I 2021-06-30 17:50:48,767]\u001b[0m Trial 22 finished with value: 0.16293651761001077 and parameters: {'reg_lambda': 0.012772727802420343, 'reg_alpha': 5.417688714350543, 'colsample_bytree': 1.0, 'subsample': 0.8, 'learning_rate': 0.09288523589667728, 'max_depth': 35, 'min_child_weight': 169}. Best is trial 10 with value: 0.16177712479589715.\u001b[0m\n"
          ],
          "name": "stderr"
        },
        {
          "output_type": "stream",
          "text": [
            "[100]\tvalid_0's l1: 0.153127\n",
            "Did not meet early stopping. Best iteration is:\n",
            "[100]\tvalid_0's l1: 0.153127\n",
            "Training until validation scores don't improve for 50 rounds.\n",
            "[100]\tvalid_0's l1: 5.91365\n",
            "Did not meet early stopping. Best iteration is:\n",
            "[100]\tvalid_0's l1: 5.91365\n",
            "Training until validation scores don't improve for 50 rounds.\n",
            "[100]\tvalid_0's l1: 5.72259\n",
            "Did not meet early stopping. Best iteration is:\n",
            "[100]\tvalid_0's l1: 5.72259\n",
            "Training until validation scores don't improve for 50 rounds.\n",
            "[100]\tvalid_0's l1: 5.90984\n",
            "Did not meet early stopping. Best iteration is:\n",
            "[100]\tvalid_0's l1: 5.90984\n",
            "Training until validation scores don't improve for 50 rounds.\n",
            "[100]\tvalid_0's l1: 5.85827\n",
            "Did not meet early stopping. Best iteration is:\n",
            "[100]\tvalid_0's l1: 5.85827\n",
            "Training until validation scores don't improve for 50 rounds.\n",
            "[100]\tvalid_0's l1: 5.74301\n",
            "Did not meet early stopping. Best iteration is:\n",
            "[100]\tvalid_0's l1: 5.74301\n",
            "Training until validation scores don't improve for 50 rounds.\n",
            "[100]\tvalid_0's l1: 5.73454\n",
            "Did not meet early stopping. Best iteration is:\n",
            "[100]\tvalid_0's l1: 5.73454\n",
            "Training until validation scores don't improve for 50 rounds.\n",
            "[100]\tvalid_0's l1: 5.77911\n",
            "Did not meet early stopping. Best iteration is:\n",
            "[100]\tvalid_0's l1: 5.77911\n",
            "Training until validation scores don't improve for 50 rounds.\n",
            "[100]\tvalid_0's l1: 5.67481\n",
            "Did not meet early stopping. Best iteration is:\n",
            "[100]\tvalid_0's l1: 5.67481\n",
            "Training until validation scores don't improve for 50 rounds.\n",
            "[100]\tvalid_0's l1: 5.80888\n",
            "Did not meet early stopping. Best iteration is:\n",
            "[100]\tvalid_0's l1: 5.80888\n",
            "Training until validation scores don't improve for 50 rounds.\n"
          ],
          "name": "stdout"
        },
        {
          "output_type": "stream",
          "text": [
            "\u001b[32m[I 2021-06-30 17:50:51,054]\u001b[0m Trial 23 finished with value: 5.7954264514094485 and parameters: {'reg_lambda': 0.08251959855473277, 'reg_alpha': 4.072460439440432, 'colsample_bytree': 1.0, 'subsample': 0.8, 'learning_rate': 0.015242245196246293, 'max_depth': 38, 'min_child_weight': 121}. Best is trial 10 with value: 0.16177712479589715.\u001b[0m\n"
          ],
          "name": "stderr"
        },
        {
          "output_type": "stream",
          "text": [
            "[100]\tvalid_0's l1: 5.80956\n",
            "Did not meet early stopping. Best iteration is:\n",
            "[100]\tvalid_0's l1: 5.80956\n",
            "Training until validation scores don't improve for 50 rounds.\n",
            "[100]\tvalid_0's l1: 0.159497\n",
            "Did not meet early stopping. Best iteration is:\n",
            "[96]\tvalid_0's l1: 0.159255\n",
            "Training until validation scores don't improve for 50 rounds.\n",
            "[100]\tvalid_0's l1: 0.163115\n",
            "Did not meet early stopping. Best iteration is:\n",
            "[100]\tvalid_0's l1: 0.163115\n",
            "Training until validation scores don't improve for 50 rounds.\n",
            "[100]\tvalid_0's l1: 0.170162\n",
            "Did not meet early stopping. Best iteration is:\n",
            "[100]\tvalid_0's l1: 0.170162\n",
            "Training until validation scores don't improve for 50 rounds.\n",
            "[100]\tvalid_0's l1: 0.176317\n",
            "Did not meet early stopping. Best iteration is:\n",
            "[100]\tvalid_0's l1: 0.176317\n",
            "Training until validation scores don't improve for 50 rounds.\n",
            "[100]\tvalid_0's l1: 0.159023\n",
            "Did not meet early stopping. Best iteration is:\n",
            "[100]\tvalid_0's l1: 0.159023\n",
            "Training until validation scores don't improve for 50 rounds.\n",
            "[100]\tvalid_0's l1: 0.172914\n",
            "Did not meet early stopping. Best iteration is:\n",
            "[100]\tvalid_0's l1: 0.172914\n",
            "Training until validation scores don't improve for 50 rounds.\n",
            "[100]\tvalid_0's l1: 0.157187\n",
            "Did not meet early stopping. Best iteration is:\n",
            "[97]\tvalid_0's l1: 0.156999\n",
            "Training until validation scores don't improve for 50 rounds.\n",
            "[100]\tvalid_0's l1: 0.168383\n",
            "Did not meet early stopping. Best iteration is:\n",
            "[100]\tvalid_0's l1: 0.168383\n",
            "Training until validation scores don't improve for 50 rounds.\n",
            "[100]\tvalid_0's l1: 0.165294\n",
            "Did not meet early stopping. Best iteration is:\n",
            "[100]\tvalid_0's l1: 0.165294\n",
            "Training until validation scores don't improve for 50 rounds.\n"
          ],
          "name": "stdout"
        },
        {
          "output_type": "stream",
          "text": [
            "\u001b[32m[I 2021-06-30 17:50:53,371]\u001b[0m Trial 24 finished with value: 0.1646016757304547 and parameters: {'reg_lambda': 0.002562168488178412, 'reg_alpha': 1.3864694563732751, 'colsample_bytree': 1.0, 'subsample': 0.8, 'learning_rate': 0.0884045983187427, 'max_depth': 31, 'min_child_weight': 193}. Best is trial 10 with value: 0.16177712479589715.\u001b[0m\n"
          ],
          "name": "stderr"
        },
        {
          "output_type": "stream",
          "text": [
            "[100]\tvalid_0's l1: 0.154555\n",
            "Did not meet early stopping. Best iteration is:\n",
            "[100]\tvalid_0's l1: 0.154555\n",
            "Training until validation scores don't improve for 50 rounds.\n",
            "[100]\tvalid_0's l1: 16.5707\n",
            "Did not meet early stopping. Best iteration is:\n",
            "[100]\tvalid_0's l1: 16.5707\n",
            "Training until validation scores don't improve for 50 rounds.\n",
            "[100]\tvalid_0's l1: 15.997\n",
            "Did not meet early stopping. Best iteration is:\n",
            "[100]\tvalid_0's l1: 15.997\n",
            "Training until validation scores don't improve for 50 rounds.\n",
            "[100]\tvalid_0's l1: 16.5292\n",
            "Did not meet early stopping. Best iteration is:\n",
            "[100]\tvalid_0's l1: 16.5292\n",
            "Training until validation scores don't improve for 50 rounds.\n",
            "[100]\tvalid_0's l1: 16.3788\n",
            "Did not meet early stopping. Best iteration is:\n",
            "[100]\tvalid_0's l1: 16.3788\n",
            "Training until validation scores don't improve for 50 rounds.\n",
            "[100]\tvalid_0's l1: 16.0556\n",
            "Did not meet early stopping. Best iteration is:\n",
            "[100]\tvalid_0's l1: 16.0556\n",
            "Training until validation scores don't improve for 50 rounds.\n",
            "[100]\tvalid_0's l1: 15.9651\n",
            "Did not meet early stopping. Best iteration is:\n",
            "[100]\tvalid_0's l1: 15.9651\n",
            "Training until validation scores don't improve for 50 rounds.\n",
            "[100]\tvalid_0's l1: 16.1651\n",
            "Did not meet early stopping. Best iteration is:\n",
            "[100]\tvalid_0's l1: 16.1651\n",
            "Training until validation scores don't improve for 50 rounds.\n",
            "[100]\tvalid_0's l1: 15.9085\n",
            "Did not meet early stopping. Best iteration is:\n",
            "[100]\tvalid_0's l1: 15.9085\n",
            "Training until validation scores don't improve for 50 rounds.\n",
            "[100]\tvalid_0's l1: 16.2695\n",
            "Did not meet early stopping. Best iteration is:\n",
            "[100]\tvalid_0's l1: 16.2695\n"
          ],
          "name": "stdout"
        },
        {
          "output_type": "stream",
          "text": [
            "\u001b[32m[I 2021-06-30 17:50:55,469]\u001b[0m Trial 25 finished with value: 16.20968393397555 and parameters: {'reg_lambda': 0.02011825393017711, 'reg_alpha': 4.780150153681957, 'colsample_bytree': 1.0, 'subsample': 0.8, 'learning_rate': 0.005032265513544389, 'max_depth': 45, 'min_child_weight': 250}. Best is trial 10 with value: 0.16177712479589715.\u001b[0m\n"
          ],
          "name": "stderr"
        },
        {
          "output_type": "stream",
          "text": [
            "Training until validation scores don't improve for 50 rounds.\n",
            "[100]\tvalid_0's l1: 16.2575\n",
            "Did not meet early stopping. Best iteration is:\n",
            "[100]\tvalid_0's l1: 16.2575\n",
            "[LightGBM] [Warning] Accuracy may be bad since you didn't set num_leaves and 2^max_depth > num_leaves\n",
            "Training until validation scores don't improve for 50 rounds.\n",
            "[100]\tvalid_0's l1: 1.19813\n",
            "Did not meet early stopping. Best iteration is:\n",
            "[100]\tvalid_0's l1: 1.19813\n",
            "[LightGBM] [Warning] Accuracy may be bad since you didn't set num_leaves and 2^max_depth > num_leaves\n",
            "Training until validation scores don't improve for 50 rounds.\n",
            "[100]\tvalid_0's l1: 1.20517\n",
            "Did not meet early stopping. Best iteration is:\n",
            "[100]\tvalid_0's l1: 1.20517\n",
            "[LightGBM] [Warning] Accuracy may be bad since you didn't set num_leaves and 2^max_depth > num_leaves\n",
            "Training until validation scores don't improve for 50 rounds.\n",
            "[100]\tvalid_0's l1: 1.20743\n",
            "Did not meet early stopping. Best iteration is:\n",
            "[100]\tvalid_0's l1: 1.20743\n",
            "[LightGBM] [Warning] Accuracy may be bad since you didn't set num_leaves and 2^max_depth > num_leaves\n",
            "Training until validation scores don't improve for 50 rounds.\n",
            "[100]\tvalid_0's l1: 1.21785\n",
            "Did not meet early stopping. Best iteration is:\n",
            "[100]\tvalid_0's l1: 1.21785\n",
            "[LightGBM] [Warning] Accuracy may be bad since you didn't set num_leaves and 2^max_depth > num_leaves\n",
            "Training until validation scores don't improve for 50 rounds.\n",
            "[100]\tvalid_0's l1: 1.2171\n",
            "Did not meet early stopping. Best iteration is:\n",
            "[100]\tvalid_0's l1: 1.2171\n",
            "[LightGBM] [Warning] Accuracy may be bad since you didn't set num_leaves and 2^max_depth > num_leaves\n",
            "Training until validation scores don't improve for 50 rounds.\n",
            "[100]\tvalid_0's l1: 1.30036\n",
            "Did not meet early stopping. Best iteration is:\n",
            "[100]\tvalid_0's l1: 1.30036\n",
            "[LightGBM] [Warning] Accuracy may be bad since you didn't set num_leaves and 2^max_depth > num_leaves\n",
            "Training until validation scores don't improve for 50 rounds.\n",
            "[100]\tvalid_0's l1: 1.17599\n",
            "Did not meet early stopping. Best iteration is:\n",
            "[100]\tvalid_0's l1: 1.17599\n",
            "[LightGBM] [Warning] Accuracy may be bad since you didn't set num_leaves and 2^max_depth > num_leaves\n",
            "Training until validation scores don't improve for 50 rounds.\n",
            "[100]\tvalid_0's l1: 1.22851\n",
            "Did not meet early stopping. Best iteration is:\n",
            "[100]\tvalid_0's l1: 1.22851\n",
            "[LightGBM] [Warning] Accuracy may be bad since you didn't set num_leaves and 2^max_depth > num_leaves\n",
            "Training until validation scores don't improve for 50 rounds.\n",
            "[100]\tvalid_0's l1: 1.18252\n",
            "Did not meet early stopping. Best iteration is:\n",
            "[100]\tvalid_0's l1: 1.18252\n"
          ],
          "name": "stdout"
        },
        {
          "output_type": "stream",
          "text": [
            "\u001b[32m[I 2021-06-30 17:50:57,489]\u001b[0m Trial 26 finished with value: 1.2188415344346715 and parameters: {'reg_lambda': 0.05041618753941389, 'reg_alpha': 2.0630890838956697, 'colsample_bytree': 0.6, 'subsample': 0.8, 'learning_rate': 0.037119084623434426, 'max_depth': 24, 'min_child_weight': 161}. Best is trial 10 with value: 0.16177712479589715.\u001b[0m\n"
          ],
          "name": "stderr"
        },
        {
          "output_type": "stream",
          "text": [
            "[LightGBM] [Warning] Accuracy may be bad since you didn't set num_leaves and 2^max_depth > num_leaves\n",
            "Training until validation scores don't improve for 50 rounds.\n",
            "[100]\tvalid_0's l1: 1.25536\n",
            "Did not meet early stopping. Best iteration is:\n",
            "[100]\tvalid_0's l1: 1.25536\n",
            "Training until validation scores don't improve for 50 rounds.\n",
            "[100]\tvalid_0's l1: 27.3943\n",
            "Did not meet early stopping. Best iteration is:\n",
            "[100]\tvalid_0's l1: 27.3943\n",
            "Training until validation scores don't improve for 50 rounds.\n",
            "[100]\tvalid_0's l1: 26.4704\n",
            "Did not meet early stopping. Best iteration is:\n",
            "[100]\tvalid_0's l1: 26.4704\n",
            "Training until validation scores don't improve for 50 rounds.\n",
            "[100]\tvalid_0's l1: 27.3242\n",
            "Did not meet early stopping. Best iteration is:\n",
            "[100]\tvalid_0's l1: 27.3242\n",
            "Training until validation scores don't improve for 50 rounds.\n",
            "[100]\tvalid_0's l1: 27.0936\n",
            "Did not meet early stopping. Best iteration is:\n",
            "[100]\tvalid_0's l1: 27.0936\n",
            "Training until validation scores don't improve for 50 rounds.\n",
            "[100]\tvalid_0's l1: 26.5427\n",
            "Did not meet early stopping. Best iteration is:\n",
            "[100]\tvalid_0's l1: 26.5427\n",
            "Training until validation scores don't improve for 50 rounds.\n",
            "[100]\tvalid_0's l1: 26.3837\n",
            "Did not meet early stopping. Best iteration is:\n",
            "[100]\tvalid_0's l1: 26.3837\n",
            "Training until validation scores don't improve for 50 rounds.\n",
            "[100]\tvalid_0's l1: 26.734\n",
            "Did not meet early stopping. Best iteration is:\n",
            "[100]\tvalid_0's l1: 26.734\n",
            "Training until validation scores don't improve for 50 rounds.\n",
            "[100]\tvalid_0's l1: 26.3052\n",
            "Did not meet early stopping. Best iteration is:\n",
            "[100]\tvalid_0's l1: 26.3052\n",
            "Training until validation scores don't improve for 50 rounds.\n",
            "[100]\tvalid_0's l1: 26.9132\n",
            "Did not meet early stopping. Best iteration is:\n",
            "[100]\tvalid_0's l1: 26.9132\n"
          ],
          "name": "stdout"
        },
        {
          "output_type": "stream",
          "text": [
            "\u001b[32m[I 2021-06-30 17:50:59,356]\u001b[0m Trial 27 finished with value: 26.80270051643488 and parameters: {'reg_lambda': 0.007774599445625467, 'reg_alpha': 0.402136010110414, 'colsample_bytree': 0.5, 'subsample': 0.8, 'learning_rate': 1.0161754834289834e-05, 'max_depth': 43, 'min_child_weight': 147}. Best is trial 10 with value: 0.16177712479589715.\u001b[0m\n"
          ],
          "name": "stderr"
        },
        {
          "output_type": "stream",
          "text": [
            "Training until validation scores don't improve for 50 rounds.\n",
            "[100]\tvalid_0's l1: 26.8656\n",
            "Did not meet early stopping. Best iteration is:\n",
            "[100]\tvalid_0's l1: 26.8656\n",
            "Training until validation scores don't improve for 50 rounds.\n",
            "[100]\tvalid_0's l1: 0.612219\n",
            "Did not meet early stopping. Best iteration is:\n",
            "[100]\tvalid_0's l1: 0.612219\n",
            "Training until validation scores don't improve for 50 rounds.\n",
            "[100]\tvalid_0's l1: 0.6076\n",
            "Did not meet early stopping. Best iteration is:\n",
            "[100]\tvalid_0's l1: 0.6076\n",
            "Training until validation scores don't improve for 50 rounds.\n",
            "[100]\tvalid_0's l1: 0.610543\n",
            "Did not meet early stopping. Best iteration is:\n",
            "[100]\tvalid_0's l1: 0.610543\n",
            "Training until validation scores don't improve for 50 rounds.\n",
            "[100]\tvalid_0's l1: 0.643167\n",
            "Did not meet early stopping. Best iteration is:\n",
            "[100]\tvalid_0's l1: 0.643167\n",
            "Training until validation scores don't improve for 50 rounds.\n",
            "[100]\tvalid_0's l1: 0.650404\n",
            "Did not meet early stopping. Best iteration is:\n",
            "[100]\tvalid_0's l1: 0.650404\n",
            "Training until validation scores don't improve for 50 rounds.\n",
            "[100]\tvalid_0's l1: 0.672023\n",
            "Did not meet early stopping. Best iteration is:\n",
            "[100]\tvalid_0's l1: 0.672023\n",
            "Training until validation scores don't improve for 50 rounds.\n",
            "[100]\tvalid_0's l1: 0.598743\n",
            "Did not meet early stopping. Best iteration is:\n",
            "[100]\tvalid_0's l1: 0.598743\n",
            "Training until validation scores don't improve for 50 rounds.\n",
            "[100]\tvalid_0's l1: 0.632112\n",
            "Did not meet early stopping. Best iteration is:\n",
            "[100]\tvalid_0's l1: 0.632112\n",
            "Training until validation scores don't improve for 50 rounds.\n",
            "[100]\tvalid_0's l1: 0.609766\n",
            "Did not meet early stopping. Best iteration is:\n",
            "[100]\tvalid_0's l1: 0.609766\n",
            "Training until validation scores don't improve for 50 rounds.\n",
            "[100]\tvalid_0's l1: 0.628655\n",
            "Did not meet early stopping. Best iteration is:\n",
            "[100]\tvalid_0's l1: 0.628655\n"
          ],
          "name": "stdout"
        },
        {
          "output_type": "stream",
          "text": [
            "\u001b[32m[I 2021-06-30 17:51:01,387]\u001b[0m Trial 28 finished with value: 0.6265233048908735 and parameters: {'reg_lambda': 0.0025242493264571, 'reg_alpha': 9.96058283452019, 'colsample_bytree': 0.8, 'subsample': 0.6, 'learning_rate': 0.04584538619765249, 'max_depth': 37, 'min_child_weight': 112}. Best is trial 10 with value: 0.16177712479589715.\u001b[0m\n"
          ],
          "name": "stderr"
        },
        {
          "output_type": "stream",
          "text": [
            "Training until validation scores don't improve for 50 rounds.\n",
            "[100]\tvalid_0's l1: 0.544765\n",
            "Did not meet early stopping. Best iteration is:\n",
            "[100]\tvalid_0's l1: 0.544765\n",
            "Training until validation scores don't improve for 50 rounds.\n",
            "[100]\tvalid_0's l1: 0.53984\n",
            "Did not meet early stopping. Best iteration is:\n",
            "[100]\tvalid_0's l1: 0.53984\n",
            "Training until validation scores don't improve for 50 rounds.\n",
            "[100]\tvalid_0's l1: 0.56558\n",
            "Did not meet early stopping. Best iteration is:\n",
            "[100]\tvalid_0's l1: 0.56558\n",
            "Training until validation scores don't improve for 50 rounds.\n",
            "[100]\tvalid_0's l1: 0.595515\n",
            "Did not meet early stopping. Best iteration is:\n",
            "[100]\tvalid_0's l1: 0.595515\n",
            "Training until validation scores don't improve for 50 rounds.\n",
            "[100]\tvalid_0's l1: 0.595511\n",
            "Did not meet early stopping. Best iteration is:\n",
            "[100]\tvalid_0's l1: 0.595511\n",
            "Training until validation scores don't improve for 50 rounds.\n",
            "[100]\tvalid_0's l1: 0.610612\n",
            "Did not meet early stopping. Best iteration is:\n",
            "[100]\tvalid_0's l1: 0.610612\n",
            "Training until validation scores don't improve for 50 rounds.\n",
            "[100]\tvalid_0's l1: 0.569941\n",
            "Did not meet early stopping. Best iteration is:\n",
            "[100]\tvalid_0's l1: 0.569941\n",
            "Training until validation scores don't improve for 50 rounds.\n",
            "[100]\tvalid_0's l1: 0.582484\n",
            "Did not meet early stopping. Best iteration is:\n",
            "[100]\tvalid_0's l1: 0.582484\n",
            "Training until validation scores don't improve for 50 rounds.\n",
            "[100]\tvalid_0's l1: 0.545061\n",
            "Did not meet early stopping. Best iteration is:\n",
            "[100]\tvalid_0's l1: 0.545061\n",
            "Training until validation scores don't improve for 50 rounds.\n",
            "[100]\tvalid_0's l1: 0.571564\n",
            "Did not meet early stopping. Best iteration is:\n",
            "[100]\tvalid_0's l1: 0.571564\n"
          ],
          "name": "stdout"
        },
        {
          "output_type": "stream",
          "text": [
            "\u001b[32m[I 2021-06-30 17:51:03,417]\u001b[0m Trial 29 finished with value: 0.5720872835977666 and parameters: {'reg_lambda': 0.5952487192163048, 'reg_alpha': 1.3023827272265456, 'colsample_bytree': 0.7, 'subsample': 0.7, 'learning_rate': 0.09389576777732637, 'max_depth': 49, 'min_child_weight': 254}. Best is trial 10 with value: 0.16177712479589715.\u001b[0m\n"
          ],
          "name": "stderr"
        },
        {
          "output_type": "stream",
          "text": [
            "[LightGBM] [Warning] Accuracy may be bad since you didn't set num_leaves and 2^max_depth > num_leaves\n",
            "Training until validation scores don't improve for 50 rounds.\n",
            "[100]\tvalid_0's l1: 13.5464\n",
            "Did not meet early stopping. Best iteration is:\n",
            "[100]\tvalid_0's l1: 13.5464\n",
            "[LightGBM] [Warning] Accuracy may be bad since you didn't set num_leaves and 2^max_depth > num_leaves\n",
            "Training until validation scores don't improve for 50 rounds.\n",
            "[100]\tvalid_0's l1: 13.1119\n",
            "Did not meet early stopping. Best iteration is:\n",
            "[100]\tvalid_0's l1: 13.1119\n",
            "[LightGBM] [Warning] Accuracy may be bad since you didn't set num_leaves and 2^max_depth > num_leaves\n",
            "Training until validation scores don't improve for 50 rounds.\n",
            "[100]\tvalid_0's l1: 13.4821\n",
            "Did not meet early stopping. Best iteration is:\n",
            "[100]\tvalid_0's l1: 13.4821\n",
            "[LightGBM] [Warning] Accuracy may be bad since you didn't set num_leaves and 2^max_depth > num_leaves\n",
            "Training until validation scores don't improve for 50 rounds.\n",
            "[100]\tvalid_0's l1: 13.376\n",
            "Did not meet early stopping. Best iteration is:\n",
            "[100]\tvalid_0's l1: 13.376\n",
            "[LightGBM] [Warning] Accuracy may be bad since you didn't set num_leaves and 2^max_depth > num_leaves\n",
            "Training until validation scores don't improve for 50 rounds.\n",
            "[100]\tvalid_0's l1: 13.1371\n",
            "Did not meet early stopping. Best iteration is:\n",
            "[100]\tvalid_0's l1: 13.1371\n",
            "[LightGBM] [Warning] Accuracy may be bad since you didn't set num_leaves and 2^max_depth > num_leaves\n",
            "Training until validation scores don't improve for 50 rounds.\n",
            "[100]\tvalid_0's l1: 13.1467\n",
            "Did not meet early stopping. Best iteration is:\n",
            "[100]\tvalid_0's l1: 13.1467\n",
            "[LightGBM] [Warning] Accuracy may be bad since you didn't set num_leaves and 2^max_depth > num_leaves\n",
            "Training until validation scores don't improve for 50 rounds.\n",
            "[100]\tvalid_0's l1: 13.1785\n",
            "Did not meet early stopping. Best iteration is:\n",
            "[100]\tvalid_0's l1: 13.1785\n",
            "[LightGBM] [Warning] Accuracy may be bad since you didn't set num_leaves and 2^max_depth > num_leaves\n",
            "Training until validation scores don't improve for 50 rounds.\n",
            "[100]\tvalid_0's l1: 13.0236\n",
            "Did not meet early stopping. Best iteration is:\n",
            "[100]\tvalid_0's l1: 13.0236\n",
            "[LightGBM] [Warning] Accuracy may be bad since you didn't set num_leaves and 2^max_depth > num_leaves\n",
            "Training until validation scores don't improve for 50 rounds.\n",
            "[100]\tvalid_0's l1: 13.3312\n",
            "Did not meet early stopping. Best iteration is:\n",
            "[100]\tvalid_0's l1: 13.3312\n",
            "[LightGBM] [Warning] Accuracy may be bad since you didn't set num_leaves and 2^max_depth > num_leaves\n"
          ],
          "name": "stdout"
        },
        {
          "output_type": "stream",
          "text": [
            "\u001b[32m[I 2021-06-30 17:51:05,291]\u001b[0m Trial 30 finished with value: 13.264363940872595 and parameters: {'reg_lambda': 0.05601867005916947, 'reg_alpha': 5.357526731131669, 'colsample_bytree': 0.7, 'subsample': 0.9, 'learning_rate': 0.007206526253619036, 'max_depth': 20, 'min_child_weight': 193}. Best is trial 10 with value: 0.16177712479589715.\u001b[0m\n"
          ],
          "name": "stderr"
        },
        {
          "output_type": "stream",
          "text": [
            "Training until validation scores don't improve for 50 rounds.\n",
            "[100]\tvalid_0's l1: 13.3102\n",
            "Did not meet early stopping. Best iteration is:\n",
            "[100]\tvalid_0's l1: 13.3102\n",
            "Training until validation scores don't improve for 50 rounds.\n",
            "[100]\tvalid_0's l1: 0.159295\n",
            "Did not meet early stopping. Best iteration is:\n",
            "[90]\tvalid_0's l1: 0.159202\n",
            "Training until validation scores don't improve for 50 rounds.\n",
            "[100]\tvalid_0's l1: 0.162281\n",
            "Did not meet early stopping. Best iteration is:\n",
            "[100]\tvalid_0's l1: 0.162281\n",
            "Training until validation scores don't improve for 50 rounds.\n",
            "[100]\tvalid_0's l1: 0.170748\n",
            "Did not meet early stopping. Best iteration is:\n",
            "[98]\tvalid_0's l1: 0.170722\n",
            "Training until validation scores don't improve for 50 rounds.\n",
            "[100]\tvalid_0's l1: 0.175668\n",
            "Did not meet early stopping. Best iteration is:\n",
            "[100]\tvalid_0's l1: 0.175668\n",
            "Training until validation scores don't improve for 50 rounds.\n",
            "[100]\tvalid_0's l1: 0.158204\n",
            "Did not meet early stopping. Best iteration is:\n",
            "[100]\tvalid_0's l1: 0.158204\n",
            "Training until validation scores don't improve for 50 rounds.\n",
            "[100]\tvalid_0's l1: 0.170936\n",
            "Did not meet early stopping. Best iteration is:\n",
            "[100]\tvalid_0's l1: 0.170936\n",
            "Training until validation scores don't improve for 50 rounds.\n",
            "[100]\tvalid_0's l1: 0.158258\n",
            "Did not meet early stopping. Best iteration is:\n",
            "[91]\tvalid_0's l1: 0.158081\n",
            "Training until validation scores don't improve for 50 rounds.\n",
            "[100]\tvalid_0's l1: 0.166229\n",
            "Did not meet early stopping. Best iteration is:\n",
            "[100]\tvalid_0's l1: 0.166229\n",
            "Training until validation scores don't improve for 50 rounds.\n",
            "[100]\tvalid_0's l1: 0.164955\n",
            "Did not meet early stopping. Best iteration is:\n",
            "[100]\tvalid_0's l1: 0.164955\n",
            "Training until validation scores don't improve for 50 rounds.\n"
          ],
          "name": "stdout"
        },
        {
          "output_type": "stream",
          "text": [
            "\u001b[32m[I 2021-06-30 17:51:07,535]\u001b[0m Trial 31 finished with value: 0.1639078926088559 and parameters: {'reg_lambda': 0.014957359103251728, 'reg_alpha': 1.5987115826485685, 'colsample_bytree': 1.0, 'subsample': 0.8, 'learning_rate': 0.09615910391155254, 'max_depth': 31, 'min_child_weight': 188}. Best is trial 10 with value: 0.16177712479589715.\u001b[0m\n"
          ],
          "name": "stderr"
        },
        {
          "output_type": "stream",
          "text": [
            "[100]\tvalid_0's l1: 0.152801\n",
            "Did not meet early stopping. Best iteration is:\n",
            "[100]\tvalid_0's l1: 0.152801\n",
            "[LightGBM] [Warning] Accuracy may be bad since you didn't set num_leaves and 2^max_depth > num_leaves\n",
            "Training until validation scores don't improve for 50 rounds.\n",
            "[100]\tvalid_0's l1: 3.63465\n",
            "Did not meet early stopping. Best iteration is:\n",
            "[100]\tvalid_0's l1: 3.63465\n",
            "[LightGBM] [Warning] Accuracy may be bad since you didn't set num_leaves and 2^max_depth > num_leaves\n",
            "Training until validation scores don't improve for 50 rounds.\n",
            "[100]\tvalid_0's l1: 3.52337\n",
            "Did not meet early stopping. Best iteration is:\n",
            "[100]\tvalid_0's l1: 3.52337\n",
            "[LightGBM] [Warning] Accuracy may be bad since you didn't set num_leaves and 2^max_depth > num_leaves\n",
            "Training until validation scores don't improve for 50 rounds.\n",
            "[100]\tvalid_0's l1: 3.63886\n",
            "Did not meet early stopping. Best iteration is:\n",
            "[100]\tvalid_0's l1: 3.63886\n",
            "[LightGBM] [Warning] Accuracy may be bad since you didn't set num_leaves and 2^max_depth > num_leaves\n",
            "Training until validation scores don't improve for 50 rounds.\n",
            "[100]\tvalid_0's l1: 3.60517\n",
            "Did not meet early stopping. Best iteration is:\n",
            "[100]\tvalid_0's l1: 3.60517\n",
            "[LightGBM] [Warning] Accuracy may be bad since you didn't set num_leaves and 2^max_depth > num_leaves\n",
            "Training until validation scores don't improve for 50 rounds.\n",
            "[100]\tvalid_0's l1: 3.54201\n",
            "Did not meet early stopping. Best iteration is:\n",
            "[100]\tvalid_0's l1: 3.54201\n",
            "[LightGBM] [Warning] Accuracy may be bad since you didn't set num_leaves and 2^max_depth > num_leaves\n",
            "Training until validation scores don't improve for 50 rounds.\n",
            "[100]\tvalid_0's l1: 3.54802\n",
            "Did not meet early stopping. Best iteration is:\n",
            "[100]\tvalid_0's l1: 3.54802\n",
            "[LightGBM] [Warning] Accuracy may be bad since you didn't set num_leaves and 2^max_depth > num_leaves\n",
            "Training until validation scores don't improve for 50 rounds.\n",
            "[100]\tvalid_0's l1: 3.5607\n",
            "Did not meet early stopping. Best iteration is:\n",
            "[100]\tvalid_0's l1: 3.5607\n",
            "[LightGBM] [Warning] Accuracy may be bad since you didn't set num_leaves and 2^max_depth > num_leaves\n",
            "Training until validation scores don't improve for 50 rounds.\n",
            "[100]\tvalid_0's l1: 3.48798\n",
            "Did not meet early stopping. Best iteration is:\n",
            "[100]\tvalid_0's l1: 3.48798\n",
            "[LightGBM] [Warning] Accuracy may be bad since you didn't set num_leaves and 2^max_depth > num_leaves\n",
            "Training until validation scores don't improve for 50 rounds.\n",
            "[100]\tvalid_0's l1: 3.57326\n",
            "Did not meet early stopping. Best iteration is:\n",
            "[100]\tvalid_0's l1: 3.57326\n",
            "[LightGBM] [Warning] Accuracy may be bad since you didn't set num_leaves and 2^max_depth > num_leaves\n",
            "Training until validation scores don't improve for 50 rounds.\n"
          ],
          "name": "stdout"
        },
        {
          "output_type": "stream",
          "text": [
            "\u001b[32m[I 2021-06-30 17:51:09,710]\u001b[0m Trial 32 finished with value: 3.5687051335759152 and parameters: {'reg_lambda': 0.014535503276515146, 'reg_alpha': 1.684986232021241, 'colsample_bytree': 1.0, 'subsample': 0.8, 'learning_rate': 0.020022754338373708, 'max_depth': 27, 'min_child_weight': 219}. Best is trial 10 with value: 0.16177712479589715.\u001b[0m\n"
          ],
          "name": "stderr"
        },
        {
          "output_type": "stream",
          "text": [
            "[100]\tvalid_0's l1: 3.57302\n",
            "Did not meet early stopping. Best iteration is:\n",
            "[100]\tvalid_0's l1: 3.57302\n",
            "Training until validation scores don't improve for 50 rounds.\n",
            "[100]\tvalid_0's l1: 0.157667\n",
            "Did not meet early stopping. Best iteration is:\n",
            "[94]\tvalid_0's l1: 0.157355\n",
            "Training until validation scores don't improve for 50 rounds.\n",
            "[100]\tvalid_0's l1: 0.16299\n",
            "Did not meet early stopping. Best iteration is:\n",
            "[99]\tvalid_0's l1: 0.162954\n",
            "Training until validation scores don't improve for 50 rounds.\n",
            "[100]\tvalid_0's l1: 0.167641\n",
            "Did not meet early stopping. Best iteration is:\n",
            "[100]\tvalid_0's l1: 0.167641\n",
            "Training until validation scores don't improve for 50 rounds.\n",
            "[100]\tvalid_0's l1: 0.175062\n",
            "Did not meet early stopping. Best iteration is:\n",
            "[100]\tvalid_0's l1: 0.175062\n",
            "Training until validation scores don't improve for 50 rounds.\n",
            "[100]\tvalid_0's l1: 0.158504\n",
            "Did not meet early stopping. Best iteration is:\n",
            "[100]\tvalid_0's l1: 0.158504\n",
            "Training until validation scores don't improve for 50 rounds.\n",
            "[100]\tvalid_0's l1: 0.16894\n",
            "Did not meet early stopping. Best iteration is:\n",
            "[100]\tvalid_0's l1: 0.16894\n",
            "Training until validation scores don't improve for 50 rounds.\n",
            "[100]\tvalid_0's l1: 0.159059\n",
            "Did not meet early stopping. Best iteration is:\n",
            "[100]\tvalid_0's l1: 0.159059\n",
            "Training until validation scores don't improve for 50 rounds.\n",
            "[100]\tvalid_0's l1: 0.163516\n",
            "Did not meet early stopping. Best iteration is:\n",
            "[100]\tvalid_0's l1: 0.163516\n",
            "Training until validation scores don't improve for 50 rounds.\n",
            "[100]\tvalid_0's l1: 0.164316\n",
            "Did not meet early stopping. Best iteration is:\n",
            "[98]\tvalid_0's l1: 0.16426\n",
            "Training until validation scores don't improve for 50 rounds.\n"
          ],
          "name": "stdout"
        },
        {
          "output_type": "stream",
          "text": [
            "\u001b[32m[I 2021-06-30 17:51:12,095]\u001b[0m Trial 33 finished with value: 0.1630042670156733 and parameters: {'reg_lambda': 0.006807813240522407, 'reg_alpha': 0.793821497901841, 'colsample_bytree': 1.0, 'subsample': 0.8, 'learning_rate': 0.09333381736665597, 'max_depth': 32, 'min_child_weight': 185}. Best is trial 10 with value: 0.16177712479589715.\u001b[0m\n"
          ],
          "name": "stderr"
        },
        {
          "output_type": "stream",
          "text": [
            "[100]\tvalid_0's l1: 0.152823\n",
            "Did not meet early stopping. Best iteration is:\n",
            "[99]\tvalid_0's l1: 0.152752\n",
            "Training until validation scores don't improve for 50 rounds.\n",
            "[100]\tvalid_0's l1: 0.181387\n",
            "Did not meet early stopping. Best iteration is:\n",
            "[100]\tvalid_0's l1: 0.181387\n",
            "Training until validation scores don't improve for 50 rounds.\n",
            "[100]\tvalid_0's l1: 0.186541\n",
            "Did not meet early stopping. Best iteration is:\n",
            "[100]\tvalid_0's l1: 0.186541\n",
            "Training until validation scores don't improve for 50 rounds.\n",
            "[100]\tvalid_0's l1: 0.189136\n",
            "Did not meet early stopping. Best iteration is:\n",
            "[100]\tvalid_0's l1: 0.189136\n",
            "Training until validation scores don't improve for 50 rounds.\n",
            "[100]\tvalid_0's l1: 0.209836\n",
            "Did not meet early stopping. Best iteration is:\n",
            "[100]\tvalid_0's l1: 0.209836\n",
            "Training until validation scores don't improve for 50 rounds.\n",
            "[100]\tvalid_0's l1: 0.180482\n",
            "Did not meet early stopping. Best iteration is:\n",
            "[100]\tvalid_0's l1: 0.180482\n",
            "Training until validation scores don't improve for 50 rounds.\n",
            "[100]\tvalid_0's l1: 0.202722\n",
            "Did not meet early stopping. Best iteration is:\n",
            "[100]\tvalid_0's l1: 0.202722\n",
            "Training until validation scores don't improve for 50 rounds.\n",
            "[100]\tvalid_0's l1: 0.184489\n",
            "Did not meet early stopping. Best iteration is:\n",
            "[100]\tvalid_0's l1: 0.184489\n",
            "Training until validation scores don't improve for 50 rounds.\n",
            "[100]\tvalid_0's l1: 0.187306\n",
            "Did not meet early stopping. Best iteration is:\n",
            "[100]\tvalid_0's l1: 0.187306\n",
            "Training until validation scores don't improve for 50 rounds.\n",
            "[100]\tvalid_0's l1: 0.188454\n",
            "Did not meet early stopping. Best iteration is:\n",
            "[100]\tvalid_0's l1: 0.188454\n",
            "Training until validation scores don't improve for 50 rounds.\n"
          ],
          "name": "stdout"
        },
        {
          "output_type": "stream",
          "text": [
            "\u001b[32m[I 2021-06-30 17:51:14,469]\u001b[0m Trial 34 finished with value: 0.18911736254206002 and parameters: {'reg_lambda': 0.005708529910299363, 'reg_alpha': 0.6774527125324872, 'colsample_bytree': 1.0, 'subsample': 0.8, 'learning_rate': 0.057072103439291776, 'max_depth': 31, 'min_child_weight': 182}. Best is trial 10 with value: 0.16177712479589715.\u001b[0m\n"
          ],
          "name": "stderr"
        },
        {
          "output_type": "stream",
          "text": [
            "[100]\tvalid_0's l1: 0.18082\n",
            "Did not meet early stopping. Best iteration is:\n",
            "[100]\tvalid_0's l1: 0.18082\n",
            "[LightGBM] [Warning] Accuracy may be bad since you didn't set num_leaves and 2^max_depth > num_leaves\n",
            "Training until validation scores don't improve for 50 rounds.\n",
            "[100]\tvalid_0's l1: 1.36415\n",
            "Did not meet early stopping. Best iteration is:\n",
            "[100]\tvalid_0's l1: 1.36415\n",
            "[LightGBM] [Warning] Accuracy may be bad since you didn't set num_leaves and 2^max_depth > num_leaves\n",
            "Training until validation scores don't improve for 50 rounds.\n",
            "[100]\tvalid_0's l1: 1.32226\n",
            "Did not meet early stopping. Best iteration is:\n",
            "[100]\tvalid_0's l1: 1.32226\n",
            "[LightGBM] [Warning] Accuracy may be bad since you didn't set num_leaves and 2^max_depth > num_leaves\n",
            "Training until validation scores don't improve for 50 rounds.\n",
            "[100]\tvalid_0's l1: 1.34794\n",
            "Did not meet early stopping. Best iteration is:\n",
            "[100]\tvalid_0's l1: 1.34794\n",
            "[LightGBM] [Warning] Accuracy may be bad since you didn't set num_leaves and 2^max_depth > num_leaves\n",
            "Training until validation scores don't improve for 50 rounds.\n",
            "[100]\tvalid_0's l1: 1.35961\n",
            "Did not meet early stopping. Best iteration is:\n",
            "[100]\tvalid_0's l1: 1.35961\n",
            "[LightGBM] [Warning] Accuracy may be bad since you didn't set num_leaves and 2^max_depth > num_leaves\n",
            "Training until validation scores don't improve for 50 rounds.\n",
            "[100]\tvalid_0's l1: 1.34066\n",
            "Did not meet early stopping. Best iteration is:\n",
            "[100]\tvalid_0's l1: 1.34066\n",
            "[LightGBM] [Warning] Accuracy may be bad since you didn't set num_leaves and 2^max_depth > num_leaves\n",
            "Training until validation scores don't improve for 50 rounds.\n",
            "[100]\tvalid_0's l1: 1.40178\n",
            "Did not meet early stopping. Best iteration is:\n",
            "[100]\tvalid_0's l1: 1.40178\n",
            "[LightGBM] [Warning] Accuracy may be bad since you didn't set num_leaves and 2^max_depth > num_leaves\n",
            "Training until validation scores don't improve for 50 rounds.\n",
            "[100]\tvalid_0's l1: 1.3196\n",
            "Did not meet early stopping. Best iteration is:\n",
            "[100]\tvalid_0's l1: 1.3196\n",
            "[LightGBM] [Warning] Accuracy may be bad since you didn't set num_leaves and 2^max_depth > num_leaves\n",
            "Training until validation scores don't improve for 50 rounds.\n",
            "[100]\tvalid_0's l1: 1.33758\n",
            "Did not meet early stopping. Best iteration is:\n",
            "[100]\tvalid_0's l1: 1.33758\n",
            "[LightGBM] [Warning] Accuracy may be bad since you didn't set num_leaves and 2^max_depth > num_leaves\n",
            "Training until validation scores don't improve for 50 rounds.\n",
            "[100]\tvalid_0's l1: 1.32874\n",
            "Did not meet early stopping. Best iteration is:\n",
            "[100]\tvalid_0's l1: 1.32874\n",
            "[LightGBM] [Warning] Accuracy may be bad since you didn't set num_leaves and 2^max_depth > num_leaves\n",
            "Training until validation scores don't improve for 50 rounds.\n"
          ],
          "name": "stdout"
        },
        {
          "output_type": "stream",
          "text": [
            "\u001b[32m[I 2021-06-30 17:51:16,746]\u001b[0m Trial 35 finished with value: 1.3483453081504526 and parameters: {'reg_lambda': 0.0024169929743091028, 'reg_alpha': 0.2836089599852504, 'colsample_bytree': 0.9, 'subsample': 0.8, 'learning_rate': 0.03074403996410783, 'max_depth': 28, 'min_child_weight': 253}. Best is trial 10 with value: 0.16177712479589715.\u001b[0m\n"
          ],
          "name": "stderr"
        },
        {
          "output_type": "stream",
          "text": [
            "[100]\tvalid_0's l1: 1.36112\n",
            "Did not meet early stopping. Best iteration is:\n",
            "[100]\tvalid_0's l1: 1.36112\n",
            "Training until validation scores don't improve for 50 rounds.\n",
            "[100]\tvalid_0's l1: 5.25243\n",
            "Did not meet early stopping. Best iteration is:\n",
            "[100]\tvalid_0's l1: 5.25243\n",
            "Training until validation scores don't improve for 50 rounds.\n",
            "[100]\tvalid_0's l1: 5.08693\n",
            "Did not meet early stopping. Best iteration is:\n",
            "[100]\tvalid_0's l1: 5.08693\n",
            "Training until validation scores don't improve for 50 rounds.\n",
            "[100]\tvalid_0's l1: 5.24924\n",
            "Did not meet early stopping. Best iteration is:\n",
            "[100]\tvalid_0's l1: 5.24924\n",
            "Training until validation scores don't improve for 50 rounds.\n",
            "[100]\tvalid_0's l1: 5.20369\n",
            "Did not meet early stopping. Best iteration is:\n",
            "[100]\tvalid_0's l1: 5.20369\n",
            "Training until validation scores don't improve for 50 rounds.\n",
            "[100]\tvalid_0's l1: 5.10176\n",
            "Did not meet early stopping. Best iteration is:\n",
            "[100]\tvalid_0's l1: 5.10176\n",
            "Training until validation scores don't improve for 50 rounds.\n",
            "[100]\tvalid_0's l1: 5.10037\n",
            "Did not meet early stopping. Best iteration is:\n",
            "[100]\tvalid_0's l1: 5.10037\n",
            "Training until validation scores don't improve for 50 rounds.\n",
            "[100]\tvalid_0's l1: 5.13184\n",
            "Did not meet early stopping. Best iteration is:\n",
            "[100]\tvalid_0's l1: 5.13184\n",
            "Training until validation scores don't improve for 50 rounds.\n",
            "[100]\tvalid_0's l1: 5.03992\n",
            "Did not meet early stopping. Best iteration is:\n",
            "[100]\tvalid_0's l1: 5.03992\n",
            "Training until validation scores don't improve for 50 rounds.\n",
            "[100]\tvalid_0's l1: 5.16128\n",
            "Did not meet early stopping. Best iteration is:\n",
            "[100]\tvalid_0's l1: 5.16128\n",
            "Training until validation scores don't improve for 50 rounds.\n"
          ],
          "name": "stdout"
        },
        {
          "output_type": "stream",
          "text": [
            "\u001b[32m[I 2021-06-30 17:51:19,469]\u001b[0m Trial 36 finished with value: 5.14895733452814 and parameters: {'reg_lambda': 0.007324065658009599, 'reg_alpha': 0.1609912468505683, 'colsample_bytree': 1.0, 'subsample': 0.5, 'learning_rate': 0.016392936849195884, 'max_depth': 33, 'min_child_weight': 128}. Best is trial 10 with value: 0.16177712479589715.\u001b[0m\n"
          ],
          "name": "stderr"
        },
        {
          "output_type": "stream",
          "text": [
            "[100]\tvalid_0's l1: 5.16211\n",
            "Did not meet early stopping. Best iteration is:\n",
            "[100]\tvalid_0's l1: 5.16211\n",
            "[LightGBM] [Warning] Accuracy may be bad since you didn't set num_leaves and 2^max_depth > num_leaves\n",
            "Training until validation scores don't improve for 50 rounds.\n",
            "[100]\tvalid_0's l1: 0.148451\n",
            "Did not meet early stopping. Best iteration is:\n",
            "[91]\tvalid_0's l1: 0.147993\n",
            "[LightGBM] [Warning] Accuracy may be bad since you didn't set num_leaves and 2^max_depth > num_leaves\n",
            "Training until validation scores don't improve for 50 rounds.\n",
            "[100]\tvalid_0's l1: 0.149233\n",
            "Did not meet early stopping. Best iteration is:\n",
            "[99]\tvalid_0's l1: 0.149145\n",
            "[LightGBM] [Warning] Accuracy may be bad since you didn't set num_leaves and 2^max_depth > num_leaves\n",
            "Training until validation scores don't improve for 50 rounds.\n",
            "[100]\tvalid_0's l1: 0.151755\n",
            "Did not meet early stopping. Best iteration is:\n",
            "[100]\tvalid_0's l1: 0.151755\n",
            "[LightGBM] [Warning] Accuracy may be bad since you didn't set num_leaves and 2^max_depth > num_leaves\n",
            "Training until validation scores don't improve for 50 rounds.\n",
            "[100]\tvalid_0's l1: 0.159492\n",
            "Did not meet early stopping. Best iteration is:\n",
            "[98]\tvalid_0's l1: 0.15941\n",
            "[LightGBM] [Warning] Accuracy may be bad since you didn't set num_leaves and 2^max_depth > num_leaves\n",
            "Training until validation scores don't improve for 50 rounds.\n",
            "[100]\tvalid_0's l1: 0.141095\n",
            "Did not meet early stopping. Best iteration is:\n",
            "[86]\tvalid_0's l1: 0.140493\n",
            "[LightGBM] [Warning] Accuracy may be bad since you didn't set num_leaves and 2^max_depth > num_leaves\n",
            "Training until validation scores don't improve for 50 rounds.\n",
            "[100]\tvalid_0's l1: 0.157843\n",
            "Did not meet early stopping. Best iteration is:\n",
            "[100]\tvalid_0's l1: 0.157843\n",
            "[LightGBM] [Warning] Accuracy may be bad since you didn't set num_leaves and 2^max_depth > num_leaves\n",
            "Training until validation scores don't improve for 50 rounds.\n",
            "[100]\tvalid_0's l1: 0.151787\n",
            "Did not meet early stopping. Best iteration is:\n",
            "[96]\tvalid_0's l1: 0.151052\n",
            "[LightGBM] [Warning] Accuracy may be bad since you didn't set num_leaves and 2^max_depth > num_leaves\n",
            "Training until validation scores don't improve for 50 rounds.\n",
            "[100]\tvalid_0's l1: 0.153681\n",
            "Did not meet early stopping. Best iteration is:\n",
            "[73]\tvalid_0's l1: 0.153075\n",
            "[LightGBM] [Warning] Accuracy may be bad since you didn't set num_leaves and 2^max_depth > num_leaves\n",
            "Training until validation scores don't improve for 50 rounds.\n",
            "[100]\tvalid_0's l1: 0.151452\n",
            "Did not meet early stopping. Best iteration is:\n",
            "[89]\tvalid_0's l1: 0.151374\n",
            "[LightGBM] [Warning] Accuracy may be bad since you didn't set num_leaves and 2^max_depth > num_leaves\n",
            "Training until validation scores don't improve for 50 rounds.\n"
          ],
          "name": "stdout"
        },
        {
          "output_type": "stream",
          "text": [
            "\u001b[32m[I 2021-06-30 17:51:22,123]\u001b[0m Trial 37 finished with value: 0.15030750853234998 and parameters: {'reg_lambda': 0.033249569214294, 'reg_alpha': 0.8447446838030624, 'colsample_bytree': 1.0, 'subsample': 0.7, 'learning_rate': 0.0949012007149707, 'max_depth': 25, 'min_child_weight': 45}. Best is trial 37 with value: 0.15030750853234998.\u001b[0m\n"
          ],
          "name": "stderr"
        },
        {
          "output_type": "stream",
          "text": [
            "[100]\tvalid_0's l1: 0.140962\n",
            "Did not meet early stopping. Best iteration is:\n",
            "[94]\tvalid_0's l1: 0.140936\n",
            "[LightGBM] [Warning] Accuracy may be bad since you didn't set num_leaves and 2^max_depth > num_leaves\n",
            "Training until validation scores don't improve for 50 rounds.\n",
            "[100]\tvalid_0's l1: 0.40394\n",
            "Did not meet early stopping. Best iteration is:\n",
            "[100]\tvalid_0's l1: 0.40394\n",
            "[LightGBM] [Warning] Accuracy may be bad since you didn't set num_leaves and 2^max_depth > num_leaves\n",
            "Training until validation scores don't improve for 50 rounds.\n",
            "[100]\tvalid_0's l1: 0.406495\n",
            "Did not meet early stopping. Best iteration is:\n",
            "[100]\tvalid_0's l1: 0.406495\n",
            "[LightGBM] [Warning] Accuracy may be bad since you didn't set num_leaves and 2^max_depth > num_leaves\n",
            "Training until validation scores don't improve for 50 rounds.\n",
            "[100]\tvalid_0's l1: 0.411749\n",
            "Did not meet early stopping. Best iteration is:\n",
            "[100]\tvalid_0's l1: 0.411749\n",
            "[LightGBM] [Warning] Accuracy may be bad since you didn't set num_leaves and 2^max_depth > num_leaves\n",
            "Training until validation scores don't improve for 50 rounds.\n",
            "[100]\tvalid_0's l1: 0.436809\n",
            "Did not meet early stopping. Best iteration is:\n",
            "[100]\tvalid_0's l1: 0.436809\n",
            "[LightGBM] [Warning] Accuracy may be bad since you didn't set num_leaves and 2^max_depth > num_leaves\n",
            "Training until validation scores don't improve for 50 rounds.\n",
            "[100]\tvalid_0's l1: 0.437566\n",
            "Did not meet early stopping. Best iteration is:\n",
            "[100]\tvalid_0's l1: 0.437566\n",
            "[LightGBM] [Warning] Accuracy may be bad since you didn't set num_leaves and 2^max_depth > num_leaves\n",
            "Training until validation scores don't improve for 50 rounds.\n",
            "[100]\tvalid_0's l1: 0.449138\n",
            "Did not meet early stopping. Best iteration is:\n",
            "[100]\tvalid_0's l1: 0.449138\n",
            "[LightGBM] [Warning] Accuracy may be bad since you didn't set num_leaves and 2^max_depth > num_leaves\n",
            "Training until validation scores don't improve for 50 rounds.\n",
            "[100]\tvalid_0's l1: 0.401384\n",
            "Did not meet early stopping. Best iteration is:\n",
            "[100]\tvalid_0's l1: 0.401384\n",
            "[LightGBM] [Warning] Accuracy may be bad since you didn't set num_leaves and 2^max_depth > num_leaves\n",
            "Training until validation scores don't improve for 50 rounds.\n",
            "[100]\tvalid_0's l1: 0.422647\n",
            "Did not meet early stopping. Best iteration is:\n",
            "[100]\tvalid_0's l1: 0.422647\n",
            "[LightGBM] [Warning] Accuracy may be bad since you didn't set num_leaves and 2^max_depth > num_leaves\n",
            "Training until validation scores don't improve for 50 rounds.\n",
            "[100]\tvalid_0's l1: 0.41023\n",
            "Did not meet early stopping. Best iteration is:\n",
            "[100]\tvalid_0's l1: 0.41023\n",
            "[LightGBM] [Warning] Accuracy may be bad since you didn't set num_leaves and 2^max_depth > num_leaves\n",
            "Training until validation scores don't improve for 50 rounds.\n"
          ],
          "name": "stdout"
        },
        {
          "output_type": "stream",
          "text": [
            "\u001b[32m[I 2021-06-30 17:51:24,869]\u001b[0m Trial 38 finished with value: 0.4193026335130455 and parameters: {'reg_lambda': 0.16179134349076285, 'reg_alpha': 0.37225599771648327, 'colsample_bytree': 0.9, 'subsample': 0.7, 'learning_rate': 0.047378070103600206, 'max_depth': 16, 'min_child_weight': 38}. Best is trial 37 with value: 0.15030750853234998.\u001b[0m\n"
          ],
          "name": "stderr"
        },
        {
          "output_type": "stream",
          "text": [
            "[100]\tvalid_0's l1: 0.413068\n",
            "Did not meet early stopping. Best iteration is:\n",
            "[100]\tvalid_0's l1: 0.413068\n",
            "[LightGBM] [Warning] Accuracy may be bad since you didn't set num_leaves and 2^max_depth > num_leaves\n",
            "Training until validation scores don't improve for 50 rounds.\n",
            "[100]\tvalid_0's l1: 2.19905\n",
            "Did not meet early stopping. Best iteration is:\n",
            "[100]\tvalid_0's l1: 2.19905\n",
            "[LightGBM] [Warning] Accuracy may be bad since you didn't set num_leaves and 2^max_depth > num_leaves\n",
            "Training until validation scores don't improve for 50 rounds.\n",
            "[100]\tvalid_0's l1: 2.16831\n",
            "Did not meet early stopping. Best iteration is:\n",
            "[100]\tvalid_0's l1: 2.16831\n",
            "[LightGBM] [Warning] Accuracy may be bad since you didn't set num_leaves and 2^max_depth > num_leaves\n",
            "Training until validation scores don't improve for 50 rounds.\n",
            "[100]\tvalid_0's l1: 2.1904\n",
            "Did not meet early stopping. Best iteration is:\n",
            "[100]\tvalid_0's l1: 2.1904\n",
            "[LightGBM] [Warning] Accuracy may be bad since you didn't set num_leaves and 2^max_depth > num_leaves\n",
            "Training until validation scores don't improve for 50 rounds.\n",
            "[100]\tvalid_0's l1: 2.18662\n",
            "Did not meet early stopping. Best iteration is:\n",
            "[100]\tvalid_0's l1: 2.18662\n",
            "[LightGBM] [Warning] Accuracy may be bad since you didn't set num_leaves and 2^max_depth > num_leaves\n",
            "Training until validation scores don't improve for 50 rounds.\n",
            "[100]\tvalid_0's l1: 2.17506\n",
            "Did not meet early stopping. Best iteration is:\n",
            "[100]\tvalid_0's l1: 2.17506\n",
            "[LightGBM] [Warning] Accuracy may be bad since you didn't set num_leaves and 2^max_depth > num_leaves\n",
            "Training until validation scores don't improve for 50 rounds.\n",
            "[100]\tvalid_0's l1: 2.23496\n",
            "Did not meet early stopping. Best iteration is:\n",
            "[100]\tvalid_0's l1: 2.23496\n",
            "[LightGBM] [Warning] Accuracy may be bad since you didn't set num_leaves and 2^max_depth > num_leaves\n",
            "Training until validation scores don't improve for 50 rounds.\n",
            "[100]\tvalid_0's l1: 2.14143\n",
            "Did not meet early stopping. Best iteration is:\n",
            "[100]\tvalid_0's l1: 2.14143\n",
            "[LightGBM] [Warning] Accuracy may be bad since you didn't set num_leaves and 2^max_depth > num_leaves\n",
            "Training until validation scores don't improve for 50 rounds.\n",
            "[100]\tvalid_0's l1: 2.1545\n",
            "Did not meet early stopping. Best iteration is:\n",
            "[100]\tvalid_0's l1: 2.1545\n",
            "[LightGBM] [Warning] Accuracy may be bad since you didn't set num_leaves and 2^max_depth > num_leaves\n",
            "Training until validation scores don't improve for 50 rounds.\n",
            "[100]\tvalid_0's l1: 2.17881\n",
            "Did not meet early stopping. Best iteration is:\n",
            "[100]\tvalid_0's l1: 2.17881\n",
            "[LightGBM] [Warning] Accuracy may be bad since you didn't set num_leaves and 2^max_depth > num_leaves\n",
            "Training until validation scores don't improve for 50 rounds.\n"
          ],
          "name": "stdout"
        },
        {
          "output_type": "stream",
          "text": [
            "\u001b[32m[I 2021-06-30 17:51:27,575]\u001b[0m Trial 39 finished with value: 2.181854138275504 and parameters: {'reg_lambda': 0.03707437599146151, 'reg_alpha': 0.0506947020771551, 'colsample_bytree': 0.8, 'subsample': 0.7, 'learning_rate': 0.025809882839629608, 'max_depth': 28, 'min_child_weight': 28}. Best is trial 37 with value: 0.15030750853234998.\u001b[0m\n"
          ],
          "name": "stderr"
        },
        {
          "output_type": "stream",
          "text": [
            "[100]\tvalid_0's l1: 2.1894\n",
            "Did not meet early stopping. Best iteration is:\n",
            "[100]\tvalid_0's l1: 2.1894\n",
            "[LightGBM] [Warning] Accuracy may be bad since you didn't set num_leaves and 2^max_depth > num_leaves\n",
            "Training until validation scores don't improve for 50 rounds.\n",
            "[100]\tvalid_0's l1: 7.95303\n",
            "Did not meet early stopping. Best iteration is:\n",
            "[100]\tvalid_0's l1: 7.95303\n",
            "[LightGBM] [Warning] Accuracy may be bad since you didn't set num_leaves and 2^max_depth > num_leaves\n",
            "Training until validation scores don't improve for 50 rounds.\n",
            "[100]\tvalid_0's l1: 7.69036\n",
            "Did not meet early stopping. Best iteration is:\n",
            "[100]\tvalid_0's l1: 7.69036\n",
            "[LightGBM] [Warning] Accuracy may be bad since you didn't set num_leaves and 2^max_depth > num_leaves\n",
            "Training until validation scores don't improve for 50 rounds.\n",
            "[100]\tvalid_0's l1: 7.93948\n",
            "Did not meet early stopping. Best iteration is:\n",
            "[100]\tvalid_0's l1: 7.93948\n",
            "[LightGBM] [Warning] Accuracy may be bad since you didn't set num_leaves and 2^max_depth > num_leaves\n",
            "Training until validation scores don't improve for 50 rounds.\n",
            "[100]\tvalid_0's l1: 7.87514\n",
            "Did not meet early stopping. Best iteration is:\n",
            "[100]\tvalid_0's l1: 7.87514\n",
            "[LightGBM] [Warning] Accuracy may be bad since you didn't set num_leaves and 2^max_depth > num_leaves\n",
            "Training until validation scores don't improve for 50 rounds.\n",
            "[100]\tvalid_0's l1: 7.71699\n",
            "Did not meet early stopping. Best iteration is:\n",
            "[100]\tvalid_0's l1: 7.71699\n",
            "[LightGBM] [Warning] Accuracy may be bad since you didn't set num_leaves and 2^max_depth > num_leaves\n",
            "Training until validation scores don't improve for 50 rounds.\n",
            "[100]\tvalid_0's l1: 7.69162\n",
            "Did not meet early stopping. Best iteration is:\n",
            "[100]\tvalid_0's l1: 7.69162\n",
            "[LightGBM] [Warning] Accuracy may be bad since you didn't set num_leaves and 2^max_depth > num_leaves\n",
            "Training until validation scores don't improve for 50 rounds.\n",
            "[100]\tvalid_0's l1: 7.76883\n",
            "Did not meet early stopping. Best iteration is:\n",
            "[100]\tvalid_0's l1: 7.76883\n",
            "[LightGBM] [Warning] Accuracy may be bad since you didn't set num_leaves and 2^max_depth > num_leaves\n",
            "Training until validation scores don't improve for 50 rounds.\n",
            "[100]\tvalid_0's l1: 7.63169\n",
            "Did not meet early stopping. Best iteration is:\n",
            "[100]\tvalid_0's l1: 7.63169\n",
            "[LightGBM] [Warning] Accuracy may be bad since you didn't set num_leaves and 2^max_depth > num_leaves\n",
            "Training until validation scores don't improve for 50 rounds.\n",
            "[100]\tvalid_0's l1: 7.81174\n",
            "Did not meet early stopping. Best iteration is:\n",
            "[100]\tvalid_0's l1: 7.81174\n",
            "[LightGBM] [Warning] Accuracy may be bad since you didn't set num_leaves and 2^max_depth > num_leaves\n",
            "Training until validation scores don't improve for 50 rounds.\n"
          ],
          "name": "stdout"
        },
        {
          "output_type": "stream",
          "text": [
            "\u001b[32m[I 2021-06-30 17:51:30,414]\u001b[0m Trial 40 finished with value: 7.788627899256248 and parameters: {'reg_lambda': 0.0372968503393324, 'reg_alpha': 0.7904374830891444, 'colsample_bytree': 1.0, 'subsample': 0.7, 'learning_rate': 0.012305381860150837, 'max_depth': 24, 'min_child_weight': 55}. Best is trial 37 with value: 0.15030750853234998.\u001b[0m\n"
          ],
          "name": "stderr"
        },
        {
          "output_type": "stream",
          "text": [
            "[100]\tvalid_0's l1: 7.80741\n",
            "Did not meet early stopping. Best iteration is:\n",
            "[100]\tvalid_0's l1: 7.80741\n",
            "[LightGBM] [Warning] Accuracy may be bad since you didn't set num_leaves and 2^max_depth > num_leaves\n",
            "Training until validation scores don't improve for 50 rounds.\n",
            "[100]\tvalid_0's l1: 0.177097\n",
            "Did not meet early stopping. Best iteration is:\n",
            "[100]\tvalid_0's l1: 0.177097\n",
            "[LightGBM] [Warning] Accuracy may be bad since you didn't set num_leaves and 2^max_depth > num_leaves\n",
            "Training until validation scores don't improve for 50 rounds.\n",
            "[100]\tvalid_0's l1: 0.176105\n",
            "Did not meet early stopping. Best iteration is:\n",
            "[100]\tvalid_0's l1: 0.176105\n",
            "[LightGBM] [Warning] Accuracy may be bad since you didn't set num_leaves and 2^max_depth > num_leaves\n",
            "Training until validation scores don't improve for 50 rounds.\n",
            "[100]\tvalid_0's l1: 0.185533\n",
            "Did not meet early stopping. Best iteration is:\n",
            "[100]\tvalid_0's l1: 0.185533\n",
            "[LightGBM] [Warning] Accuracy may be bad since you didn't set num_leaves and 2^max_depth > num_leaves\n",
            "Training until validation scores don't improve for 50 rounds.\n",
            "[100]\tvalid_0's l1: 0.201642\n",
            "Did not meet early stopping. Best iteration is:\n",
            "[100]\tvalid_0's l1: 0.201642\n",
            "[LightGBM] [Warning] Accuracy may be bad since you didn't set num_leaves and 2^max_depth > num_leaves\n",
            "Training until validation scores don't improve for 50 rounds.\n",
            "[100]\tvalid_0's l1: 0.173004\n",
            "Did not meet early stopping. Best iteration is:\n",
            "[100]\tvalid_0's l1: 0.173004\n",
            "[LightGBM] [Warning] Accuracy may be bad since you didn't set num_leaves and 2^max_depth > num_leaves\n",
            "Training until validation scores don't improve for 50 rounds.\n",
            "[100]\tvalid_0's l1: 0.195158\n",
            "Did not meet early stopping. Best iteration is:\n",
            "[100]\tvalid_0's l1: 0.195158\n",
            "[LightGBM] [Warning] Accuracy may be bad since you didn't set num_leaves and 2^max_depth > num_leaves\n",
            "Training until validation scores don't improve for 50 rounds.\n",
            "[100]\tvalid_0's l1: 0.175002\n",
            "Did not meet early stopping. Best iteration is:\n",
            "[100]\tvalid_0's l1: 0.175002\n",
            "[LightGBM] [Warning] Accuracy may be bad since you didn't set num_leaves and 2^max_depth > num_leaves\n",
            "Training until validation scores don't improve for 50 rounds.\n",
            "[100]\tvalid_0's l1: 0.182047\n",
            "Did not meet early stopping. Best iteration is:\n",
            "[100]\tvalid_0's l1: 0.182047\n",
            "[LightGBM] [Warning] Accuracy may be bad since you didn't set num_leaves and 2^max_depth > num_leaves\n",
            "Training until validation scores don't improve for 50 rounds.\n",
            "[100]\tvalid_0's l1: 0.185551\n",
            "Did not meet early stopping. Best iteration is:\n",
            "[100]\tvalid_0's l1: 0.185551\n",
            "[LightGBM] [Warning] Accuracy may be bad since you didn't set num_leaves and 2^max_depth > num_leaves\n",
            "Training until validation scores don't improve for 50 rounds.\n"
          ],
          "name": "stdout"
        },
        {
          "output_type": "stream",
          "text": [
            "\u001b[32m[I 2021-06-30 17:51:32,654]\u001b[0m Trial 41 finished with value: 0.1824092946016219 and parameters: {'reg_lambda': 0.01271398053456703, 'reg_alpha': 1.029490427672326, 'colsample_bytree': 1.0, 'subsample': 1.0, 'learning_rate': 0.06089988477733921, 'max_depth': 20, 'min_child_weight': 226}. Best is trial 37 with value: 0.15030750853234998.\u001b[0m\n"
          ],
          "name": "stderr"
        },
        {
          "output_type": "stream",
          "text": [
            "[100]\tvalid_0's l1: 0.172953\n",
            "Did not meet early stopping. Best iteration is:\n",
            "[100]\tvalid_0's l1: 0.172953\n",
            "[LightGBM] [Warning] Accuracy may be bad since you didn't set num_leaves and 2^max_depth > num_leaves\n",
            "Training until validation scores don't improve for 50 rounds.\n",
            "[100]\tvalid_0's l1: 0.165254\n",
            "Did not meet early stopping. Best iteration is:\n",
            "[83]\tvalid_0's l1: 0.164746\n",
            "[LightGBM] [Warning] Accuracy may be bad since you didn't set num_leaves and 2^max_depth > num_leaves\n",
            "Training until validation scores don't improve for 50 rounds.\n",
            "[100]\tvalid_0's l1: 0.16485\n",
            "Did not meet early stopping. Best iteration is:\n",
            "[100]\tvalid_0's l1: 0.16485\n",
            "[LightGBM] [Warning] Accuracy may be bad since you didn't set num_leaves and 2^max_depth > num_leaves\n",
            "Training until validation scores don't improve for 50 rounds.\n",
            "[100]\tvalid_0's l1: 0.17439\n",
            "Did not meet early stopping. Best iteration is:\n",
            "[86]\tvalid_0's l1: 0.173914\n",
            "[LightGBM] [Warning] Accuracy may be bad since you didn't set num_leaves and 2^max_depth > num_leaves\n",
            "Training until validation scores don't improve for 50 rounds.\n",
            "[100]\tvalid_0's l1: 0.178636\n",
            "Did not meet early stopping. Best iteration is:\n",
            "[100]\tvalid_0's l1: 0.178636\n",
            "[LightGBM] [Warning] Accuracy may be bad since you didn't set num_leaves and 2^max_depth > num_leaves\n",
            "Training until validation scores don't improve for 50 rounds.\n",
            "[100]\tvalid_0's l1: 0.160305\n",
            "Did not meet early stopping. Best iteration is:\n",
            "[98]\tvalid_0's l1: 0.160216\n",
            "[LightGBM] [Warning] Accuracy may be bad since you didn't set num_leaves and 2^max_depth > num_leaves\n",
            "Training until validation scores don't improve for 50 rounds.\n",
            "[100]\tvalid_0's l1: 0.175793\n",
            "Did not meet early stopping. Best iteration is:\n",
            "[100]\tvalid_0's l1: 0.175793\n",
            "[LightGBM] [Warning] Accuracy may be bad since you didn't set num_leaves and 2^max_depth > num_leaves\n",
            "Training until validation scores don't improve for 50 rounds.\n",
            "[100]\tvalid_0's l1: 0.163624\n",
            "Did not meet early stopping. Best iteration is:\n",
            "[86]\tvalid_0's l1: 0.163101\n",
            "[LightGBM] [Warning] Accuracy may be bad since you didn't set num_leaves and 2^max_depth > num_leaves\n",
            "Training until validation scores don't improve for 50 rounds.\n",
            "[100]\tvalid_0's l1: 0.167752\n",
            "Did not meet early stopping. Best iteration is:\n",
            "[100]\tvalid_0's l1: 0.167752\n",
            "[LightGBM] [Warning] Accuracy may be bad since you didn't set num_leaves and 2^max_depth > num_leaves\n",
            "Training until validation scores don't improve for 50 rounds.\n",
            "[100]\tvalid_0's l1: 0.170188\n",
            "Did not meet early stopping. Best iteration is:\n",
            "[97]\tvalid_0's l1: 0.169886\n",
            "[LightGBM] [Warning] Accuracy may be bad since you didn't set num_leaves and 2^max_depth > num_leaves\n",
            "Training until validation scores don't improve for 50 rounds.\n"
          ],
          "name": "stdout"
        },
        {
          "output_type": "stream",
          "text": [
            "\u001b[32m[I 2021-06-30 17:51:35,157]\u001b[0m Trial 42 finished with value: 0.16752649300237438 and parameters: {'reg_lambda': 0.09573930186545579, 'reg_alpha': 0.46946907826821765, 'colsample_bytree': 1.0, 'subsample': 0.7, 'learning_rate': 0.09765988819887125, 'max_depth': 30, 'min_child_weight': 207}. Best is trial 37 with value: 0.15030750853234998.\u001b[0m\n"
          ],
          "name": "stderr"
        },
        {
          "output_type": "stream",
          "text": [
            "[100]\tvalid_0's l1: 0.15637\n",
            "Did not meet early stopping. Best iteration is:\n",
            "[100]\tvalid_0's l1: 0.15637\n",
            "Training until validation scores don't improve for 50 rounds.\n",
            "[100]\tvalid_0's l1: 0.155078\n",
            "Did not meet early stopping. Best iteration is:\n",
            "[86]\tvalid_0's l1: 0.154687\n",
            "Training until validation scores don't improve for 50 rounds.\n",
            "[100]\tvalid_0's l1: 0.157301\n",
            "Did not meet early stopping. Best iteration is:\n",
            "[100]\tvalid_0's l1: 0.157301\n",
            "Training until validation scores don't improve for 50 rounds.\n",
            "[100]\tvalid_0's l1: 0.166236\n",
            "Did not meet early stopping. Best iteration is:\n",
            "[96]\tvalid_0's l1: 0.166138\n",
            "Training until validation scores don't improve for 50 rounds.\n",
            "[100]\tvalid_0's l1: 0.17279\n",
            "Did not meet early stopping. Best iteration is:\n",
            "[100]\tvalid_0's l1: 0.17279\n",
            "Training until validation scores don't improve for 50 rounds.\n",
            "[100]\tvalid_0's l1: 0.156035\n",
            "Did not meet early stopping. Best iteration is:\n",
            "[100]\tvalid_0's l1: 0.156035\n",
            "Training until validation scores don't improve for 50 rounds.\n",
            "[100]\tvalid_0's l1: 0.169053\n",
            "Did not meet early stopping. Best iteration is:\n",
            "[100]\tvalid_0's l1: 0.169053\n",
            "Training until validation scores don't improve for 50 rounds.\n",
            "[100]\tvalid_0's l1: 0.156134\n",
            "Did not meet early stopping. Best iteration is:\n",
            "[97]\tvalid_0's l1: 0.156097\n",
            "Training until validation scores don't improve for 50 rounds.\n",
            "[100]\tvalid_0's l1: 0.161083\n",
            "Did not meet early stopping. Best iteration is:\n",
            "[100]\tvalid_0's l1: 0.161083\n",
            "Training until validation scores don't improve for 50 rounds.\n",
            "[100]\tvalid_0's l1: 0.159728\n",
            "Did not meet early stopping. Best iteration is:\n",
            "[100]\tvalid_0's l1: 0.159728\n",
            "Training until validation scores don't improve for 50 rounds.\n"
          ],
          "name": "stdout"
        },
        {
          "output_type": "stream",
          "text": [
            "\u001b[32m[I 2021-06-30 17:51:37,436]\u001b[0m Trial 43 finished with value: 0.1600011862973126 and parameters: {'reg_lambda': 0.0033068516273278502, 'reg_alpha': 2.1470025100196968, 'colsample_bytree': 1.0, 'subsample': 0.8, 'learning_rate': 0.09811700773029276, 'max_depth': 33, 'min_child_weight': 155}. Best is trial 37 with value: 0.15030750853234998.\u001b[0m\n"
          ],
          "name": "stderr"
        },
        {
          "output_type": "stream",
          "text": [
            "[100]\tvalid_0's l1: 0.147143\n",
            "Did not meet early stopping. Best iteration is:\n",
            "[98]\tvalid_0's l1: 0.147099\n",
            "[LightGBM] [Warning] Accuracy may be bad since you didn't set num_leaves and 2^max_depth > num_leaves\n",
            "Training until validation scores don't improve for 50 rounds.\n",
            "[100]\tvalid_0's l1: 0.17625\n",
            "Did not meet early stopping. Best iteration is:\n",
            "[100]\tvalid_0's l1: 0.17625\n",
            "[LightGBM] [Warning] Accuracy may be bad since you didn't set num_leaves and 2^max_depth > num_leaves\n",
            "Training until validation scores don't improve for 50 rounds.\n",
            "[100]\tvalid_0's l1: 0.180022\n",
            "Did not meet early stopping. Best iteration is:\n",
            "[100]\tvalid_0's l1: 0.180022\n",
            "[LightGBM] [Warning] Accuracy may be bad since you didn't set num_leaves and 2^max_depth > num_leaves\n",
            "Training until validation scores don't improve for 50 rounds.\n",
            "[100]\tvalid_0's l1: 0.183561\n",
            "Did not meet early stopping. Best iteration is:\n",
            "[100]\tvalid_0's l1: 0.183561\n",
            "[LightGBM] [Warning] Accuracy may be bad since you didn't set num_leaves and 2^max_depth > num_leaves\n",
            "Training until validation scores don't improve for 50 rounds.\n",
            "[100]\tvalid_0's l1: 0.202755\n",
            "Did not meet early stopping. Best iteration is:\n",
            "[100]\tvalid_0's l1: 0.202755\n",
            "[LightGBM] [Warning] Accuracy may be bad since you didn't set num_leaves and 2^max_depth > num_leaves\n",
            "Training until validation scores don't improve for 50 rounds.\n",
            "[100]\tvalid_0's l1: 0.176207\n",
            "Did not meet early stopping. Best iteration is:\n",
            "[100]\tvalid_0's l1: 0.176207\n",
            "[LightGBM] [Warning] Accuracy may be bad since you didn't set num_leaves and 2^max_depth > num_leaves\n",
            "Training until validation scores don't improve for 50 rounds.\n",
            "[100]\tvalid_0's l1: 0.199871\n",
            "Did not meet early stopping. Best iteration is:\n",
            "[100]\tvalid_0's l1: 0.199871\n",
            "[LightGBM] [Warning] Accuracy may be bad since you didn't set num_leaves and 2^max_depth > num_leaves\n",
            "Training until validation scores don't improve for 50 rounds.\n",
            "[100]\tvalid_0's l1: 0.181988\n",
            "Did not meet early stopping. Best iteration is:\n",
            "[100]\tvalid_0's l1: 0.181988\n",
            "[LightGBM] [Warning] Accuracy may be bad since you didn't set num_leaves and 2^max_depth > num_leaves\n",
            "Training until validation scores don't improve for 50 rounds.\n",
            "[100]\tvalid_0's l1: 0.183386\n",
            "Did not meet early stopping. Best iteration is:\n",
            "[100]\tvalid_0's l1: 0.183386\n",
            "[LightGBM] [Warning] Accuracy may be bad since you didn't set num_leaves and 2^max_depth > num_leaves\n",
            "Training until validation scores don't improve for 50 rounds.\n",
            "[100]\tvalid_0's l1: 0.181322\n",
            "Did not meet early stopping. Best iteration is:\n",
            "[100]\tvalid_0's l1: 0.181322\n",
            "[LightGBM] [Warning] Accuracy may be bad since you didn't set num_leaves and 2^max_depth > num_leaves\n",
            "Training until validation scores don't improve for 50 rounds.\n"
          ],
          "name": "stdout"
        },
        {
          "output_type": "stream",
          "text": [
            "\u001b[32m[I 2021-06-30 17:51:39,583]\u001b[0m Trial 44 finished with value: 0.184012674854629 and parameters: {'reg_lambda': 0.0018096572808909475, 'reg_alpha': 2.3745982505476526, 'colsample_bytree': 1.0, 'subsample': 0.5, 'learning_rate': 0.05809621881592021, 'max_depth': 26, 'min_child_weight': 158}. Best is trial 37 with value: 0.15030750853234998.\u001b[0m\n"
          ],
          "name": "stderr"
        },
        {
          "output_type": "stream",
          "text": [
            "[100]\tvalid_0's l1: 0.174763\n",
            "Did not meet early stopping. Best iteration is:\n",
            "[100]\tvalid_0's l1: 0.174763\n",
            "Training until validation scores don't improve for 50 rounds.\n",
            "[100]\tvalid_0's l1: 27.145\n",
            "Did not meet early stopping. Best iteration is:\n",
            "[100]\tvalid_0's l1: 27.145\n",
            "Training until validation scores don't improve for 50 rounds.\n",
            "[100]\tvalid_0's l1: 26.2291\n",
            "Did not meet early stopping. Best iteration is:\n",
            "[100]\tvalid_0's l1: 26.2291\n",
            "Training until validation scores don't improve for 50 rounds.\n",
            "[100]\tvalid_0's l1: 27.0759\n",
            "Did not meet early stopping. Best iteration is:\n",
            "[100]\tvalid_0's l1: 27.0759\n",
            "Training until validation scores don't improve for 50 rounds.\n",
            "[100]\tvalid_0's l1: 26.8475\n",
            "Did not meet early stopping. Best iteration is:\n",
            "[100]\tvalid_0's l1: 26.8475\n",
            "Training until validation scores don't improve for 50 rounds.\n",
            "[100]\tvalid_0's l1: 26.3012\n",
            "Did not meet early stopping. Best iteration is:\n",
            "[100]\tvalid_0's l1: 26.3012\n",
            "Training until validation scores don't improve for 50 rounds.\n",
            "[100]\tvalid_0's l1: 26.1437\n",
            "Did not meet early stopping. Best iteration is:\n",
            "[100]\tvalid_0's l1: 26.1437\n",
            "Training until validation scores don't improve for 50 rounds.\n",
            "[100]\tvalid_0's l1: 26.4908\n",
            "Did not meet early stopping. Best iteration is:\n",
            "[100]\tvalid_0's l1: 26.4908\n",
            "Training until validation scores don't improve for 50 rounds.\n",
            "[100]\tvalid_0's l1: 26.0655\n",
            "Did not meet early stopping. Best iteration is:\n",
            "[100]\tvalid_0's l1: 26.0655\n",
            "Training until validation scores don't improve for 50 rounds.\n",
            "[100]\tvalid_0's l1: 26.6679\n",
            "Did not meet early stopping. Best iteration is:\n",
            "[100]\tvalid_0's l1: 26.6679\n",
            "Training until validation scores don't improve for 50 rounds.\n"
          ],
          "name": "stdout"
        },
        {
          "output_type": "stream",
          "text": [
            "\u001b[32m[I 2021-06-30 17:51:41,837]\u001b[0m Trial 45 finished with value: 26.55873503346254 and parameters: {'reg_lambda': 0.003475223115924978, 'reg_alpha': 4.700806402833009, 'colsample_bytree': 1.0, 'subsample': 0.9, 'learning_rate': 0.00010119539526763593, 'max_depth': 34, 'min_child_weight': 149}. Best is trial 37 with value: 0.15030750853234998.\u001b[0m\n"
          ],
          "name": "stderr"
        },
        {
          "output_type": "stream",
          "text": [
            "[100]\tvalid_0's l1: 26.6208\n",
            "Did not meet early stopping. Best iteration is:\n",
            "[100]\tvalid_0's l1: 26.6208\n",
            "Training until validation scores don't improve for 50 rounds.\n",
            "[100]\tvalid_0's l1: 2.60421\n",
            "Did not meet early stopping. Best iteration is:\n",
            "[100]\tvalid_0's l1: 2.60421\n",
            "Training until validation scores don't improve for 50 rounds.\n",
            "[100]\tvalid_0's l1: 2.56255\n",
            "Did not meet early stopping. Best iteration is:\n",
            "[100]\tvalid_0's l1: 2.56255\n",
            "Training until validation scores don't improve for 50 rounds.\n",
            "[100]\tvalid_0's l1: 2.56755\n",
            "Did not meet early stopping. Best iteration is:\n",
            "[100]\tvalid_0's l1: 2.56755\n",
            "Training until validation scores don't improve for 50 rounds.\n",
            "[100]\tvalid_0's l1: 2.56471\n",
            "Did not meet early stopping. Best iteration is:\n",
            "[100]\tvalid_0's l1: 2.56471\n",
            "Training until validation scores don't improve for 50 rounds.\n",
            "[100]\tvalid_0's l1: 2.55746\n",
            "Did not meet early stopping. Best iteration is:\n",
            "[100]\tvalid_0's l1: 2.55746\n",
            "Training until validation scores don't improve for 50 rounds.\n",
            "[100]\tvalid_0's l1: 2.64628\n",
            "Did not meet early stopping. Best iteration is:\n",
            "[100]\tvalid_0's l1: 2.64628\n",
            "Training until validation scores don't improve for 50 rounds.\n",
            "[100]\tvalid_0's l1: 2.5066\n",
            "Did not meet early stopping. Best iteration is:\n",
            "[100]\tvalid_0's l1: 2.5066\n",
            "Training until validation scores don't improve for 50 rounds.\n",
            "[100]\tvalid_0's l1: 2.54477\n",
            "Did not meet early stopping. Best iteration is:\n",
            "[100]\tvalid_0's l1: 2.54477\n",
            "Training until validation scores don't improve for 50 rounds.\n",
            "[100]\tvalid_0's l1: 2.55636\n",
            "Did not meet early stopping. Best iteration is:\n",
            "[100]\tvalid_0's l1: 2.55636\n",
            "Training until validation scores don't improve for 50 rounds.\n"
          ],
          "name": "stdout"
        },
        {
          "output_type": "stream",
          "text": [
            "\u001b[32m[I 2021-06-30 17:51:44,121]\u001b[0m Trial 46 finished with value: 2.5702798694851756 and parameters: {'reg_lambda': 0.0010275165307377637, 'reg_alpha': 0.20611944499297266, 'colsample_bytree': 0.7, 'subsample': 1.0, 'learning_rate': 0.024681031683702573, 'max_depth': 41, 'min_child_weight': 106}. Best is trial 37 with value: 0.15030750853234998.\u001b[0m\n"
          ],
          "name": "stderr"
        },
        {
          "output_type": "stream",
          "text": [
            "[100]\tvalid_0's l1: 2.59232\n",
            "Did not meet early stopping. Best iteration is:\n",
            "[100]\tvalid_0's l1: 2.59232\n",
            "Training until validation scores don't improve for 50 rounds.\n",
            "[100]\tvalid_0's l1: 0.1572\n",
            "Did not meet early stopping. Best iteration is:\n",
            "[100]\tvalid_0's l1: 0.1572\n",
            "Training until validation scores don't improve for 50 rounds.\n",
            "[100]\tvalid_0's l1: 0.16149\n",
            "Did not meet early stopping. Best iteration is:\n",
            "[100]\tvalid_0's l1: 0.16149\n",
            "Training until validation scores don't improve for 50 rounds.\n",
            "[100]\tvalid_0's l1: 0.168438\n",
            "Did not meet early stopping. Best iteration is:\n",
            "[100]\tvalid_0's l1: 0.168438\n",
            "Training until validation scores don't improve for 50 rounds.\n",
            "[100]\tvalid_0's l1: 0.175046\n",
            "Did not meet early stopping. Best iteration is:\n",
            "[100]\tvalid_0's l1: 0.175046\n",
            "Training until validation scores don't improve for 50 rounds.\n",
            "[100]\tvalid_0's l1: 0.157844\n",
            "Did not meet early stopping. Best iteration is:\n",
            "[100]\tvalid_0's l1: 0.157844\n",
            "Training until validation scores don't improve for 50 rounds.\n",
            "[100]\tvalid_0's l1: 0.173717\n",
            "Did not meet early stopping. Best iteration is:\n",
            "[100]\tvalid_0's l1: 0.173717\n",
            "Training until validation scores don't improve for 50 rounds.\n",
            "[100]\tvalid_0's l1: 0.159991\n",
            "Did not meet early stopping. Best iteration is:\n",
            "[96]\tvalid_0's l1: 0.159842\n",
            "Training until validation scores don't improve for 50 rounds.\n",
            "[100]\tvalid_0's l1: 0.163041\n",
            "Did not meet early stopping. Best iteration is:\n",
            "[100]\tvalid_0's l1: 0.163041\n",
            "Training until validation scores don't improve for 50 rounds.\n",
            "[100]\tvalid_0's l1: 0.16355\n",
            "Did not meet early stopping. Best iteration is:\n",
            "[100]\tvalid_0's l1: 0.16355\n",
            "Training until validation scores don't improve for 50 rounds.\n"
          ],
          "name": "stdout"
        },
        {
          "output_type": "stream",
          "text": [
            "\u001b[32m[I 2021-06-30 17:51:46,048]\u001b[0m Trial 47 finished with value: 0.1631893010861345 and parameters: {'reg_lambda': 0.006199325341781349, 'reg_alpha': 6.085935800586864, 'colsample_bytree': 1.0, 'subsample': 0.8, 'learning_rate': 0.09508333612459859, 'max_depth': 38, 'min_child_weight': 174}. Best is trial 37 with value: 0.15030750853234998.\u001b[0m\n"
          ],
          "name": "stderr"
        },
        {
          "output_type": "stream",
          "text": [
            "[100]\tvalid_0's l1: 0.151724\n",
            "Did not meet early stopping. Best iteration is:\n",
            "[100]\tvalid_0's l1: 0.151724\n",
            "Training until validation scores don't improve for 50 rounds.\n",
            "[100]\tvalid_0's l1: 1.36828\n",
            "Did not meet early stopping. Best iteration is:\n",
            "[100]\tvalid_0's l1: 1.36828\n",
            "Training until validation scores don't improve for 50 rounds.\n",
            "[100]\tvalid_0's l1: 1.35729\n",
            "Did not meet early stopping. Best iteration is:\n",
            "[100]\tvalid_0's l1: 1.35729\n",
            "Training until validation scores don't improve for 50 rounds.\n",
            "[100]\tvalid_0's l1: 1.36562\n",
            "Did not meet early stopping. Best iteration is:\n",
            "[100]\tvalid_0's l1: 1.36562\n",
            "Training until validation scores don't improve for 50 rounds.\n",
            "[100]\tvalid_0's l1: 1.34655\n",
            "Did not meet early stopping. Best iteration is:\n",
            "[100]\tvalid_0's l1: 1.34655\n",
            "Training until validation scores don't improve for 50 rounds.\n",
            "[100]\tvalid_0's l1: 1.37019\n",
            "Did not meet early stopping. Best iteration is:\n",
            "[100]\tvalid_0's l1: 1.37019\n",
            "Training until validation scores don't improve for 50 rounds.\n",
            "[100]\tvalid_0's l1: 1.46564\n",
            "Did not meet early stopping. Best iteration is:\n",
            "[100]\tvalid_0's l1: 1.46564\n",
            "Training until validation scores don't improve for 50 rounds.\n",
            "[100]\tvalid_0's l1: 1.33484\n",
            "Did not meet early stopping. Best iteration is:\n",
            "[100]\tvalid_0's l1: 1.33484\n",
            "Training until validation scores don't improve for 50 rounds.\n",
            "[100]\tvalid_0's l1: 1.38879\n",
            "Did not meet early stopping. Best iteration is:\n",
            "[100]\tvalid_0's l1: 1.38879\n",
            "Training until validation scores don't improve for 50 rounds.\n",
            "[100]\tvalid_0's l1: 1.37325\n",
            "Did not meet early stopping. Best iteration is:\n",
            "[100]\tvalid_0's l1: 1.37325\n",
            "Training until validation scores don't improve for 50 rounds.\n"
          ],
          "name": "stdout"
        },
        {
          "output_type": "stream",
          "text": [
            "\u001b[32m[I 2021-06-30 17:51:47,970]\u001b[0m Trial 48 finished with value: 1.3762469975938092 and parameters: {'reg_lambda': 0.02324746208935356, 'reg_alpha': 0.7943040286493951, 'colsample_bytree': 0.5, 'subsample': 0.8, 'learning_rate': 0.03593366463499057, 'max_depth': 36, 'min_child_weight': 95}. Best is trial 37 with value: 0.15030750853234998.\u001b[0m\n"
          ],
          "name": "stderr"
        },
        {
          "output_type": "stream",
          "text": [
            "[100]\tvalid_0's l1: 1.39203\n",
            "Did not meet early stopping. Best iteration is:\n",
            "[100]\tvalid_0's l1: 1.39203\n",
            "Training until validation scores don't improve for 50 rounds.\n",
            "[100]\tvalid_0's l1: 0.179178\n",
            "Did not meet early stopping. Best iteration is:\n",
            "[100]\tvalid_0's l1: 0.179178\n",
            "Training until validation scores don't improve for 50 rounds.\n",
            "[100]\tvalid_0's l1: 0.178448\n",
            "Did not meet early stopping. Best iteration is:\n",
            "[100]\tvalid_0's l1: 0.178448\n",
            "Training until validation scores don't improve for 50 rounds.\n",
            "[100]\tvalid_0's l1: 0.187249\n",
            "Did not meet early stopping. Best iteration is:\n",
            "[100]\tvalid_0's l1: 0.187249\n",
            "Training until validation scores don't improve for 50 rounds.\n",
            "[100]\tvalid_0's l1: 0.199633\n",
            "Did not meet early stopping. Best iteration is:\n",
            "[100]\tvalid_0's l1: 0.199633\n",
            "Training until validation scores don't improve for 50 rounds.\n",
            "[100]\tvalid_0's l1: 0.172847\n",
            "Did not meet early stopping. Best iteration is:\n",
            "[100]\tvalid_0's l1: 0.172847\n",
            "Training until validation scores don't improve for 50 rounds.\n",
            "[100]\tvalid_0's l1: 0.192168\n",
            "Did not meet early stopping. Best iteration is:\n",
            "[100]\tvalid_0's l1: 0.192168\n",
            "Training until validation scores don't improve for 50 rounds.\n",
            "[100]\tvalid_0's l1: 0.179438\n",
            "Did not meet early stopping. Best iteration is:\n",
            "[100]\tvalid_0's l1: 0.179438\n",
            "Training until validation scores don't improve for 50 rounds.\n",
            "[100]\tvalid_0's l1: 0.183254\n",
            "Did not meet early stopping. Best iteration is:\n",
            "[100]\tvalid_0's l1: 0.183254\n",
            "Training until validation scores don't improve for 50 rounds.\n",
            "[100]\tvalid_0's l1: 0.190147\n",
            "Did not meet early stopping. Best iteration is:\n",
            "[100]\tvalid_0's l1: 0.190147\n",
            "Training until validation scores don't improve for 50 rounds.\n"
          ],
          "name": "stdout"
        },
        {
          "output_type": "stream",
          "text": [
            "\u001b[32m[I 2021-06-30 17:51:49,828]\u001b[0m Trial 49 finished with value: 0.18376654838090287 and parameters: {'reg_lambda': 0.43810277487380966, 'reg_alpha': 3.5756271748880066, 'colsample_bytree': 1.0, 'subsample': 0.7, 'learning_rate': 0.06463797159363847, 'max_depth': 33, 'min_child_weight': 240}. Best is trial 37 with value: 0.15030750853234998.\u001b[0m\n"
          ],
          "name": "stderr"
        },
        {
          "output_type": "stream",
          "text": [
            "[100]\tvalid_0's l1: 0.175304\n",
            "Did not meet early stopping. Best iteration is:\n",
            "[100]\tvalid_0's l1: 0.175304\n",
            "Training until validation scores don't improve for 50 rounds.\n",
            "[100]\tvalid_0's l1: 12.1983\n",
            "Did not meet early stopping. Best iteration is:\n",
            "[100]\tvalid_0's l1: 12.1983\n",
            "Training until validation scores don't improve for 50 rounds.\n",
            "[100]\tvalid_0's l1: 11.7862\n",
            "Did not meet early stopping. Best iteration is:\n",
            "[100]\tvalid_0's l1: 11.7862\n",
            "Training until validation scores don't improve for 50 rounds.\n",
            "[100]\tvalid_0's l1: 12.159\n",
            "Did not meet early stopping. Best iteration is:\n",
            "[100]\tvalid_0's l1: 12.159\n",
            "Training until validation scores don't improve for 50 rounds.\n",
            "[100]\tvalid_0's l1: 12.055\n",
            "Did not meet early stopping. Best iteration is:\n",
            "[100]\tvalid_0's l1: 12.055\n",
            "Training until validation scores don't improve for 50 rounds.\n",
            "[100]\tvalid_0's l1: 11.8242\n",
            "Did not meet early stopping. Best iteration is:\n",
            "[100]\tvalid_0's l1: 11.8242\n",
            "Training until validation scores don't improve for 50 rounds.\n",
            "[100]\tvalid_0's l1: 11.7831\n",
            "Did not meet early stopping. Best iteration is:\n",
            "[100]\tvalid_0's l1: 11.7831\n",
            "Training until validation scores don't improve for 50 rounds.\n",
            "[100]\tvalid_0's l1: 11.884\n",
            "Did not meet early stopping. Best iteration is:\n",
            "[100]\tvalid_0's l1: 11.884\n",
            "Training until validation scores don't improve for 50 rounds.\n",
            "[100]\tvalid_0's l1: 11.7157\n",
            "Did not meet early stopping. Best iteration is:\n",
            "[100]\tvalid_0's l1: 11.7157\n",
            "Training until validation scores don't improve for 50 rounds.\n",
            "[100]\tvalid_0's l1: 11.9836\n",
            "Did not meet early stopping. Best iteration is:\n",
            "[100]\tvalid_0's l1: 11.9836\n",
            "Training until validation scores don't improve for 50 rounds.\n"
          ],
          "name": "stdout"
        },
        {
          "output_type": "stream",
          "text": [
            "\u001b[32m[I 2021-06-30 17:51:52,226]\u001b[0m Trial 50 finished with value: 11.936576131188817 and parameters: {'reg_lambda': 0.0037814336368191684, 'reg_alpha': 2.1212325146181574, 'colsample_bytree': 0.9, 'subsample': 0.8, 'learning_rate': 0.008116737090425959, 'max_depth': 46, 'min_child_weight': 62}. Best is trial 37 with value: 0.15030750853234998.\u001b[0m\n"
          ],
          "name": "stderr"
        },
        {
          "output_type": "stream",
          "text": [
            "[100]\tvalid_0's l1: 11.9766\n",
            "Did not meet early stopping. Best iteration is:\n",
            "[100]\tvalid_0's l1: 11.9766\n",
            "Training until validation scores don't improve for 50 rounds.\n",
            "[100]\tvalid_0's l1: 0.158849\n",
            "Did not meet early stopping. Best iteration is:\n",
            "[99]\tvalid_0's l1: 0.15882\n",
            "Training until validation scores don't improve for 50 rounds.\n",
            "[100]\tvalid_0's l1: 0.16455\n",
            "Did not meet early stopping. Best iteration is:\n",
            "[100]\tvalid_0's l1: 0.16455\n",
            "Training until validation scores don't improve for 50 rounds.\n",
            "[100]\tvalid_0's l1: 0.171192\n",
            "Did not meet early stopping. Best iteration is:\n",
            "[100]\tvalid_0's l1: 0.171192\n",
            "Training until validation scores don't improve for 50 rounds.\n",
            "[100]\tvalid_0's l1: 0.180542\n",
            "Did not meet early stopping. Best iteration is:\n",
            "[100]\tvalid_0's l1: 0.180542\n",
            "Training until validation scores don't improve for 50 rounds.\n",
            "[100]\tvalid_0's l1: 0.160313\n",
            "Did not meet early stopping. Best iteration is:\n",
            "[100]\tvalid_0's l1: 0.160313\n",
            "Training until validation scores don't improve for 50 rounds.\n",
            "[100]\tvalid_0's l1: 0.173702\n",
            "Did not meet early stopping. Best iteration is:\n",
            "[100]\tvalid_0's l1: 0.173702\n",
            "Training until validation scores don't improve for 50 rounds.\n",
            "[100]\tvalid_0's l1: 0.160541\n",
            "Did not meet early stopping. Best iteration is:\n",
            "[97]\tvalid_0's l1: 0.160417\n",
            "Training until validation scores don't improve for 50 rounds.\n",
            "[100]\tvalid_0's l1: 0.16476\n",
            "Did not meet early stopping. Best iteration is:\n",
            "[100]\tvalid_0's l1: 0.16476\n",
            "Training until validation scores don't improve for 50 rounds.\n"
          ],
          "name": "stdout"
        },
        {
          "output_type": "stream",
          "text": [
            "\u001b[32m[I 2021-06-30 17:51:54,072]\u001b[0m Trial 51 finished with value: 0.16541326365915357 and parameters: {'reg_lambda': 0.005605976090037764, 'reg_alpha': 7.2266603048465345, 'colsample_bytree': 1.0, 'subsample': 0.8, 'learning_rate': 0.09275954886684425, 'max_depth': 39, 'min_child_weight': 180}. Best is trial 37 with value: 0.15030750853234998.\u001b[0m\n"
          ],
          "name": "stderr"
        },
        {
          "output_type": "stream",
          "text": [
            "[100]\tvalid_0's l1: 0.166613\n",
            "Did not meet early stopping. Best iteration is:\n",
            "[100]\tvalid_0's l1: 0.166613\n",
            "Training until validation scores don't improve for 50 rounds.\n",
            "[100]\tvalid_0's l1: 0.153223\n",
            "Did not meet early stopping. Best iteration is:\n",
            "[100]\tvalid_0's l1: 0.153223\n",
            "Training until validation scores don't improve for 50 rounds.\n",
            "[100]\tvalid_0's l1: 0.15751\n",
            "Did not meet early stopping. Best iteration is:\n",
            "[100]\tvalid_0's l1: 0.15751\n",
            "Training until validation scores don't improve for 50 rounds.\n",
            "[100]\tvalid_0's l1: 0.164287\n",
            "Did not meet early stopping. Best iteration is:\n",
            "[100]\tvalid_0's l1: 0.164287\n",
            "Training until validation scores don't improve for 50 rounds.\n",
            "[100]\tvalid_0's l1: 0.169953\n",
            "Did not meet early stopping. Best iteration is:\n",
            "[100]\tvalid_0's l1: 0.169953\n",
            "Training until validation scores don't improve for 50 rounds.\n",
            "[100]\tvalid_0's l1: 0.177627\n",
            "Did not meet early stopping. Best iteration is:\n",
            "[100]\tvalid_0's l1: 0.177627\n",
            "Training until validation scores don't improve for 50 rounds.\n",
            "[100]\tvalid_0's l1: 0.157125\n",
            "Did not meet early stopping. Best iteration is:\n",
            "[100]\tvalid_0's l1: 0.157125\n",
            "Training until validation scores don't improve for 50 rounds.\n",
            "[100]\tvalid_0's l1: 0.173064\n",
            "Did not meet early stopping. Best iteration is:\n",
            "[100]\tvalid_0's l1: 0.173064\n",
            "Training until validation scores don't improve for 50 rounds.\n",
            "[100]\tvalid_0's l1: 0.16082\n",
            "Did not meet early stopping. Best iteration is:\n",
            "[100]\tvalid_0's l1: 0.16082\n",
            "Training until validation scores don't improve for 50 rounds.\n",
            "[100]\tvalid_0's l1: 0.160129\n",
            "Did not meet early stopping. Best iteration is:\n",
            "[100]\tvalid_0's l1: 0.160129\n",
            "Training until validation scores don't improve for 50 rounds.\n",
            "[100]\tvalid_0's l1: 0.163079\n",
            "Did not meet early stopping. Best iteration is:\n",
            "[100]\tvalid_0's l1: 0.163079\n",
            "Training until validation scores don't improve for 50 rounds.\n",
            "[100]\tvalid_0's l1: 0.151982\n",
            "Did not meet early stopping. Best iteration is:\n",
            "[98]\tvalid_0's l1: 0.151762\n"
          ],
          "name": "stdout"
        },
        {
          "output_type": "stream",
          "text": [
            "\u001b[32m[I 2021-06-30 17:51:56,128]\u001b[0m Trial 52 finished with value: 0.16353570505689202 and parameters: {'reg_lambda': 0.008245447494495019, 'reg_alpha': 5.844146541062396, 'colsample_bytree': 1.0, 'subsample': 0.8, 'learning_rate': 0.09879173295141178, 'max_depth': 42, 'min_child_weight': 166}. Best is trial 37 with value: 0.15030750853234998.\u001b[0m\n"
          ],
          "name": "stderr"
        },
        {
          "output_type": "stream",
          "text": [
            "Training until validation scores don't improve for 50 rounds.\n",
            "[100]\tvalid_0's l1: 0.505164\n",
            "Did not meet early stopping. Best iteration is:\n",
            "[100]\tvalid_0's l1: 0.505164\n",
            "Training until validation scores don't improve for 50 rounds.\n",
            "[100]\tvalid_0's l1: 0.510808\n",
            "Did not meet early stopping. Best iteration is:\n",
            "[100]\tvalid_0's l1: 0.510808\n",
            "Training until validation scores don't improve for 50 rounds.\n",
            "[100]\tvalid_0's l1: 0.522432\n",
            "Did not meet early stopping. Best iteration is:\n",
            "[100]\tvalid_0's l1: 0.522432\n",
            "Training until validation scores don't improve for 50 rounds.\n",
            "[100]\tvalid_0's l1: 0.548355\n",
            "Did not meet early stopping. Best iteration is:\n",
            "[100]\tvalid_0's l1: 0.548355\n",
            "Training until validation scores don't improve for 50 rounds.\n",
            "[100]\tvalid_0's l1: 0.508376\n",
            "Did not meet early stopping. Best iteration is:\n",
            "[100]\tvalid_0's l1: 0.508376\n",
            "Training until validation scores don't improve for 50 rounds.\n",
            "[100]\tvalid_0's l1: 0.538189\n",
            "Did not meet early stopping. Best iteration is:\n",
            "[100]\tvalid_0's l1: 0.538189\n",
            "Training until validation scores don't improve for 50 rounds.\n",
            "[100]\tvalid_0's l1: 0.511221\n",
            "Did not meet early stopping. Best iteration is:\n",
            "[100]\tvalid_0's l1: 0.511221\n",
            "Training until validation scores don't improve for 50 rounds.\n",
            "[100]\tvalid_0's l1: 0.505793\n",
            "Did not meet early stopping. Best iteration is:\n",
            "[100]\tvalid_0's l1: 0.505793\n",
            "Training until validation scores don't improve for 50 rounds.\n",
            "[100]\tvalid_0's l1: 0.514443\n",
            "Did not meet early stopping. Best iteration is:\n",
            "[100]\tvalid_0's l1: 0.514443\n",
            "Training until validation scores don't improve for 50 rounds.\n"
          ],
          "name": "stdout"
        },
        {
          "output_type": "stream",
          "text": [
            "\u001b[32m[I 2021-06-30 17:51:58,198]\u001b[0m Trial 53 finished with value: 0.5179439184366876 and parameters: {'reg_lambda': 0.0015566085938170302, 'reg_alpha': 3.5396800536034, 'colsample_bytree': 1.0, 'subsample': 0.8, 'learning_rate': 0.0396972624725025, 'max_depth': 37, 'min_child_weight': 199}. Best is trial 37 with value: 0.15030750853234998.\u001b[0m\n"
          ],
          "name": "stderr"
        },
        {
          "output_type": "stream",
          "text": [
            "[100]\tvalid_0's l1: 0.514659\n",
            "Did not meet early stopping. Best iteration is:\n",
            "[100]\tvalid_0's l1: 0.514659\n",
            "Training until validation scores don't improve for 50 rounds.\n",
            "[100]\tvalid_0's l1: 0.154299\n",
            "Did not meet early stopping. Best iteration is:\n",
            "[100]\tvalid_0's l1: 0.154299\n",
            "Training until validation scores don't improve for 50 rounds.\n",
            "[100]\tvalid_0's l1: 0.160007\n",
            "Did not meet early stopping. Best iteration is:\n",
            "[100]\tvalid_0's l1: 0.160007\n",
            "Training until validation scores don't improve for 50 rounds.\n",
            "[100]\tvalid_0's l1: 0.167468\n",
            "Did not meet early stopping. Best iteration is:\n",
            "[100]\tvalid_0's l1: 0.167468\n",
            "Training until validation scores don't improve for 50 rounds.\n",
            "[100]\tvalid_0's l1: 0.176754\n",
            "Did not meet early stopping. Best iteration is:\n",
            "[100]\tvalid_0's l1: 0.176754\n",
            "Training until validation scores don't improve for 50 rounds.\n",
            "[100]\tvalid_0's l1: 0.15819\n",
            "Did not meet early stopping. Best iteration is:\n",
            "[100]\tvalid_0's l1: 0.15819\n",
            "Training until validation scores don't improve for 50 rounds.\n",
            "[100]\tvalid_0's l1: 0.171546\n",
            "Did not meet early stopping. Best iteration is:\n",
            "[100]\tvalid_0's l1: 0.171546\n",
            "Training until validation scores don't improve for 50 rounds.\n",
            "[100]\tvalid_0's l1: 0.162626\n",
            "Did not meet early stopping. Best iteration is:\n",
            "[100]\tvalid_0's l1: 0.162626\n",
            "Training until validation scores don't improve for 50 rounds.\n",
            "[100]\tvalid_0's l1: 0.16277\n",
            "Did not meet early stopping. Best iteration is:\n",
            "[100]\tvalid_0's l1: 0.16277\n",
            "Training until validation scores don't improve for 50 rounds.\n",
            "[100]\tvalid_0's l1: 0.161747\n",
            "Did not meet early stopping. Best iteration is:\n",
            "[100]\tvalid_0's l1: 0.161747\n",
            "Training until validation scores don't improve for 50 rounds.\n"
          ],
          "name": "stdout"
        },
        {
          "output_type": "stream",
          "text": [
            "\u001b[32m[I 2021-06-30 17:52:00,348]\u001b[0m Trial 54 finished with value: 0.1621984917397857 and parameters: {'reg_lambda': 0.010694865190841986, 'reg_alpha': 2.613051319596945, 'colsample_bytree': 1.0, 'subsample': 0.8, 'learning_rate': 0.07079657318060356, 'max_depth': 35, 'min_child_weight': 139}. Best is trial 37 with value: 0.15030750853234998.\u001b[0m\n"
          ],
          "name": "stderr"
        },
        {
          "output_type": "stream",
          "text": [
            "[100]\tvalid_0's l1: 0.146578\n",
            "Did not meet early stopping. Best iteration is:\n",
            "[100]\tvalid_0's l1: 0.146578\n",
            "Training until validation scores don't improve for 50 rounds.\n",
            "[100]\tvalid_0's l1: 0.631658\n",
            "Did not meet early stopping. Best iteration is:\n",
            "[100]\tvalid_0's l1: 0.631658\n",
            "Training until validation scores don't improve for 50 rounds.\n",
            "[100]\tvalid_0's l1: 0.627561\n",
            "Did not meet early stopping. Best iteration is:\n",
            "[100]\tvalid_0's l1: 0.627561\n",
            "Training until validation scores don't improve for 50 rounds.\n",
            "[100]\tvalid_0's l1: 0.662712\n",
            "Did not meet early stopping. Best iteration is:\n",
            "[100]\tvalid_0's l1: 0.662712\n",
            "Training until validation scores don't improve for 50 rounds.\n",
            "[100]\tvalid_0's l1: 0.675168\n",
            "Did not meet early stopping. Best iteration is:\n",
            "[100]\tvalid_0's l1: 0.675168\n",
            "Training until validation scores don't improve for 50 rounds.\n",
            "[100]\tvalid_0's l1: 0.667219\n",
            "Did not meet early stopping. Best iteration is:\n",
            "[100]\tvalid_0's l1: 0.667219\n",
            "Training until validation scores don't improve for 50 rounds.\n",
            "[100]\tvalid_0's l1: 0.700455\n",
            "Did not meet early stopping. Best iteration is:\n",
            "[100]\tvalid_0's l1: 0.700455\n",
            "Training until validation scores don't improve for 50 rounds.\n",
            "[100]\tvalid_0's l1: 0.652602\n",
            "Did not meet early stopping. Best iteration is:\n",
            "[100]\tvalid_0's l1: 0.652602\n",
            "Training until validation scores don't improve for 50 rounds.\n",
            "[100]\tvalid_0's l1: 0.661738\n",
            "Did not meet early stopping. Best iteration is:\n",
            "[100]\tvalid_0's l1: 0.661738\n",
            "Training until validation scores don't improve for 50 rounds.\n",
            "[100]\tvalid_0's l1: 0.63499\n",
            "Did not meet early stopping. Best iteration is:\n",
            "[100]\tvalid_0's l1: 0.63499\n"
          ],
          "name": "stdout"
        },
        {
          "output_type": "stream",
          "text": [
            "\u001b[32m[I 2021-06-30 17:52:02,458]\u001b[0m Trial 55 finished with value: 0.6580483504462185 and parameters: {'reg_lambda': 0.011389744495097285, 'reg_alpha': 0.8886121439627492, 'colsample_bytree': 0.6, 'subsample': 0.8, 'learning_rate': 0.06580134684702775, 'max_depth': 35, 'min_child_weight': 136}. Best is trial 37 with value: 0.15030750853234998.\u001b[0m\n"
          ],
          "name": "stderr"
        },
        {
          "output_type": "stream",
          "text": [
            "Training until validation scores don't improve for 50 rounds.\n",
            "[100]\tvalid_0's l1: 0.66638\n",
            "Did not meet early stopping. Best iteration is:\n",
            "[100]\tvalid_0's l1: 0.66638\n",
            "[LightGBM] [Warning] Accuracy may be bad since you didn't set num_leaves and 2^max_depth > num_leaves\n",
            "Training until validation scores don't improve for 50 rounds.\n",
            "[100]\tvalid_0's l1: 0.145049\n",
            "Did not meet early stopping. Best iteration is:\n",
            "[100]\tvalid_0's l1: 0.145049\n",
            "[LightGBM] [Warning] Accuracy may be bad since you didn't set num_leaves and 2^max_depth > num_leaves\n",
            "Training until validation scores don't improve for 50 rounds.\n",
            "[100]\tvalid_0's l1: 0.150867\n",
            "Did not meet early stopping. Best iteration is:\n",
            "[100]\tvalid_0's l1: 0.150867\n",
            "[LightGBM] [Warning] Accuracy may be bad since you didn't set num_leaves and 2^max_depth > num_leaves\n",
            "Training until validation scores don't improve for 50 rounds.\n",
            "[100]\tvalid_0's l1: 0.149252\n",
            "Did not meet early stopping. Best iteration is:\n",
            "[100]\tvalid_0's l1: 0.149252\n",
            "[LightGBM] [Warning] Accuracy may be bad since you didn't set num_leaves and 2^max_depth > num_leaves\n",
            "Training until validation scores don't improve for 50 rounds.\n",
            "[100]\tvalid_0's l1: 0.160959\n",
            "Did not meet early stopping. Best iteration is:\n",
            "[100]\tvalid_0's l1: 0.160959\n",
            "[LightGBM] [Warning] Accuracy may be bad since you didn't set num_leaves and 2^max_depth > num_leaves\n",
            "Training until validation scores don't improve for 50 rounds.\n",
            "[100]\tvalid_0's l1: 0.148232\n",
            "Did not meet early stopping. Best iteration is:\n",
            "[100]\tvalid_0's l1: 0.148232\n",
            "[LightGBM] [Warning] Accuracy may be bad since you didn't set num_leaves and 2^max_depth > num_leaves\n",
            "Training until validation scores don't improve for 50 rounds.\n",
            "[100]\tvalid_0's l1: 0.163745\n",
            "Did not meet early stopping. Best iteration is:\n",
            "[100]\tvalid_0's l1: 0.163745\n",
            "[LightGBM] [Warning] Accuracy may be bad since you didn't set num_leaves and 2^max_depth > num_leaves\n",
            "Training until validation scores don't improve for 50 rounds.\n",
            "[100]\tvalid_0's l1: 0.158869\n",
            "Did not meet early stopping. Best iteration is:\n",
            "[100]\tvalid_0's l1: 0.158869\n",
            "[LightGBM] [Warning] Accuracy may be bad since you didn't set num_leaves and 2^max_depth > num_leaves\n",
            "Training until validation scores don't improve for 50 rounds.\n",
            "[100]\tvalid_0's l1: 0.150098\n",
            "Did not meet early stopping. Best iteration is:\n",
            "[100]\tvalid_0's l1: 0.150098\n",
            "[LightGBM] [Warning] Accuracy may be bad since you didn't set num_leaves and 2^max_depth > num_leaves\n",
            "Training until validation scores don't improve for 50 rounds.\n",
            "[100]\tvalid_0's l1: 0.159411\n",
            "Did not meet early stopping. Best iteration is:\n",
            "[100]\tvalid_0's l1: 0.159411\n",
            "[LightGBM] [Warning] Accuracy may be bad since you didn't set num_leaves and 2^max_depth > num_leaves\n",
            "Training until validation scores don't improve for 50 rounds.\n"
          ],
          "name": "stdout"
        },
        {
          "output_type": "stream",
          "text": [
            "\u001b[32m[I 2021-06-30 17:52:04,909]\u001b[0m Trial 56 finished with value: 0.15271263804389731 and parameters: {'reg_lambda': 0.018146071714752902, 'reg_alpha': 2.4591696027558125, 'colsample_bytree': 1.0, 'subsample': 0.6, 'learning_rate': 0.06872993164372652, 'max_depth': 29, 'min_child_weight': 7}. Best is trial 37 with value: 0.15030750853234998.\u001b[0m\n"
          ],
          "name": "stderr"
        },
        {
          "output_type": "stream",
          "text": [
            "[100]\tvalid_0's l1: 0.140644\n",
            "Did not meet early stopping. Best iteration is:\n",
            "[100]\tvalid_0's l1: 0.140644\n",
            "[LightGBM] [Warning] Accuracy may be bad since you didn't set num_leaves and 2^max_depth > num_leaves\n",
            "Training until validation scores don't improve for 50 rounds.\n",
            "[100]\tvalid_0's l1: 25.8149\n",
            "Did not meet early stopping. Best iteration is:\n",
            "[100]\tvalid_0's l1: 25.8149\n",
            "[LightGBM] [Warning] Accuracy may be bad since you didn't set num_leaves and 2^max_depth > num_leaves\n",
            "Training until validation scores don't improve for 50 rounds.\n",
            "[100]\tvalid_0's l1: 24.9417\n",
            "Did not meet early stopping. Best iteration is:\n",
            "[100]\tvalid_0's l1: 24.9417\n",
            "[LightGBM] [Warning] Accuracy may be bad since you didn't set num_leaves and 2^max_depth > num_leaves\n",
            "Training until validation scores don't improve for 50 rounds.\n",
            "[100]\tvalid_0's l1: 25.75\n",
            "Did not meet early stopping. Best iteration is:\n",
            "[100]\tvalid_0's l1: 25.75\n",
            "[LightGBM] [Warning] Accuracy may be bad since you didn't set num_leaves and 2^max_depth > num_leaves\n",
            "Training until validation scores don't improve for 50 rounds.\n",
            "[100]\tvalid_0's l1: 25.5338\n",
            "Did not meet early stopping. Best iteration is:\n",
            "[100]\tvalid_0's l1: 25.5338\n",
            "[LightGBM] [Warning] Accuracy may be bad since you didn't set num_leaves and 2^max_depth > num_leaves\n",
            "Training until validation scores don't improve for 50 rounds.\n",
            "[100]\tvalid_0's l1: 25.012\n",
            "Did not meet early stopping. Best iteration is:\n",
            "[100]\tvalid_0's l1: 25.012\n",
            "[LightGBM] [Warning] Accuracy may be bad since you didn't set num_leaves and 2^max_depth > num_leaves\n",
            "Training until validation scores don't improve for 50 rounds.\n",
            "[100]\tvalid_0's l1: 24.8639\n",
            "Did not meet early stopping. Best iteration is:\n",
            "[100]\tvalid_0's l1: 24.8639\n",
            "[LightGBM] [Warning] Accuracy may be bad since you didn't set num_leaves and 2^max_depth > num_leaves\n",
            "Training until validation scores don't improve for 50 rounds.\n",
            "[100]\tvalid_0's l1: 25.1923\n",
            "Did not meet early stopping. Best iteration is:\n",
            "[100]\tvalid_0's l1: 25.1923\n",
            "[LightGBM] [Warning] Accuracy may be bad since you didn't set num_leaves and 2^max_depth > num_leaves\n",
            "Training until validation scores don't improve for 50 rounds.\n",
            "[100]\tvalid_0's l1: 24.7867\n",
            "Did not meet early stopping. Best iteration is:\n",
            "[100]\tvalid_0's l1: 24.7867\n",
            "[LightGBM] [Warning] Accuracy may be bad since you didn't set num_leaves and 2^max_depth > num_leaves\n",
            "Training until validation scores don't improve for 50 rounds.\n",
            "[100]\tvalid_0's l1: 25.3602\n",
            "Did not meet early stopping. Best iteration is:\n",
            "[100]\tvalid_0's l1: 25.3602\n",
            "[LightGBM] [Warning] Accuracy may be bad since you didn't set num_leaves and 2^max_depth > num_leaves\n",
            "Training until validation scores don't improve for 50 rounds.\n"
          ],
          "name": "stdout"
        },
        {
          "output_type": "stream",
          "text": [
            "\u001b[32m[I 2021-06-30 17:52:07,602]\u001b[0m Trial 57 finished with value: 25.25704161630312 and parameters: {'reg_lambda': 0.03604449154389818, 'reg_alpha': 2.8066601074550936, 'colsample_bytree': 1.0, 'subsample': 0.6, 'learning_rate': 0.0006039193558059536, 'max_depth': 25, 'min_child_weight': 2}. Best is trial 37 with value: 0.15030750853234998.\u001b[0m\n"
          ],
          "name": "stderr"
        },
        {
          "output_type": "stream",
          "text": [
            "[100]\tvalid_0's l1: 25.315\n",
            "Did not meet early stopping. Best iteration is:\n",
            "[100]\tvalid_0's l1: 25.315\n",
            "[LightGBM] [Warning] Accuracy may be bad since you didn't set num_leaves and 2^max_depth > num_leaves\n",
            "Training until validation scores don't improve for 50 rounds.\n",
            "[100]\tvalid_0's l1: 3.08539\n",
            "Did not meet early stopping. Best iteration is:\n",
            "[100]\tvalid_0's l1: 3.08539\n",
            "[LightGBM] [Warning] Accuracy may be bad since you didn't set num_leaves and 2^max_depth > num_leaves\n",
            "Training until validation scores don't improve for 50 rounds.\n",
            "[100]\tvalid_0's l1: 3.01768\n",
            "Did not meet early stopping. Best iteration is:\n",
            "[100]\tvalid_0's l1: 3.01768\n",
            "[LightGBM] [Warning] Accuracy may be bad since you didn't set num_leaves and 2^max_depth > num_leaves\n",
            "Training until validation scores don't improve for 50 rounds.\n",
            "[100]\tvalid_0's l1: 3.07503\n",
            "Did not meet early stopping. Best iteration is:\n",
            "[100]\tvalid_0's l1: 3.07503\n",
            "[LightGBM] [Warning] Accuracy may be bad since you didn't set num_leaves and 2^max_depth > num_leaves\n",
            "Training until validation scores don't improve for 50 rounds.\n",
            "[100]\tvalid_0's l1: 3.05259\n",
            "Did not meet early stopping. Best iteration is:\n",
            "[100]\tvalid_0's l1: 3.05259\n",
            "[LightGBM] [Warning] Accuracy may be bad since you didn't set num_leaves and 2^max_depth > num_leaves\n",
            "Training until validation scores don't improve for 50 rounds.\n",
            "[100]\tvalid_0's l1: 3.02775\n",
            "Did not meet early stopping. Best iteration is:\n",
            "[100]\tvalid_0's l1: 3.02775\n",
            "[LightGBM] [Warning] Accuracy may be bad since you didn't set num_leaves and 2^max_depth > num_leaves\n",
            "Training until validation scores don't improve for 50 rounds.\n",
            "[100]\tvalid_0's l1: 3.08181\n",
            "Did not meet early stopping. Best iteration is:\n",
            "[100]\tvalid_0's l1: 3.08181\n",
            "[LightGBM] [Warning] Accuracy may be bad since you didn't set num_leaves and 2^max_depth > num_leaves\n",
            "Training until validation scores don't improve for 50 rounds.\n",
            "[100]\tvalid_0's l1: 2.99477\n",
            "Did not meet early stopping. Best iteration is:\n",
            "[100]\tvalid_0's l1: 2.99477\n",
            "[LightGBM] [Warning] Accuracy may be bad since you didn't set num_leaves and 2^max_depth > num_leaves\n",
            "Training until validation scores don't improve for 50 rounds.\n",
            "[100]\tvalid_0's l1: 2.9994\n",
            "Did not meet early stopping. Best iteration is:\n",
            "[100]\tvalid_0's l1: 2.9994\n",
            "[LightGBM] [Warning] Accuracy may be bad since you didn't set num_leaves and 2^max_depth > num_leaves\n",
            "Training until validation scores don't improve for 50 rounds.\n",
            "[100]\tvalid_0's l1: 3.05461\n",
            "Did not meet early stopping. Best iteration is:\n",
            "[100]\tvalid_0's l1: 3.05461\n",
            "[LightGBM] [Warning] Accuracy may be bad since you didn't set num_leaves and 2^max_depth > num_leaves\n",
            "Training until validation scores don't improve for 50 rounds.\n"
          ],
          "name": "stdout"
        },
        {
          "output_type": "stream",
          "text": [
            "\u001b[32m[I 2021-06-30 17:52:10,119]\u001b[0m Trial 58 finished with value: 3.0445255589916096 and parameters: {'reg_lambda': 0.01786455069544217, 'reg_alpha': 1.6246507968683166, 'colsample_bytree': 0.8, 'subsample': 0.6, 'learning_rate': 0.02218174180416379, 'max_depth': 29, 'min_child_weight': 19}. Best is trial 37 with value: 0.15030750853234998.\u001b[0m\n"
          ],
          "name": "stderr"
        },
        {
          "output_type": "stream",
          "text": [
            "[100]\tvalid_0's l1: 3.05622\n",
            "Did not meet early stopping. Best iteration is:\n",
            "[100]\tvalid_0's l1: 3.05622\n",
            "[LightGBM] [Warning] Accuracy may be bad since you didn't set num_leaves and 2^max_depth > num_leaves\n",
            "Training until validation scores don't improve for 50 rounds.\n",
            "[100]\tvalid_0's l1: 23.4679\n",
            "Did not meet early stopping. Best iteration is:\n",
            "[100]\tvalid_0's l1: 23.4679\n",
            "[LightGBM] [Warning] Accuracy may be bad since you didn't set num_leaves and 2^max_depth > num_leaves\n",
            "Training until validation scores don't improve for 50 rounds.\n",
            "[100]\tvalid_0's l1: 22.6718\n",
            "Did not meet early stopping. Best iteration is:\n",
            "[100]\tvalid_0's l1: 22.6718\n",
            "[LightGBM] [Warning] Accuracy may be bad since you didn't set num_leaves and 2^max_depth > num_leaves\n",
            "Training until validation scores don't improve for 50 rounds.\n",
            "[100]\tvalid_0's l1: 23.4086\n",
            "Did not meet early stopping. Best iteration is:\n",
            "[100]\tvalid_0's l1: 23.4086\n",
            "[LightGBM] [Warning] Accuracy may be bad since you didn't set num_leaves and 2^max_depth > num_leaves\n",
            "Training until validation scores don't improve for 50 rounds.\n",
            "[100]\tvalid_0's l1: 23.2134\n",
            "Did not meet early stopping. Best iteration is:\n",
            "[100]\tvalid_0's l1: 23.2134\n",
            "[LightGBM] [Warning] Accuracy may be bad since you didn't set num_leaves and 2^max_depth > num_leaves\n",
            "Training until validation scores don't improve for 50 rounds.\n",
            "[100]\tvalid_0's l1: 22.7374\n",
            "Did not meet early stopping. Best iteration is:\n",
            "[100]\tvalid_0's l1: 22.7374\n",
            "[LightGBM] [Warning] Accuracy may be bad since you didn't set num_leaves and 2^max_depth > num_leaves\n",
            "Training until validation scores don't improve for 50 rounds.\n",
            "[100]\tvalid_0's l1: 22.606\n",
            "Did not meet early stopping. Best iteration is:\n",
            "[100]\tvalid_0's l1: 22.606\n",
            "[LightGBM] [Warning] Accuracy may be bad since you didn't set num_leaves and 2^max_depth > num_leaves\n",
            "Training until validation scores don't improve for 50 rounds.\n",
            "[100]\tvalid_0's l1: 22.9019\n",
            "Did not meet early stopping. Best iteration is:\n",
            "[100]\tvalid_0's l1: 22.9019\n",
            "[LightGBM] [Warning] Accuracy may be bad since you didn't set num_leaves and 2^max_depth > num_leaves\n",
            "Training until validation scores don't improve for 50 rounds.\n",
            "[100]\tvalid_0's l1: 22.5311\n",
            "Did not meet early stopping. Best iteration is:\n",
            "[100]\tvalid_0's l1: 22.5311\n",
            "[LightGBM] [Warning] Accuracy may be bad since you didn't set num_leaves and 2^max_depth > num_leaves\n",
            "Training until validation scores don't improve for 50 rounds.\n",
            "[100]\tvalid_0's l1: 23.051\n",
            "Did not meet early stopping. Best iteration is:\n",
            "[100]\tvalid_0's l1: 23.051\n",
            "[LightGBM] [Warning] Accuracy may be bad since you didn't set num_leaves and 2^max_depth > num_leaves\n",
            "Training until validation scores don't improve for 50 rounds.\n"
          ],
          "name": "stdout"
        },
        {
          "output_type": "stream",
          "text": [
            "\u001b[32m[I 2021-06-30 17:52:12,384]\u001b[0m Trial 59 finished with value: 22.96017771922102 and parameters: {'reg_lambda': 0.07118034710737667, 'reg_alpha': 9.573820044614447, 'colsample_bytree': 1.0, 'subsample': 0.6, 'learning_rate': 0.0015585047337306943, 'max_depth': 19, 'min_child_weight': 14}. Best is trial 37 with value: 0.15030750853234998.\u001b[0m\n"
          ],
          "name": "stderr"
        },
        {
          "output_type": "stream",
          "text": [
            "[100]\tvalid_0's l1: 23.0126\n",
            "Did not meet early stopping. Best iteration is:\n",
            "[100]\tvalid_0's l1: 23.0126\n",
            "[LightGBM] [Warning] Accuracy may be bad since you didn't set num_leaves and 2^max_depth > num_leaves\n",
            "Training until validation scores don't improve for 50 rounds.\n",
            "[100]\tvalid_0's l1: 0.22747\n",
            "Did not meet early stopping. Best iteration is:\n",
            "[100]\tvalid_0's l1: 0.22747\n",
            "[LightGBM] [Warning] Accuracy may be bad since you didn't set num_leaves and 2^max_depth > num_leaves\n",
            "Training until validation scores don't improve for 50 rounds.\n",
            "[100]\tvalid_0's l1: 0.233633\n",
            "Did not meet early stopping. Best iteration is:\n",
            "[100]\tvalid_0's l1: 0.233633\n",
            "[LightGBM] [Warning] Accuracy may be bad since you didn't set num_leaves and 2^max_depth > num_leaves\n",
            "Training until validation scores don't improve for 50 rounds.\n",
            "[100]\tvalid_0's l1: 0.232844\n",
            "Did not meet early stopping. Best iteration is:\n",
            "[100]\tvalid_0's l1: 0.232844\n",
            "[LightGBM] [Warning] Accuracy may be bad since you didn't set num_leaves and 2^max_depth > num_leaves\n",
            "Training until validation scores don't improve for 50 rounds.\n",
            "[100]\tvalid_0's l1: 0.251092\n",
            "Did not meet early stopping. Best iteration is:\n",
            "[100]\tvalid_0's l1: 0.251092\n",
            "[LightGBM] [Warning] Accuracy may be bad since you didn't set num_leaves and 2^max_depth > num_leaves\n",
            "Training until validation scores don't improve for 50 rounds.\n",
            "[100]\tvalid_0's l1: 0.229077\n",
            "Did not meet early stopping. Best iteration is:\n",
            "[100]\tvalid_0's l1: 0.229077\n",
            "[LightGBM] [Warning] Accuracy may be bad since you didn't set num_leaves and 2^max_depth > num_leaves\n",
            "Training until validation scores don't improve for 50 rounds.\n",
            "[100]\tvalid_0's l1: 0.252772\n",
            "Did not meet early stopping. Best iteration is:\n",
            "[100]\tvalid_0's l1: 0.252772\n",
            "[LightGBM] [Warning] Accuracy may be bad since you didn't set num_leaves and 2^max_depth > num_leaves\n",
            "Training until validation scores don't improve for 50 rounds.\n",
            "[100]\tvalid_0's l1: 0.236849\n",
            "Did not meet early stopping. Best iteration is:\n",
            "[100]\tvalid_0's l1: 0.236849\n",
            "[LightGBM] [Warning] Accuracy may be bad since you didn't set num_leaves and 2^max_depth > num_leaves\n",
            "Training until validation scores don't improve for 50 rounds.\n",
            "[100]\tvalid_0's l1: 0.224313\n",
            "Did not meet early stopping. Best iteration is:\n",
            "[100]\tvalid_0's l1: 0.224313\n",
            "[LightGBM] [Warning] Accuracy may be bad since you didn't set num_leaves and 2^max_depth > num_leaves\n",
            "Training until validation scores don't improve for 50 rounds.\n",
            "[100]\tvalid_0's l1: 0.228862\n",
            "Did not meet early stopping. Best iteration is:\n",
            "[100]\tvalid_0's l1: 0.228862\n",
            "[LightGBM] [Warning] Accuracy may be bad since you didn't set num_leaves and 2^max_depth > num_leaves\n",
            "Training until validation scores don't improve for 50 rounds.\n"
          ],
          "name": "stdout"
        },
        {
          "output_type": "stream",
          "text": [
            "\u001b[32m[I 2021-06-30 17:52:14,642]\u001b[0m Trial 60 finished with value: 0.23426940382835837 and parameters: {'reg_lambda': 0.026198053885702306, 'reg_alpha': 3.7838331696776355, 'colsample_bytree': 1.0, 'subsample': 0.6, 'learning_rate': 0.04987437942076064, 'max_depth': 23, 'min_child_weight': 46}. Best is trial 37 with value: 0.15030750853234998.\u001b[0m\n"
          ],
          "name": "stderr"
        },
        {
          "output_type": "stream",
          "text": [
            "[100]\tvalid_0's l1: 0.225781\n",
            "Did not meet early stopping. Best iteration is:\n",
            "[100]\tvalid_0's l1: 0.225781\n",
            "Training until validation scores don't improve for 50 rounds.\n",
            "[100]\tvalid_0's l1: 0.150134\n",
            "Did not meet early stopping. Best iteration is:\n",
            "[100]\tvalid_0's l1: 0.150134\n",
            "Training until validation scores don't improve for 50 rounds.\n",
            "[100]\tvalid_0's l1: 0.149658\n",
            "Did not meet early stopping. Best iteration is:\n",
            "[98]\tvalid_0's l1: 0.149653\n",
            "Training until validation scores don't improve for 50 rounds.\n",
            "[100]\tvalid_0's l1: 0.156699\n",
            "Did not meet early stopping. Best iteration is:\n",
            "[100]\tvalid_0's l1: 0.156699\n",
            "Training until validation scores don't improve for 50 rounds.\n",
            "[100]\tvalid_0's l1: 0.161924\n",
            "Did not meet early stopping. Best iteration is:\n",
            "[100]\tvalid_0's l1: 0.161924\n",
            "Training until validation scores don't improve for 50 rounds.\n",
            "[100]\tvalid_0's l1: 0.147559\n",
            "Did not meet early stopping. Best iteration is:\n",
            "[100]\tvalid_0's l1: 0.147559\n",
            "Training until validation scores don't improve for 50 rounds.\n",
            "[100]\tvalid_0's l1: 0.160151\n",
            "Did not meet early stopping. Best iteration is:\n",
            "[98]\tvalid_0's l1: 0.1601\n",
            "Training until validation scores don't improve for 50 rounds.\n",
            "[100]\tvalid_0's l1: 0.153771\n",
            "Did not meet early stopping. Best iteration is:\n",
            "[100]\tvalid_0's l1: 0.153771\n",
            "Training until validation scores don't improve for 50 rounds.\n"
          ],
          "name": "stdout"
        },
        {
          "output_type": "error",
          "ename": "KeyboardInterrupt",
          "evalue": "ignored",
          "traceback": [
            "\u001b[0;31m---------------------------------------------------------------------------\u001b[0m",
            "\u001b[0;31mKeyboardInterrupt\u001b[0m                         Traceback (most recent call last)",
            "\u001b[0;32m/tmp/ipykernel_768/649218852.py\u001b[0m in \u001b[0;36m<module>\u001b[0;34m\u001b[0m\n\u001b[1;32m      1\u001b[0m \u001b[0mstudy\u001b[0m \u001b[0;34m=\u001b[0m \u001b[0moptuna\u001b[0m\u001b[0;34m.\u001b[0m\u001b[0mcreate_study\u001b[0m\u001b[0;34m(\u001b[0m\u001b[0mdirection\u001b[0m\u001b[0;34m=\u001b[0m\u001b[0;34m'minimize'\u001b[0m\u001b[0;34m)\u001b[0m\u001b[0;34m\u001b[0m\u001b[0;34m\u001b[0m\u001b[0m\n\u001b[0;32m----> 2\u001b[0;31m \u001b[0mstudy\u001b[0m\u001b[0;34m.\u001b[0m\u001b[0moptimize\u001b[0m\u001b[0;34m(\u001b[0m\u001b[0mobjective\u001b[0m\u001b[0;34m,\u001b[0m \u001b[0mn_trials\u001b[0m\u001b[0;34m=\u001b[0m\u001b[0;36m300\u001b[0m\u001b[0;34m)\u001b[0m\u001b[0;34m\u001b[0m\u001b[0;34m\u001b[0m\u001b[0m\n\u001b[0m\u001b[1;32m      3\u001b[0m \u001b[0mprint\u001b[0m\u001b[0;34m(\u001b[0m\u001b[0;34m'Number of finished trials:'\u001b[0m\u001b[0;34m,\u001b[0m \u001b[0mlen\u001b[0m\u001b[0;34m(\u001b[0m\u001b[0mstudy\u001b[0m\u001b[0;34m.\u001b[0m\u001b[0mtrials\u001b[0m\u001b[0;34m)\u001b[0m\u001b[0;34m)\u001b[0m\u001b[0;34m\u001b[0m\u001b[0;34m\u001b[0m\u001b[0m\n\u001b[1;32m      4\u001b[0m \u001b[0mprint\u001b[0m\u001b[0;34m(\u001b[0m\u001b[0;34m'Best trial:'\u001b[0m\u001b[0;34m,\u001b[0m \u001b[0mstudy\u001b[0m\u001b[0;34m.\u001b[0m\u001b[0mbest_trial\u001b[0m\u001b[0;34m.\u001b[0m\u001b[0mparams\u001b[0m\u001b[0;34m)\u001b[0m\u001b[0;34m\u001b[0m\u001b[0;34m\u001b[0m\u001b[0m\n",
            "\u001b[0;32m/usr/local/lib/python3.7/dist-packages/optuna/study.py\u001b[0m in \u001b[0;36moptimize\u001b[0;34m(self, func, n_trials, timeout, n_jobs, catch, callbacks, gc_after_trial, show_progress_bar)\u001b[0m\n\u001b[1;32m    408\u001b[0m             \u001b[0mcallbacks\u001b[0m\u001b[0;34m=\u001b[0m\u001b[0mcallbacks\u001b[0m\u001b[0;34m,\u001b[0m\u001b[0;34m\u001b[0m\u001b[0;34m\u001b[0m\u001b[0m\n\u001b[1;32m    409\u001b[0m             \u001b[0mgc_after_trial\u001b[0m\u001b[0;34m=\u001b[0m\u001b[0mgc_after_trial\u001b[0m\u001b[0;34m,\u001b[0m\u001b[0;34m\u001b[0m\u001b[0;34m\u001b[0m\u001b[0m\n\u001b[0;32m--> 410\u001b[0;31m             \u001b[0mshow_progress_bar\u001b[0m\u001b[0;34m=\u001b[0m\u001b[0mshow_progress_bar\u001b[0m\u001b[0;34m,\u001b[0m\u001b[0;34m\u001b[0m\u001b[0;34m\u001b[0m\u001b[0m\n\u001b[0m\u001b[1;32m    411\u001b[0m         )\n\u001b[1;32m    412\u001b[0m \u001b[0;34m\u001b[0m\u001b[0m\n",
            "\u001b[0;32m/usr/local/lib/python3.7/dist-packages/optuna/_optimize.py\u001b[0m in \u001b[0;36m_optimize\u001b[0;34m(study, func, n_trials, timeout, n_jobs, catch, callbacks, gc_after_trial, show_progress_bar)\u001b[0m\n\u001b[1;32m     73\u001b[0m                 \u001b[0mreseed_sampler_rng\u001b[0m\u001b[0;34m=\u001b[0m\u001b[0;32mFalse\u001b[0m\u001b[0;34m,\u001b[0m\u001b[0;34m\u001b[0m\u001b[0;34m\u001b[0m\u001b[0m\n\u001b[1;32m     74\u001b[0m                 \u001b[0mtime_start\u001b[0m\u001b[0;34m=\u001b[0m\u001b[0;32mNone\u001b[0m\u001b[0;34m,\u001b[0m\u001b[0;34m\u001b[0m\u001b[0;34m\u001b[0m\u001b[0m\n\u001b[0;32m---> 75\u001b[0;31m                 \u001b[0mprogress_bar\u001b[0m\u001b[0;34m=\u001b[0m\u001b[0mprogress_bar\u001b[0m\u001b[0;34m,\u001b[0m\u001b[0;34m\u001b[0m\u001b[0;34m\u001b[0m\u001b[0m\n\u001b[0m\u001b[1;32m     76\u001b[0m             )\n\u001b[1;32m     77\u001b[0m         \u001b[0;32melse\u001b[0m\u001b[0;34m:\u001b[0m\u001b[0;34m\u001b[0m\u001b[0;34m\u001b[0m\u001b[0m\n",
            "\u001b[0;32m/usr/local/lib/python3.7/dist-packages/optuna/_optimize.py\u001b[0m in \u001b[0;36m_optimize_sequential\u001b[0;34m(study, func, n_trials, timeout, catch, callbacks, gc_after_trial, reseed_sampler_rng, time_start, progress_bar)\u001b[0m\n\u001b[1;32m    160\u001b[0m \u001b[0;34m\u001b[0m\u001b[0m\n\u001b[1;32m    161\u001b[0m         \u001b[0;32mtry\u001b[0m\u001b[0;34m:\u001b[0m\u001b[0;34m\u001b[0m\u001b[0;34m\u001b[0m\u001b[0m\n\u001b[0;32m--> 162\u001b[0;31m             \u001b[0mtrial\u001b[0m \u001b[0;34m=\u001b[0m \u001b[0m_run_trial\u001b[0m\u001b[0;34m(\u001b[0m\u001b[0mstudy\u001b[0m\u001b[0;34m,\u001b[0m \u001b[0mfunc\u001b[0m\u001b[0;34m,\u001b[0m \u001b[0mcatch\u001b[0m\u001b[0;34m)\u001b[0m\u001b[0;34m\u001b[0m\u001b[0;34m\u001b[0m\u001b[0m\n\u001b[0m\u001b[1;32m    163\u001b[0m         \u001b[0;32mexcept\u001b[0m \u001b[0mException\u001b[0m\u001b[0;34m:\u001b[0m\u001b[0;34m\u001b[0m\u001b[0;34m\u001b[0m\u001b[0m\n\u001b[1;32m    164\u001b[0m             \u001b[0;32mraise\u001b[0m\u001b[0;34m\u001b[0m\u001b[0;34m\u001b[0m\u001b[0m\n",
            "\u001b[0;32m/usr/local/lib/python3.7/dist-packages/optuna/_optimize.py\u001b[0m in \u001b[0;36m_run_trial\u001b[0;34m(study, func, catch)\u001b[0m\n\u001b[1;32m    214\u001b[0m \u001b[0;34m\u001b[0m\u001b[0m\n\u001b[1;32m    215\u001b[0m     \u001b[0;32mtry\u001b[0m\u001b[0;34m:\u001b[0m\u001b[0;34m\u001b[0m\u001b[0;34m\u001b[0m\u001b[0m\n\u001b[0;32m--> 216\u001b[0;31m         \u001b[0mvalue_or_values\u001b[0m \u001b[0;34m=\u001b[0m \u001b[0mfunc\u001b[0m\u001b[0;34m(\u001b[0m\u001b[0mtrial\u001b[0m\u001b[0;34m)\u001b[0m\u001b[0;34m\u001b[0m\u001b[0;34m\u001b[0m\u001b[0m\n\u001b[0m\u001b[1;32m    217\u001b[0m     \u001b[0;32mexcept\u001b[0m \u001b[0mexceptions\u001b[0m\u001b[0;34m.\u001b[0m\u001b[0mTrialPruned\u001b[0m \u001b[0;32mas\u001b[0m \u001b[0me\u001b[0m\u001b[0;34m:\u001b[0m\u001b[0;34m\u001b[0m\u001b[0;34m\u001b[0m\u001b[0m\n\u001b[1;32m    218\u001b[0m         \u001b[0;31m# TODO(mamu): Handle multi-objective cases.\u001b[0m\u001b[0;34m\u001b[0m\u001b[0;34m\u001b[0m\u001b[0;34m\u001b[0m\u001b[0m\n",
            "\u001b[0;32m/tmp/ipykernel_768/1011001045.py\u001b[0m in \u001b[0;36mobjective\u001b[0;34m(trial, data, target)\u001b[0m\n\u001b[1;32m     42\u001b[0m \u001b[0;34m\u001b[0m\u001b[0m\n\u001b[1;32m     43\u001b[0m         \u001b[0mmodel\u001b[0m \u001b[0;34m=\u001b[0m \u001b[0mLGBMRegressor\u001b[0m\u001b[0;34m(\u001b[0m\u001b[0mmetric\u001b[0m\u001b[0;34m=\u001b[0m \u001b[0;34m'l1'\u001b[0m\u001b[0;34m,\u001b[0m \u001b[0;34m**\u001b[0m\u001b[0mparam\u001b[0m\u001b[0;34m)\u001b[0m\u001b[0;34m\u001b[0m\u001b[0;34m\u001b[0m\u001b[0m\n\u001b[0;32m---> 44\u001b[0;31m         \u001b[0mmodel\u001b[0m\u001b[0;34m.\u001b[0m\u001b[0mfit\u001b[0m\u001b[0;34m(\u001b[0m\u001b[0mX_tr\u001b[0m\u001b[0;34m,\u001b[0m \u001b[0my_tr\u001b[0m\u001b[0;34m,\u001b[0m\u001b[0meval_set\u001b[0m\u001b[0;34m=\u001b[0m\u001b[0;34m[\u001b[0m\u001b[0;34m(\u001b[0m\u001b[0mX_tst\u001b[0m\u001b[0;34m,\u001b[0m \u001b[0my_tst\u001b[0m\u001b[0;34m)\u001b[0m\u001b[0;34m]\u001b[0m\u001b[0;34m,\u001b[0m \u001b[0mearly_stopping_rounds\u001b[0m\u001b[0;34m=\u001b[0m\u001b[0;36m50\u001b[0m\u001b[0;34m,\u001b[0m\u001b[0mverbose\u001b[0m\u001b[0;34m=\u001b[0m\u001b[0;36m100\u001b[0m\u001b[0;34m)\u001b[0m\u001b[0;34m\u001b[0m\u001b[0;34m\u001b[0m\u001b[0m\n\u001b[0m\u001b[1;32m     45\u001b[0m         \u001b[0;31m#print(r2_score(y_tst, model.predict(X_tst)))\u001b[0m\u001b[0;34m\u001b[0m\u001b[0;34m\u001b[0m\u001b[0;34m\u001b[0m\u001b[0m\n\u001b[1;32m     46\u001b[0m         \u001b[0msubbed\u001b[0m\u001b[0;34m.\u001b[0m\u001b[0mappend\u001b[0m\u001b[0;34m(\u001b[0m\u001b[0mmean_absolute_error\u001b[0m\u001b[0;34m(\u001b[0m\u001b[0my_tst\u001b[0m\u001b[0;34m,\u001b[0m \u001b[0mmodel\u001b[0m\u001b[0;34m.\u001b[0m\u001b[0mpredict\u001b[0m\u001b[0;34m(\u001b[0m\u001b[0mX_tst\u001b[0m\u001b[0;34m)\u001b[0m\u001b[0;34m)\u001b[0m\u001b[0;34m)\u001b[0m\u001b[0;34m\u001b[0m\u001b[0;34m\u001b[0m\u001b[0m\n",
            "\u001b[0;32m/usr/local/lib/python3.7/dist-packages/lightgbm/sklearn.py\u001b[0m in \u001b[0;36mfit\u001b[0;34m(self, X, y, sample_weight, init_score, eval_set, eval_names, eval_sample_weight, eval_init_score, eval_metric, early_stopping_rounds, verbose, feature_name, categorical_feature, callbacks)\u001b[0m\n\u001b[1;32m    683\u001b[0m                                        \u001b[0mverbose\u001b[0m\u001b[0;34m=\u001b[0m\u001b[0mverbose\u001b[0m\u001b[0;34m,\u001b[0m \u001b[0mfeature_name\u001b[0m\u001b[0;34m=\u001b[0m\u001b[0mfeature_name\u001b[0m\u001b[0;34m,\u001b[0m\u001b[0;34m\u001b[0m\u001b[0;34m\u001b[0m\u001b[0m\n\u001b[1;32m    684\u001b[0m                                        \u001b[0mcategorical_feature\u001b[0m\u001b[0;34m=\u001b[0m\u001b[0mcategorical_feature\u001b[0m\u001b[0;34m,\u001b[0m\u001b[0;34m\u001b[0m\u001b[0;34m\u001b[0m\u001b[0m\n\u001b[0;32m--> 685\u001b[0;31m                                        callbacks=callbacks)\n\u001b[0m\u001b[1;32m    686\u001b[0m         \u001b[0;32mreturn\u001b[0m \u001b[0mself\u001b[0m\u001b[0;34m\u001b[0m\u001b[0;34m\u001b[0m\u001b[0m\n\u001b[1;32m    687\u001b[0m \u001b[0;34m\u001b[0m\u001b[0m\n",
            "\u001b[0;32m/usr/local/lib/python3.7/dist-packages/lightgbm/sklearn.py\u001b[0m in \u001b[0;36mfit\u001b[0;34m(self, X, y, sample_weight, init_score, group, eval_set, eval_names, eval_sample_weight, eval_class_weight, eval_init_score, eval_group, eval_metric, early_stopping_rounds, verbose, feature_name, categorical_feature, callbacks)\u001b[0m\n\u001b[1;32m    542\u001b[0m                               \u001b[0mverbose_eval\u001b[0m\u001b[0;34m=\u001b[0m\u001b[0mverbose\u001b[0m\u001b[0;34m,\u001b[0m \u001b[0mfeature_name\u001b[0m\u001b[0;34m=\u001b[0m\u001b[0mfeature_name\u001b[0m\u001b[0;34m,\u001b[0m\u001b[0;34m\u001b[0m\u001b[0;34m\u001b[0m\u001b[0m\n\u001b[1;32m    543\u001b[0m                               \u001b[0mcategorical_feature\u001b[0m\u001b[0;34m=\u001b[0m\u001b[0mcategorical_feature\u001b[0m\u001b[0;34m,\u001b[0m\u001b[0;34m\u001b[0m\u001b[0;34m\u001b[0m\u001b[0m\n\u001b[0;32m--> 544\u001b[0;31m                               callbacks=callbacks)\n\u001b[0m\u001b[1;32m    545\u001b[0m \u001b[0;34m\u001b[0m\u001b[0m\n\u001b[1;32m    546\u001b[0m         \u001b[0;32mif\u001b[0m \u001b[0mevals_result\u001b[0m\u001b[0;34m:\u001b[0m\u001b[0;34m\u001b[0m\u001b[0;34m\u001b[0m\u001b[0m\n",
            "\u001b[0;32m/usr/local/lib/python3.7/dist-packages/lightgbm/engine.py\u001b[0m in \u001b[0;36mtrain\u001b[0;34m(params, train_set, num_boost_round, valid_sets, valid_names, fobj, feval, init_model, feature_name, categorical_feature, early_stopping_rounds, evals_result, verbose_eval, learning_rates, keep_training_booster, callbacks)\u001b[0m\n\u001b[1;32m    216\u001b[0m                                     evaluation_result_list=None))\n\u001b[1;32m    217\u001b[0m \u001b[0;34m\u001b[0m\u001b[0m\n\u001b[0;32m--> 218\u001b[0;31m         \u001b[0mbooster\u001b[0m\u001b[0;34m.\u001b[0m\u001b[0mupdate\u001b[0m\u001b[0;34m(\u001b[0m\u001b[0mfobj\u001b[0m\u001b[0;34m=\u001b[0m\u001b[0mfobj\u001b[0m\u001b[0;34m)\u001b[0m\u001b[0;34m\u001b[0m\u001b[0;34m\u001b[0m\u001b[0m\n\u001b[0m\u001b[1;32m    219\u001b[0m \u001b[0;34m\u001b[0m\u001b[0m\n\u001b[1;32m    220\u001b[0m         \u001b[0mevaluation_result_list\u001b[0m \u001b[0;34m=\u001b[0m \u001b[0;34m[\u001b[0m\u001b[0;34m]\u001b[0m\u001b[0;34m\u001b[0m\u001b[0;34m\u001b[0m\u001b[0m\n",
            "\u001b[0;32m/usr/local/lib/python3.7/dist-packages/lightgbm/basic.py\u001b[0m in \u001b[0;36mupdate\u001b[0;34m(self, train_set, fobj)\u001b[0m\n\u001b[1;32m   1800\u001b[0m             _safe_call(_LIB.LGBM_BoosterUpdateOneIter(\n\u001b[1;32m   1801\u001b[0m                 \u001b[0mself\u001b[0m\u001b[0;34m.\u001b[0m\u001b[0mhandle\u001b[0m\u001b[0;34m,\u001b[0m\u001b[0;34m\u001b[0m\u001b[0;34m\u001b[0m\u001b[0m\n\u001b[0;32m-> 1802\u001b[0;31m                 ctypes.byref(is_finished)))\n\u001b[0m\u001b[1;32m   1803\u001b[0m             \u001b[0mself\u001b[0m\u001b[0;34m.\u001b[0m\u001b[0m__is_predicted_cur_iter\u001b[0m \u001b[0;34m=\u001b[0m \u001b[0;34m[\u001b[0m\u001b[0;32mFalse\u001b[0m \u001b[0;32mfor\u001b[0m \u001b[0m_\u001b[0m \u001b[0;32min\u001b[0m \u001b[0mrange_\u001b[0m\u001b[0;34m(\u001b[0m\u001b[0mself\u001b[0m\u001b[0;34m.\u001b[0m\u001b[0m__num_dataset\u001b[0m\u001b[0;34m)\u001b[0m\u001b[0;34m]\u001b[0m\u001b[0;34m\u001b[0m\u001b[0;34m\u001b[0m\u001b[0m\n\u001b[1;32m   1804\u001b[0m             \u001b[0;32mreturn\u001b[0m \u001b[0mis_finished\u001b[0m\u001b[0;34m.\u001b[0m\u001b[0mvalue\u001b[0m \u001b[0;34m==\u001b[0m \u001b[0;36m1\u001b[0m\u001b[0;34m\u001b[0m\u001b[0;34m\u001b[0m\u001b[0m\n",
            "\u001b[0;31mKeyboardInterrupt\u001b[0m: "
          ]
        }
      ]
    },
    {
      "cell_type": "code",
      "metadata": {
        "id": "404Kxk4WZRaU"
      },
      "source": [
        "study.best_params"
      ],
      "execution_count": null,
      "outputs": []
    },
    {
      "cell_type": "code",
      "metadata": {
        "id": "NIDSfu9pWvNj"
      },
      "source": [
        "train_x, test_x, train_y, test_y = train_test_split(X, y, test_size=0.15,random_state=42)"
      ],
      "execution_count": null,
      "outputs": []
    },
    {
      "cell_type": "code",
      "metadata": {
        "colab": {
          "base_uri": "https://localhost:8080/"
        },
        "id": "e_g1sf0IHrBJ",
        "outputId": "fcef0065-cdbd-48d4-fecc-03e4dcdef87e"
      },
      "source": [
        "models = [XGBRegressor(eval_metric='mae'), CatBoostRegressor(verbose = 0), LGBMRegressor(), LinearRegression(normalize=True), Ridge(normalize=True, max_iter=1000), Lasso(normalize=True)]\n",
        "for model in models:\n",
        "    model.fit(train_x, train_y)\n",
        "    pred = model.predict(test_x)\n",
        "    print('For model', model, 'score is: ', mean_absolute_error(test_y, model.predict(test_x)))"
      ],
      "execution_count": null,
      "outputs": [
        {
          "output_type": "stream",
          "text": [
            "[17:12:52] WARNING: /workspace/src/objective/regression_obj.cu:152: reg:linear is now deprecated in favor of reg:squarederror.\n",
            "For model XGBRegressor(base_score=0.5, booster='gbtree', colsample_bylevel=1,\n",
            "             colsample_bynode=1, colsample_bytree=1, eval_metric='mae', gamma=0,\n",
            "             importance_type='gain', learning_rate=0.1, max_delta_step=0,\n",
            "             max_depth=3, min_child_weight=1, missing=None, n_estimators=100,\n",
            "             n_jobs=1, nthread=None, objective='reg:linear', random_state=0,\n",
            "             reg_alpha=0, reg_lambda=1, scale_pos_weight=1, seed=None,\n",
            "             silent=None, subsample=1, verbosity=1) score is:  0.19211153240280107\n",
            "For model <catboost.core.CatBoostRegressor object at 0x7faef9c3f1d0> score is:  0.24482232927531647\n",
            "For model LGBMRegressor(boosting_type='gbdt', class_weight=None, colsample_bytree=1.0,\n",
            "              importance_type='split', learning_rate=0.1, max_depth=-1,\n",
            "              min_child_samples=20, min_child_weight=0.001, min_split_gain=0.0,\n",
            "              n_estimators=100, n_jobs=-1, num_leaves=31, objective=None,\n",
            "              random_state=None, reg_alpha=0.0, reg_lambda=0.0, silent=True,\n",
            "              subsample=1.0, subsample_for_bin=200000, subsample_freq=0) score is:  0.1466215167885956\n",
            "For model LinearRegression(copy_X=True, fit_intercept=True, n_jobs=None, normalize=True) score is:  0.18475321687045532\n",
            "For model Ridge(alpha=1.0, copy_X=True, fit_intercept=True, max_iter=1000, normalize=True,\n",
            "      random_state=None, solver='auto', tol=0.001) score is:  4.23671754362563\n",
            "For model Lasso(alpha=1.0, copy_X=True, fit_intercept=True, max_iter=1000, normalize=True,\n",
            "      positive=False, precompute=False, random_state=None, selection='cyclic',\n",
            "      tol=0.0001, warm_start=False) score is:  27.32650438624427\n"
          ],
          "name": "stdout"
        }
      ]
    },
    {
      "cell_type": "code",
      "metadata": {
        "id": "cm2xpsaYHq-n"
      },
      "source": [
        "sc = StandardScaler()\n",
        "sc.fit(X_train)\n",
        "X_train= sc.transform(X_train)\n",
        "X_test= sc.transform(X_test)"
      ],
      "execution_count": null,
      "outputs": []
    },
    {
      "cell_type": "code",
      "metadata": {
        "id": "7eDpejtkHq8U"
      },
      "source": [
        "def objective(trial,data=X,target=y):\n",
        "    \n",
        "    train_x, test_x, train_y, test_y = train_test_split(data, target, test_size=0.15,random_state=42)\n",
        "    \n",
        "    # To select which parameters to optimize, please look at the XGBoost documentation:\n",
        "    # https://xgboost.readthedocs.io/en/latest/parameter.html\n",
        "    param = {\n",
        "        #'objective': 'regression',\n",
        "        #'tree_method':'gpu_hist',  # Use GPU acceleration\n",
        "        'max_features': trial.suggest_categorical('max_features', ['auto', 'sqrt', 'log2', 'None']),\n",
        "        'max_depth': trial.suggest_int(\n",
        "            'max_depth', 2,50\n",
        "        ),\n",
        "        'random_state': 2021\n",
        "    }\n",
        "    n_folds = 10\n",
        "    subbed = []\n",
        "    kf = KFold(n_splits=n_folds, shuffle=True, random_state=10)\n",
        "\n",
        "\n",
        "    for fold, (train_idx, test_idx) in enumerate(kf.split(train_x, train_y)):\n",
        "        #print('=============== Fold No:',fold+1,'===============')\n",
        "        X_tr, X_tst = train_x.iloc[train_idx], train_x.iloc[test_idx]\n",
        "        y_tr, y_tst = train_y.iloc[train_idx], train_y.iloc[test_idx]\n",
        "    \n",
        "        model = RandomForestRegressor(**param, verbose=0, criterion='mae', n_estimators=5)\n",
        "        model.fit(X_tr, y_tr)\n",
        "        #print(r2_score(y_tst, model.predict(X_tst)))\n",
        "        subbed.append(mean_absolute_error(y_tst, model.predict(X_tst)))\n",
        "        #pred = model.predict(X_test)\n",
        "    return (np.mean(subbed))"
      ],
      "execution_count": null,
      "outputs": []
    },
    {
      "cell_type": "code",
      "metadata": {
        "colab": {
          "base_uri": "https://localhost:8080/"
        },
        "id": "VfdZfZNxHq40",
        "outputId": "bb759959-7e03-44de-b285-8f24dcab766a"
      },
      "source": [
        "study_rfc = optuna.create_study(direction='minimize')\n",
        "study_rfc.optimize(objective, n_trials=300)\n",
        "print('Number of finished trials:', len(study.trials))\n",
        "print('Best trial:', study.best_trial.params)"
      ],
      "execution_count": null,
      "outputs": [
        {
          "output_type": "stream",
          "text": [
            "\u001b[32m[I 2021-06-30 10:25:03,806]\u001b[0m A new study created in memory with name: no-name-a4b2ebaa-9bc9-459e-97ea-a08ef6f7e1e2\u001b[0m\n"
          ],
          "name": "stderr"
        }
      ]
    },
    {
      "cell_type": "code",
      "metadata": {
        "colab": {
          "base_uri": "https://localhost:8080/"
        },
        "id": "6PjqDvC9HqYX",
        "outputId": "64ab782a-db50-42b8-9c65-908ffb56b1ee"
      },
      "source": [
        "mod = RandomForestRegressor(criterion='mae', n_estimators=10, verbose=1, n_jobs=-1)\n",
        "mod.fit(train_x, train_y)\n",
        "print(mean_absolute_error(test_y, mod.predict(test_x)))"
      ],
      "execution_count": null,
      "outputs": [
        {
          "output_type": "stream",
          "text": [
            "[Parallel(n_jobs=-1)]: Using backend ThreadingBackend with 2 concurrent workers.\n"
          ],
          "name": "stderr"
        },
        {
          "output_type": "stream",
          "text": [
            "0.11075368850309232\n"
          ],
          "name": "stdout"
        },
        {
          "output_type": "stream",
          "text": [
            "[Parallel(n_jobs=-1)]: Done  10 out of  10 | elapsed:   20.2s finished\n",
            "[Parallel(n_jobs=2)]: Using backend ThreadingBackend with 2 concurrent workers.\n",
            "[Parallel(n_jobs=2)]: Done  10 out of  10 | elapsed:    0.0s finished\n"
          ],
          "name": "stderr"
        }
      ]
    },
    {
      "cell_type": "code",
      "metadata": {
        "id": "gNg5Rh8pHqQ9"
      },
      "source": [
        "3948"
      ],
      "execution_count": null,
      "outputs": []
    },
    {
      "cell_type": "code",
      "metadata": {
        "id": "KNSd7az_HqOK"
      },
      "source": [
        ""
      ],
      "execution_count": null,
      "outputs": []
    },
    {
      "cell_type": "code",
      "metadata": {
        "id": "C7vpi9pNHqLc"
      },
      "source": [
        ""
      ],
      "execution_count": null,
      "outputs": []
    },
    {
      "cell_type": "code",
      "metadata": {
        "id": "A-J082mJFjed"
      },
      "source": [
        "sub = pd.DataFrame()\n",
        "sub['ID'] = ids\n",
        "sub['Target'] = pred\n",
        "sub.to_csv('xgb_base1.csv', index= False)"
      ],
      "execution_count": null,
      "outputs": []
    },
    {
      "cell_type": "code",
      "metadata": {
        "id": "sQG-JKNrGMhi"
      },
      "source": [
        ""
      ],
      "execution_count": null,
      "outputs": []
    }
  ]
}